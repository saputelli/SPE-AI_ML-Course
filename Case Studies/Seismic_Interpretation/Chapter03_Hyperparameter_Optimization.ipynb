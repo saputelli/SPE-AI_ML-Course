{
 "cells": [
  {
   "cell_type": "markdown",
   "metadata": {},
   "source": [
    "Hyper-parameter Optimization\n",
    "--------------------------------------------"
   ]
  },
  {
   "cell_type": "markdown",
   "metadata": {},
   "source": [
    "Install Python library Hyperopt using either of the two commands:\n",
    "- conda install -c conda-forge hyperopt\n",
    "- pip install hyperopt"
   ]
  },
  {
   "cell_type": "markdown",
   "metadata": {},
   "source": [
    "### Load required libraries"
   ]
  },
  {
   "cell_type": "code",
   "execution_count": 1,
   "metadata": {},
   "outputs": [],
   "source": [
    "RAND_SEED = 12345\n",
    "import numpy as np\n",
    "np.random.seed(RAND_SEED)\n",
    "import random\n",
    "random.seed(RAND_SEED)\n",
    "\n",
    "import pandas as pd\n",
    "from hyperopt import fmin, tpe, hp, Trials\n",
    "\n",
    "from sklearn.preprocessing import MinMaxScaler\n",
    "from sklearn.metrics import accuracy_score\n",
    "from sklearn.metrics import confusion_matrix\n",
    "from sklearn.metrics import classification_report\n",
    "from sklearn.model_selection import train_test_split\n",
    "from sklearn.model_selection import cross_val_score\n",
    "from sklearn.svm import SVC"
   ]
  },
  {
   "cell_type": "markdown",
   "metadata": {},
   "source": [
    "### Read and prepare data"
   ]
  },
  {
   "cell_type": "code",
   "execution_count": 2,
   "metadata": {},
   "outputs": [],
   "source": [
    "# import the .csv file as a dataframe - Raw Data File\n",
    "df = pd.read_csv('./data/Lithotype_Data.csv')\n",
    "X = df.iloc[:, :-1]\n",
    "scaler = MinMaxScaler()\n",
    "X = scaler.fit_transform(X)\n",
    "y = df.iloc[:, -1]\n",
    "\n",
    "TEST_FRAC = 0.25\n",
    "X_train, X_test, y_train, y_test = train_test_split(\n",
    "    X, y, test_size=TEST_FRAC, random_state=RAND_SEED)"
   ]
  },
  {
   "cell_type": "markdown",
   "metadata": {},
   "source": [
    "### Create a baseline SVC model"
   ]
  },
  {
   "cell_type": "code",
   "execution_count": 3,
   "metadata": {
    "scrolled": true
   },
   "outputs": [
    {
     "name": "stdout",
     "output_type": "stream",
     "text": [
      "Classification Accuracy Score: 0.8621700879765396\n",
      "Confusion Matrix: \n",
      " [[ 59  17   3]\n",
      " [ 14 110   3]\n",
      " [  2   8 125]]\n",
      "Classification Report: \n",
      "                  precision    recall  f1-score   support\n",
      "\n",
      "     F-MOUTHBAR       0.79      0.75      0.77        79\n",
      "    F-TIDAL BAR       0.81      0.87      0.84       127\n",
      "F-TIDAL CHANNEL       0.95      0.93      0.94       135\n",
      "\n",
      "       accuracy                           0.86       341\n",
      "      macro avg       0.85      0.85      0.85       341\n",
      "   weighted avg       0.86      0.86      0.86       341\n",
      "\n"
     ]
    }
   ],
   "source": [
    "def clf_metrics(test, pred):\n",
    "    # This function returns basic metrics for classification models.\n",
    "    print('Classification Accuracy Score:', accuracy_score(test, pred))\n",
    "    print('Confusion Matrix: \\n', confusion_matrix(test, pred))\n",
    "    print('Classification Report: \\n', classification_report(test, pred))\n",
    "\n",
    "svc = SVC()\n",
    "svc.fit(X_train, y_train)\n",
    "# Prediction on test data\n",
    "y_pred = svc.predict(X_test)\n",
    "# Accuracy Metrics\n",
    "clf_metrics(y_test, y_pred)"
   ]
  },
  {
   "cell_type": "markdown",
   "metadata": {},
   "source": [
    "### Search for hyper-parameters using Hyperopt"
   ]
  },
  {
   "cell_type": "code",
   "execution_count": 4,
   "metadata": {},
   "outputs": [
    {
     "name": "stdout",
     "output_type": "stream",
     "text": [
      "100%|██████████| 50/50 [00:11<00:00,  4.39it/s, best loss: -0.9490769966523194]\n",
      "{'C': 1751.5444736790396, 'degree': 11, 'gamma': 5.899864955354083, 'kernel': 0}\n"
     ]
    }
   ],
   "source": [
    "def objective(params):\n",
    "    svc = SVC(**params)\n",
    "    return -1. * cross_val_score(svc, X_train, y_train).mean()\n",
    "\n",
    "kernels = ['rbf','poly','rbf','sigmoid']\n",
    "space = {'C':hp.lognormal('C', 0, 1),\n",
    "         'kernel':hp.choice('kernel', kernels),\n",
    "         'degree':hp.choice('degree', range(1, 15)),\n",
    "         'gamma':hp.uniform('gamma', 1e-2, 1e2)\n",
    "        }\n",
    " \n",
    "trials = Trials()\n",
    "best_svc = fmin(objective, space, algo=tpe.suggest, max_evals=50, trials=trials)\n",
    "print(best_svc)"
   ]
  },
  {
   "cell_type": "markdown",
   "metadata": {},
   "source": [
    "### Test accuracy of the best SVC model"
   ]
  },
  {
   "cell_type": "code",
   "execution_count": 5,
   "metadata": {},
   "outputs": [
    {
     "name": "stdout",
     "output_type": "stream",
     "text": [
      "Classification Accuracy Score: 0.9618768328445748\n",
      "Confusion Matrix: \n",
      " [[ 78   1   0]\n",
      " [  8 117   2]\n",
      " [  2   0 133]]\n",
      "Classification Report: \n",
      "                  precision    recall  f1-score   support\n",
      "\n",
      "     F-MOUTHBAR       0.89      0.99      0.93        79\n",
      "    F-TIDAL BAR       0.99      0.92      0.96       127\n",
      "F-TIDAL CHANNEL       0.99      0.99      0.99       135\n",
      "\n",
      "       accuracy                           0.96       341\n",
      "      macro avg       0.95      0.96      0.96       341\n",
      "   weighted avg       0.96      0.96      0.96       341\n",
      "\n"
     ]
    }
   ],
   "source": [
    "svc = SVC(C=best_svc['C'], \n",
    "         kernel=kernels[best_svc['kernel']], \n",
    "         degree=best_svc['degree'], \n",
    "         gamma=best_svc['gamma'])\n",
    "svc.fit(X_train, y_train)\n",
    "# Prediction on test data\n",
    "y_pred = svc.predict(X_test)\n",
    "# Accuracy Metrics\n",
    "clf_metrics(y_test, y_pred)"
   ]
  },
  {
   "cell_type": "markdown",
   "metadata": {},
   "source": [
    "### Observation\n",
    "- Hyper-parameter optimization leads to increase in accuracy from 0.86 to 0.96."
   ]
  }
 ],
 "metadata": {
  "kernelspec": {
   "display_name": "Python 3",
   "language": "python",
   "name": "python3"
  },
  "language_info": {
   "codemirror_mode": {
    "name": "ipython",
    "version": 3
   },
   "file_extension": ".py",
   "mimetype": "text/x-python",
   "name": "python",
   "nbconvert_exporter": "python",
   "pygments_lexer": "ipython3",
   "version": "3.7.6"
  }
 },
 "nbformat": 4,
 "nbformat_minor": 2
}
