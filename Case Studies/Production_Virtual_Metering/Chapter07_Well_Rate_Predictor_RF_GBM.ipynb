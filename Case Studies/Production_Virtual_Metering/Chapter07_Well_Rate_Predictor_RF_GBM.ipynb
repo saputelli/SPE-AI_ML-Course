{
 "cells": [
  {
   "cell_type": "code",
   "execution_count": 1,
   "metadata": {},
   "outputs": [],
   "source": [
    "import os\n",
    "import time\n",
    "\n",
    "RAND_SEED = 12345\n",
    "import numpy as np\n",
    "np.random.seed(RAND_SEED)\n",
    "import random\n",
    "random.seed(RAND_SEED)\n",
    "import pandas as pd\n",
    "\n",
    "from sklearn.ensemble import RandomForestRegressor as RF\n",
    "from sklearn.model_selection import train_test_split\n",
    "from matplotlib import pyplot as plt\n",
    "from sklearn.metrics import r2_score\n",
    "from sklearn.preprocessing import MinMaxScaler\n",
    "from sklearn.decomposition import PCA\n",
    "\n",
    "from sklearn import ensemble\n",
    "from sklearn.cluster import DBSCAN"
   ]
  },
  {
   "cell_type": "code",
   "execution_count": 2,
   "metadata": {},
   "outputs": [],
   "source": [
    "# Define directories and file names\n",
    "cwd = os.getcwd()\n",
    "DataFolder = os.path.join(cwd, 'data')\n",
    "InputDataFile = os.path.join(DataFolder, 'Well_Rates.csv')"
   ]
  },
  {
   "cell_type": "code",
   "execution_count": 3,
   "metadata": {},
   "outputs": [],
   "source": [
    "df = pd.read_csv(InputDataFile)"
   ]
  },
  {
   "cell_type": "code",
   "execution_count": 4,
   "metadata": {},
   "outputs": [],
   "source": [
    "# Create input feature and target - comment/uncomment the X,y combination desired\n",
    "X = df[[\"BHP\", \"WHP\", \"WHT\", \"Tsep\", \"Psep\", \"Choke_in\"]]\n",
    "#X = df[[\"WHP\", \"Psep\"]]\n",
    "#X = df[[\"WHP\", \"Psep\", \"Choke_in\"]]\n",
    "#X = df[[\"BHP\", \"WHP\"]]\n",
    "#X = df[[\"BHP\", \"WHP\", \"Choke_in\"]]\n",
    "#X = df[[\"WHP\", \"WHT\", \"Tsep\", \"Psep\"]]\n",
    "#X = df[[\"WHP\", \"WHT\", \"Tsep\", \"Psep\", \"Choke_in\"]]\n",
    "y = np.array(df[[\"Qoil\"]].values).reshape(-1, )\n",
    "#y = np.array(df[[\"Qwater\"]].values).reshape(-1, )\n",
    "#y = np.array(df[[\"Qgas\"]].values).reshape(-1, )"
   ]
  },
  {
   "cell_type": "code",
   "execution_count": 5,
   "metadata": {},
   "outputs": [],
   "source": [
    "# Scale Data\n",
    "scaler = MinMaxScaler()\n",
    "X_scaled = scaler.fit_transform(X)"
   ]
  },
  {
   "cell_type": "code",
   "execution_count": 6,
   "metadata": {},
   "outputs": [],
   "source": [
    "# Perform PCA\n",
    "pca = PCA()\n",
    "X_pca = pca.fit_transform(X_scaled)\n",
    "pca_df = pd.DataFrame(X_pca)"
   ]
  },
  {
   "cell_type": "code",
   "execution_count": 7,
   "metadata": {},
   "outputs": [],
   "source": [
    "# Cluster PCA data using DBSCAN\n",
    "clustering = DBSCAN(eps=0.5, min_samples=12).fit(X_pca)\n",
    "pca_df[\"DBSCAN\"] = clustering.labels_ + 1"
   ]
  },
  {
   "cell_type": "code",
   "execution_count": 8,
   "metadata": {},
   "outputs": [],
   "source": [
    "# Filter few clusters: Keep rows where cluster criteria is met\n",
    "clust_df = pca_df[(pca_df[\"DBSCAN\"] == 1)]"
   ]
  },
  {
   "cell_type": "code",
   "execution_count": 9,
   "metadata": {},
   "outputs": [],
   "source": [
    "# Delete text column \"DBSCAN\"\n",
    "clust_df.drop(columns=[\"DBSCAN\"],inplace=True)"
   ]
  },
  {
   "cell_type": "code",
   "execution_count": 10,
   "metadata": {},
   "outputs": [],
   "source": [
    "# Create a matriz (X_merge) with all input data (X) plus all computed columns\n",
    "X_merge = X.merge(pca_df,left_index=True,right_index=True)\n",
    "X_merge[\"Labelled Y\"] = y"
   ]
  },
  {
   "cell_type": "code",
   "execution_count": 11,
   "metadata": {},
   "outputs": [],
   "source": [
    "# Bring only the Xrows selected as per Clust_df --> X.iloc[clust_df.index.tolist(),:]\n",
    "# Clust_df has the size of the cleaned data set, but the real data is in X and y\n",
    "# Bring only the Yrows selected as per Clust_df --> y[clust_df.index.tolist()\n",
    "X_selected = X.iloc[clust_df.index.tolist(),:]\n",
    "y_selected = y[clust_df.index.tolist()]"
   ]
  },
  {
   "cell_type": "code",
   "execution_count": 12,
   "metadata": {},
   "outputs": [],
   "source": [
    "# Split data for training and testing\n",
    "train_X, test_X, train_y, test_y = train_test_split(X_selected, y_selected, test_size=0.5, random_state=123)"
   ]
  },
  {
   "cell_type": "code",
   "execution_count": 13,
   "metadata": {},
   "outputs": [
    {
     "data": {
      "text/plain": [
       "RandomForestRegressor(bootstrap=True, ccp_alpha=0.0, criterion='mse',\n",
       "                      max_depth=None, max_features='auto', max_leaf_nodes=None,\n",
       "                      max_samples=None, min_impurity_decrease=0.0,\n",
       "                      min_impurity_split=None, min_samples_leaf=1,\n",
       "                      min_samples_split=2, min_weight_fraction_leaf=0.0,\n",
       "                      n_estimators=200, n_jobs=None, oob_score=False,\n",
       "                      random_state=123, verbose=0, warm_start=False)"
      ]
     },
     "execution_count": 13,
     "metadata": {},
     "output_type": "execute_result"
    }
   ],
   "source": [
    "# #############################################################################\n",
    "### Randon Forest Regression\n",
    "# #############################################################################\n",
    "model_RF = RF(n_estimators=200, random_state=123)\n",
    "model_RF.fit(train_X, train_y)"
   ]
  },
  {
   "cell_type": "code",
   "execution_count": 14,
   "metadata": {},
   "outputs": [],
   "source": [
    "# Predict for blind test and train input features\n",
    "pred_y_RF_test = model_RF.predict(test_X)\n",
    "pred_y_RF_train = model_RF.predict(train_X)\n",
    "pred_y_RF_all = model_RF.predict(X.iloc[clust_df.index.tolist(),:])"
   ]
  },
  {
   "cell_type": "code",
   "execution_count": 15,
   "metadata": {},
   "outputs": [
    {
     "name": "stdout",
     "output_type": "stream",
     "text": [
      "R^2 for train data Random Forest is 0.999838.\n",
      "R^2 for blind test data Random Forest is 0.998584.\n",
      "R^2 for all data Random Forest is 0.999230.\n"
     ]
    }
   ],
   "source": [
    "# Compute  r2 scores  \n",
    "r2_RF_train = r2_score(train_y, pred_y_RF_train)\n",
    "r2_RF_test = r2_score(test_y, pred_y_RF_test)\n",
    "r2_RF_all = r2_score(y[clust_df.index.tolist()], pred_y_RF_all)\n",
    "print(\"R^2 for train data Random Forest is %f.\" %r2_RF_train)\n",
    "print(\"R^2 for blind test data Random Forest is %f.\" %r2_RF_test)\n",
    "print(\"R^2 for all data Random Forest is %f.\" %r2_RF_all)"
   ]
  },
  {
   "cell_type": "code",
   "execution_count": 16,
   "metadata": {},
   "outputs": [],
   "source": [
    "# Add Random Forest Prediction to X_merge file \n",
    "all_pred = np.array([np.nan for i in range(len(X_merge))])\n",
    "all_pred[clust_df.index.tolist()] = pred_y_RF_all\n",
    "X_merge[\"Predicted_RF\"] = all_pred\n",
    "X_merge.to_csv(\"X_merge.csv\", index=False)"
   ]
  },
  {
   "cell_type": "code",
   "execution_count": 17,
   "metadata": {},
   "outputs": [
    {
     "data": {
      "image/png": "[encoded data removed]",
      "text/plain": [
       "<Figure size 432x432 with 1 Axes>"
      ]
     },
     "metadata": {
      "needs_background": "light"
     },
     "output_type": "display_data"
    }
   ],
   "source": [
    "# make a cross plot of predicted and actual values\n",
    "fig = plt.figure(figsize=(6,6))\n",
    "ax = plt.axes()\n",
    "plt.scatter(y[clust_df.index.tolist()], pred_y_RF_all, c=\"blue\", label=\"All - Filtered\")\n",
    "plt.scatter(test_y, pred_y_RF_test, c=\"red\", label=\"Blind-Test\")\n",
    "ax.set(xlabel=\"Test Data\", ylabel=\"RF Model Prediction\", title=\"Y Function RF Predictor Model\")\n",
    "plt.show()\n",
    "fig.savefig('rf_xplot.png', dpi=300)"
   ]
  },
  {
   "cell_type": "code",
   "execution_count": 18,
   "metadata": {},
   "outputs": [
    {
     "data": {
      "text/plain": [
       "GradientBoostingRegressor(alpha=0.9, ccp_alpha=0.0, criterion='friedman_mse',\n",
       "                          init=None, learning_rate=0.01, loss='ls', max_depth=4,\n",
       "                          max_features=None, max_leaf_nodes=None,\n",
       "                          min_impurity_decrease=0.0, min_impurity_split=None,\n",
       "                          min_samples_leaf=1, min_samples_split=2,\n",
       "                          min_weight_fraction_leaf=0.0, n_estimators=500,\n",
       "                          n_iter_no_change=None, presort='deprecated',\n",
       "                          random_state=123, subsample=1.0, tol=0.0001,\n",
       "                          validation_fraction=0.1, verbose=0, warm_start=False)"
      ]
     },
     "execution_count": 18,
     "metadata": {},
     "output_type": "execute_result"
    }
   ],
   "source": [
    "# #############################################################################\n",
    "### Gradient Boosting regression\n",
    "# #############################################################################\n",
    "model_GBM = ensemble.GradientBoostingRegressor(n_estimators= 500, \n",
    "                                               max_depth= 4, \n",
    "                                               min_samples_split= 2, \n",
    "                                               learning_rate= 0.01, \n",
    "                                               loss='ls',\n",
    "                                               random_state=123)\n",
    "model_GBM.fit(train_X, train_y)"
   ]
  },
  {
   "cell_type": "code",
   "execution_count": 19,
   "metadata": {},
   "outputs": [],
   "source": [
    "# Predict for blind test and train input features\n",
    "pred_y_GBM_train = model_GBM.predict(train_X)\n",
    "pred_y_GBM_test = model_GBM.predict(test_X)\n",
    "pred_y_GBM_all = model_GBM.predict(X.iloc[clust_df.index.tolist(),:])"
   ]
  },
  {
   "cell_type": "code",
   "execution_count": 20,
   "metadata": {},
   "outputs": [
    {
     "name": "stdout",
     "output_type": "stream",
     "text": [
      "R^2 for train data GBM is 0.995428.\n",
      "R^2 for blind test data GBM is 0.992874.\n",
      "R^2 for all data GBM is 0.994193.\n"
     ]
    }
   ],
   "source": [
    "# Compute  r2 scores  \n",
    "r2_GBM_train = r2_score(train_y, pred_y_GBM_train)\n",
    "r2_GBM_test = r2_score(test_y, pred_y_GBM_test) \n",
    "r2_GBM_all = r2_score(y[clust_df.index.tolist()], pred_y_GBM_all)\n",
    "print(\"R^2 for train data GBM is %f.\" %r2_GBM_train)\n",
    "print(\"R^2 for blind test data GBM is %f.\" %r2_GBM_test)\n",
    "print(\"R^2 for all data GBM is %f.\" %r2_GBM_all)"
   ]
  },
  {
   "cell_type": "code",
   "execution_count": 21,
   "metadata": {},
   "outputs": [],
   "source": [
    "# Add Random GBM Prediction to X_merge file \n",
    "all_pred = np.array([np.nan for i in range(len(X_merge))])\n",
    "all_pred[clust_df.index.tolist()] = pred_y_GBM_all\n",
    "X_merge[\"Predicted_GBM\"] = all_pred\n",
    "X_merge.to_csv(\"X_merge.csv\", index=False)"
   ]
  },
  {
   "cell_type": "code",
   "execution_count": 22,
   "metadata": {},
   "outputs": [
    {
     "data": {
      "image/png": "[encoded data removed]",
      "text/plain": [
       "<Figure size 432x432 with 1 Axes>"
      ]
     },
     "metadata": {
      "needs_background": "light"
     },
     "output_type": "display_data"
    }
   ],
   "source": [
    "# make a cross plot of predicted and actual values\n",
    "fig = plt.figure(figsize=(6,6))\n",
    "ax = plt.axes()\n",
    "plt.scatter(y[clust_df.index.tolist()], pred_y_GBM_all, c=\"blue\", label=\"All - Filtered\")\n",
    "plt.scatter(test_y, pred_y_GBM_test, c=\"red\", label=\"Blind-Test\")\n",
    "ax.set(xlabel=\"Test Data\", ylabel=\"GBM Model Prediction\", title=\"Y Function GBM Predictor Model\")\n",
    "plt.show()\n",
    "fig.savefig('gbm_xplot.png', dpi=300)"
   ]
  }
 ],
 "metadata": {
  "kernelspec": {
   "display_name": "Python 3 (ipykernel)",
   "language": "python",
   "name": "python3"
  },
  "language_info": {
   "codemirror_mode": {
    "name": "ipython",
    "version": 3
   },
   "file_extension": ".py",
   "mimetype": "text/x-python",
   "name": "python",
   "nbconvert_exporter": "python",
   "pygments_lexer": "ipython3",
   "version": "3.11.5"
  }
 },
 "nbformat": 4,
 "nbformat_minor": 2
}
