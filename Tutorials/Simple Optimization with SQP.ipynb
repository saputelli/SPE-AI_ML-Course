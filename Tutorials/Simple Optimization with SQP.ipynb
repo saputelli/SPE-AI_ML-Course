{
 "cells": [
  {
   "cell_type": "markdown",
   "id": "dd8728a4-a7dc-4b68-b506-cce0aef86bc9",
   "metadata": {},
   "source": [
    "## Simple Optimization Example\n",
    "A simple 3-variable optimization example using scipy.optimize.minimize, with a straightforward objective function and simple constraints.\n",
    "In this example, we'll try to minimize the function:\n",
    "f(x,y,z)=(x−1)2+(y−2)2+(z−3)2\n",
    "Subject to the following constraints:\n",
    "•\tx+y+z <=10 (inequality constraint)\n",
    "•\t0 <= x,y,z <= 5\n"
   ]
  },
  {
   "cell_type": "code",
   "execution_count": 5,
   "id": "c2e65a6d-0ce5-4a5a-89c7-b5bd7e7787cc",
   "metadata": {},
   "outputs": [],
   "source": [
    "from scipy.optimize import minimize\n",
    "import numpy as np"
   ]
  },
  {
   "cell_type": "code",
   "execution_count": 6,
   "id": "afa000b6-5ef0-4aa6-91c5-33855ec9df2a",
   "metadata": {},
   "outputs": [],
   "source": [
    "# 1. Define the Objective Function\n",
    "# The function to be minimized. `x` is a NumPy array containing the variables.\n",
    "def objective_function(vars_xyz):\n",
    "    x, y, z = vars_xyz\n",
    "    return (x - 1)**2 + (y - 2)**2 + (z - 3)**2"
   ]
  },
  {
   "cell_type": "code",
   "execution_count": 7,
   "id": "4c46bb78-c6c7-4d7b-9bfa-dd1772df5b0c",
   "metadata": {},
   "outputs": [],
   "source": [
    "# 2. Define the Constraints\n",
    "# Bounds for each variable (x, y, z)\n",
    "# Each tuple represents (min, max) for a variable. None means no bound.\n",
    "bounds = [(0, 5), (0, 5), (0, 5)] # 0 <= x,y,z <= 5\n",
    "\n",
    "# Inequality constraints: A_ub @ x <= b_ub\n",
    "# Here, we have x + y + z <= 10\n",
    "# So, A_ub = [[1, 1, 1]] and b_ub = [10]\n",
    "constraints = [\n",
    "    {'type': 'ineq', 'fun': lambda vars_xyz: 10 - (vars_xyz[0] + vars_xyz[1] + vars_xyz[2])}\n",
    "    # For 'ineq' constraints, the function must return a value >= 0.\n",
    "    # So, 10 - (x + y + z) >= 0 is equivalent to x + y + z <= 10\n",
    "]"
   ]
  },
  {
   "cell_type": "code",
   "execution_count": 8,
   "id": "3e5e380f-60d5-44e4-be69-851baf0ea58a",
   "metadata": {},
   "outputs": [],
   "source": [
    "# 3. Set an Initial Guess\n",
    "# Optimization algorithms need a starting point.\n",
    "initial_guess = np.array([0, 0, 0])"
   ]
  },
  {
   "cell_type": "code",
   "execution_count": 9,
   "id": "df4767c4-08bf-44a4-869a-833f891e1dd6",
   "metadata": {},
   "outputs": [],
   "source": [
    "# 4. Perform the Optimization\n",
    "# method='SLSQP' is a common choice for constrained minimization.\n",
    "result = minimize(objective_function, initial_guess, method='SLSQP', bounds=bounds, constraints=constraints)"
   ]
  },
  {
   "cell_type": "code",
   "execution_count": 10,
   "id": "8ebd81f9-8329-4281-897d-d8e80e513924",
   "metadata": {
    "tags": []
   },
   "outputs": [
    {
     "name": "stdout",
     "output_type": "stream",
     "text": [
      "Optimization successful!\n",
      "Optimal values for x, y, z: [1.00000422 2.00001263 3.00001686]\n",
      "Minimum value of the objective function: 4.6178014347456905e-10\n",
      "Number of iterations: 5\n",
      "Message: Optimization terminated successfully\n"
     ]
    }
   ],
   "source": [
    "# 5. Print the Results\n",
    "if result.success:\n",
    "    print(\"Optimization successful!\")\n",
    "    print(f\"Optimal values for x, y, z: {result.x}\")\n",
    "    print(f\"Minimum value of the objective function: {result.fun}\")\n",
    "    print(f\"Number of iterations: {result.nit}\")\n",
    "    print(f\"Message: {result.message}\")\n",
    "else:\n",
    "    print(\"Optimization failed.\")\n",
    "    print(f\"Status: {result.status}\")\n",
    "    print(f\"Message: {result.message}\")"
   ]
  },
  {
   "cell_type": "code",
   "execution_count": null,
   "id": "bf4f81a1-4297-455f-bed3-960dce1ea3be",
   "metadata": {},
   "outputs": [],
   "source": []
  }
 ],
 "metadata": {
  "kernelspec": {
   "display_name": "Python 3 (ipykernel)",
   "language": "python",
   "name": "python3"
  },
  "language_info": {
   "codemirror_mode": {
    "name": "ipython",
    "version": 3
   },
   "file_extension": ".py",
   "mimetype": "text/x-python",
   "name": "python",
   "nbconvert_exporter": "python",
   "pygments_lexer": "ipython3",
   "version": "3.11.5"
  }
 },
 "nbformat": 4,
 "nbformat_minor": 5
}
