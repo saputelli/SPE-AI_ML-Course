{
 "cells": [
  {
   "cell_type": "markdown",
   "id": "e5323cde-3f3f-43fc-97be-6cee5c0f6fda",
   "metadata": {},
   "source": [
    "## Optimizing a Simple Supply Chain (Linear Programming)\n",
    "\n",
    "Problem Parameters\n",
    "* 2 factories, 2 distribution centers, and 3 customers.\n",
    "* Production costs per unit at each factory.\n",
    "* Maximum production capacity (units) at each factory.\n",
    "* Transportation unit costs from factory to distribution center.\n",
    "* Transportation unit costs from distribution center to customer.\n",
    "* Customer demand (units).\n",
    "\n",
    "We need to decide:\n",
    "1. Production quantity at each factory: P_f (num_factories variables)\n",
    "2. Units shipped from factory f to distribution center d: X_fd (num_factories * num_dist_centers variables)\n",
    "3. Units shipped from distribution center d to customer c: Y_dc (num_dist_centers * num_customers variables)\n"
   ]
  },
  {
   "cell_type": "code",
   "execution_count": 10,
   "id": "46c76829-9c41-4a24-b674-3ef3c6c8e517",
   "metadata": {},
   "outputs": [],
   "source": [
    "import numpy as np\n",
    "from scipy.optimize import linprog"
   ]
  },
  {
   "cell_type": "code",
   "execution_count": 11,
   "id": "d860221a-241a-4eb4-bd08-c672f52e36df",
   "metadata": {},
   "outputs": [],
   "source": [
    "# 1. Define the Problem Parameters\n",
    "\n",
    "# Number of factories, distribution centers, and customer regions\n",
    "num_factories = 2\n",
    "num_dist_centers = 2\n",
    "num_customers = 3\n",
    "\n",
    "# Production costs per unit at each factory (e.g., in $/unit):# cost_production[f]\n",
    "cost_production = np.array([10, 12])\n",
    "\n",
    "# Max production capacity at each factory (units): # capacity_factory[f]\n",
    "capacity_factory = np.array([500, 600])\n",
    "\n",
    "# Transportation costs from factory to distribution center (e.g., in $/unit): # cost_f_to_d[f, d]\n",
    "cost_f_to_d = np.array([\n",
    "    [2, 3],    # Factory 0 to DC 0, DC 1\n",
    "    [4, 1]])   # Factory 1 to DC 0, DC 1\n",
    "\n",
    "# Transportation costs from distribution center to customer (e.g., in $/unit): # cost_d_to_c[d, c]\n",
    "cost_d_to_c = np.array([\n",
    "    [5, 6, 7],    # DC 0 to Customer 0, 1, 2\n",
    "    [8, 4, 3]])   # DC 1 to Customer 0, 1, 2\n",
    "\n",
    "# Customer demand (units): # demand_customer[c]\n",
    "demand_customer = np.array([200, 250, 150])"
   ]
  },
  {
   "cell_type": "code",
   "execution_count": 12,
   "id": "2f5a594f-f8b3-4e45-9278-e05041cb9f08",
   "metadata": {},
   "outputs": [],
   "source": [
    "# 2. Define the Decision Variables\n",
    "\n",
    "# Total number of decision variables\n",
    "num_vars = num_factories + (num_factories * num_dist_centers) + (num_dist_centers * num_customers)\n",
    "\n",
    "# Helper for indexing\n",
    "idx_P = slice(0, num_factories)\n",
    "idx_X = slice(num_factories, num_factories + (num_factories * num_dist_centers))\n",
    "idx_Y = slice(num_factories + (num_factories * num_dist_centers), num_vars)"
   ]
  },
  {
   "cell_type": "code",
   "execution_count": 13,
   "id": "5ca390db-94a0-44a5-a577-5be49fff4f2b",
   "metadata": {},
   "outputs": [],
   "source": [
    "# 3. Define the Objective Function (Minimize Total Cost) ---\n",
    "# c @ x where x is the vector of decision variables\n",
    "c = np.zeros(num_vars)\n",
    "\n",
    "# Production costs\n",
    "for f in range(num_factories):\n",
    "    c[idx_P.start + f] = cost_production[f]\n",
    "\n",
    "# Factory to DC transportation costs\n",
    "for f in range(num_factories):\n",
    "    for d in range(num_dist_centers):\n",
    "        c[idx_X.start + f * num_dist_centers + d] = cost_f_to_d[f, d]\n",
    "\n",
    "# DC to Customer transportation costs\n",
    "for d in range(num_dist_centers):\n",
    "    for cs in range(num_customers):\n",
    "        c[idx_Y.start + d * num_customers + cs] = cost_d_to_c[d, cs]"
   ]
  },
  {
   "cell_type": "code",
   "execution_count": 14,
   "id": "487a3ec3-4ae3-41a9-b2ef-5a67a7e2d965",
   "metadata": {},
   "outputs": [],
   "source": [
    "# 4. Define the Constraints\n",
    "# Equality constraints: A_eq @ x = b_eq\n",
    "# Inequality constraints: A_ub @ x <= b_ub\n",
    "\n",
    "A_eq = []\n",
    "b_eq = []\n",
    "A_ub = []\n",
    "b_ub = []\n",
    "\n",
    "# Constraint Type 1: Customer Demand must be met (Equality)\n",
    "# For each customer, the sum of units received from all distribution centers must equal their demand.\n",
    "# sum(Y_dc for d) == demand_customer[c]\n",
    "for cs in range(num_customers):\n",
    "    row = np.zeros(num_vars)\n",
    "    for d in range(num_dist_centers):\n",
    "        row[idx_Y.start + d * num_customers + cs] = 1\n",
    "    A_eq.append(row)\n",
    "    b_eq.append(demand_customer[cs])\n",
    "\n",
    "# Constraint Type 2: Flow Conservation at Distribution Centers (Equality)\n",
    "# Total units arriving at a DC from factories must equal total units leaving to customers.\n",
    "# sum(X_fd for f) == sum(Y_dc for c)\n",
    "for d in range(num_dist_centers):\n",
    "    row = np.zeros(num_vars)\n",
    "    # Units entering DC d from factories\n",
    "    for f in range(num_factories):\n",
    "        row[idx_X.start + f * num_dist_centers + d] = 1\n",
    "    # Units leaving DC d to customers\n",
    "    for cs in range(num_customers):\n",
    "        row[idx_Y.start + d * num_customers + cs] = -1 # Subtract because it's leaving\n",
    "    A_eq.append(row)\n",
    "    b_eq.append(0) # Net flow into DC must be zero\n",
    "\n",
    "# Constraint Type 3: Production Capacity at Factories (Inequality)\n",
    "# Total production at each factory must not exceed its capacity.\n",
    "# P_f <= capacity_factory[f]\n",
    "for f in range(num_factories):\n",
    "    row = np.zeros(num_vars)\n",
    "    row[idx_P.start + f] = 1\n",
    "    A_ub.append(row)\n",
    "    b_ub.append(capacity_factory[f])\n",
    "\n",
    "# Constraint Type 4: Factory Output to DCs must match Production (Equality)\n",
    "# Total units shipped from a factory to DCs must equal the production at that factory.\n",
    "# sum(X_fd for d) == P_f\n",
    "for f in range(num_factories):\n",
    "    row = np.zeros(num_vars)\n",
    "    row[idx_P.start + f] = -1 # P_f\n",
    "    for d in range(num_dist_centers):\n",
    "        row[idx_X.start + f * num_dist_centers + d] = 1 # X_fd\n",
    "    A_eq.append(row)\n",
    "    b_eq.append(0)\n",
    "\n",
    "# Constraint Type 5: Non-negativity of variables\n",
    "# All production and shipment quantities must be non-negative.\n",
    "# This is handled by default by linprog with bounds=(0, None)\n",
    "bounds = [(0, None) for _ in range(num_vars)]\n",
    "\n",
    "# Convert lists to numpy arrays\n",
    "A_eq = np.array(A_eq)\n",
    "b_eq = np.array(b_eq)\n",
    "A_ub = np.array(A_ub)\n",
    "b_ub = np.array(b_ub)"
   ]
  },
  {
   "cell_type": "code",
   "execution_count": 15,
   "id": "dca76b61-26ea-467f-a4ac-601ef6651e0c",
   "metadata": {},
   "outputs": [
    {
     "name": "stdout",
     "output_type": "stream",
     "text": [
      "Solving optimization problem...\n"
     ]
    }
   ],
   "source": [
    "# --- 5. Solve the Linear Program ---\n",
    "print(\"Solving optimization problem...\")\n",
    "res = linprog(c, A_ub=A_ub, b_ub=b_ub, A_eq=A_eq, b_eq=b_eq, bounds=bounds, method='highs')"
   ]
  },
  {
   "cell_type": "code",
   "execution_count": 16,
   "id": "49063d99-302d-4036-8887-81dd16888f04",
   "metadata": {
    "tags": []
   },
   "outputs": [
    {
     "name": "stdout",
     "output_type": "stream",
     "text": [
      "\n",
      "Optimization Successful!\n",
      "Total Minimum Cost: $10050.00\n",
      "\n",
      "--- Production Quantities ---\n",
      "Factory 0: 200.00 units produced\n",
      "Factory 1: 400.00 units produced\n",
      "\n",
      "--- Factory to Distribution Center Shipments ---\n",
      "Factory 0 to DC 0: 200.00 units\n",
      "Factory 0 to DC 1: 0.00 units\n",
      "Factory 1 to DC 0: 0.00 units\n",
      "Factory 1 to DC 1: 400.00 units\n",
      "\n",
      "--- Distribution Center to Customer Shipments ---\n",
      "DC 0 to Customer 0: 200.00 units\n",
      "DC 0 to Customer 1: 0.00 units\n",
      "DC 0 to Customer 2: 0.00 units\n",
      "DC 1 to Customer 0: 0.00 units\n",
      "DC 1 to Customer 1: 250.00 units\n",
      "DC 1 to Customer 2: 150.00 units\n"
     ]
    }
   ],
   "source": [
    "# 6. Interpret the Results\n",
    "if res.success:\n",
    "    print(\"\\nOptimization Successful!\")\n",
    "    print(f\"Total Minimum Cost: ${res.fun:.2f}\")\n",
    "\n",
    "    x = res.x\n",
    "\n",
    "    print(\"\\n--- Production Quantities ---\")\n",
    "    production_quantities = x[idx_P]\n",
    "    for f in range(num_factories):\n",
    "        print(f\"Factory {f}: {production_quantities[f]:.2f} units produced\")\n",
    "\n",
    "    print(\"\\n--- Factory to Distribution Center Shipments ---\")\n",
    "    f_to_d_shipments = x[idx_X].reshape(num_factories, num_dist_centers)\n",
    "    for f in range(num_factories):\n",
    "        for d in range(num_dist_centers):\n",
    "            print(f\"Factory {f} to DC {d}: {f_to_d_shipments[f, d]:.2f} units\")\n",
    "\n",
    "    print(\"\\n--- Distribution Center to Customer Shipments ---\")\n",
    "    d_to_c_shipments = x[idx_Y].reshape(num_dist_centers, num_customers)\n",
    "    for d in range(num_dist_centers):\n",
    "        for cs in range(num_customers):\n",
    "            print(f\"DC {d} to Customer {cs}: {d_to_c_shipments[d, cs]:.2f} units\")\n",
    "\n",
    "else:\n",
    "    print(\"\\nOptimization Failed!\")\n",
    "    print(f\"Status: {res.status}\")\n",
    "    print(f\"Message: {res.message}\")"
   ]
  }
 ],
 "metadata": {
  "kernelspec": {
   "display_name": "Python 3 (ipykernel)",
   "language": "python",
   "name": "python3"
  },
  "language_info": {
   "codemirror_mode": {
    "name": "ipython",
    "version": 3
   },
   "file_extension": ".py",
   "mimetype": "text/x-python",
   "name": "python",
   "nbconvert_exporter": "python",
   "pygments_lexer": "ipython3",
   "version": "3.11.5"
  }
 },
 "nbformat": 4,
 "nbformat_minor": 5
}
