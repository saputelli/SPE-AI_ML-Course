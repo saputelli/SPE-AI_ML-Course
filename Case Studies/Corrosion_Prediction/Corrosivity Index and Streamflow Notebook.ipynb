{
 "cells": [
  {
   "cell_type": "markdown",
   "id": "77aea165-9c30-4cc9-8370-52b6b344520b",
   "metadata": {
    "id": "77aea165-9c30-4cc9-8370-52b6b344520b"
   },
   "source": [
    "# Corrosivity index and streamflow  to evaluate trends in potentially corrosive source waters in the Nation's streams and rivers (input)(1964-2016)"
   ]
  },
  {
   "cell_type": "markdown",
   "id": "a64e6bbe-5bf1-47be-9a24-67c14eef6307",
   "metadata": {
    "id": "a64e6bbe-5bf1-47be-9a24-67c14eef6307"
   },
   "source": [
    " Files containing CSMR and LR data input into WRTDS for all sites\n",
    " https://github.com/Gbekoilias/Corrosion-experiment-data-analysis-and-ml-algorithm"
   ]
  },
  {
   "cell_type": "markdown",
   "id": "f5c5a75c-9c69-4c43-ad28-7632bccd82e0",
   "metadata": {
    "id": "f5c5a75c-9c69-4c43-ad28-7632bccd82e0"
   },
   "source": [
    "Changes in water corrosivity from 84 river sites were investigated using long-term (1962 – 2016) data sets. Corrosive waters, often having elevated chloride (Cl) concentrations, can lead to metal leaching and promote corrosion in water distribution systems. Two different indices, the Chloride-Sulfate Mass Ratio (CSMR) and the Larson Ratio (LR), are commonly used to indicate the potential to promote corrosion in water distribution systems, with high values indicating an increase in the potential to promote corrosion. Though changes in treatment approaches at drinking water facilities are known to affect the corrosion indices, there is little information regarding how changes in the ionic composition of source waters may affect the corrosion indices. As part of the National Water-Quality Assessment (NAWQA) project of the National Water-Quality Program, long-term water-quality data from multiple sites across the Conterminous United States have been used to analyze seasonal- and flow-related variability and trends in the CSMR and LR indices.\n",
    "\n",
    " These input datasets contain corrosion index values and streamflow data to run WRTDS trend models to determine riverine trends for the CSMR and LR indices. CSMR was calculated as, CSMR = (Cl-) / (SO42-), where (Cl-) is the chloride concentration, expressed as mg Cl L-1 and (SO42-) is sulfate concentration expressed as mg SO42- L-1. LR was calculated as, LR = ((Cl- / 35.5) + (2 x (SO42- / 96.06))) / (2 x Alk / 100.8) where [Cl-], [SO42-], and [Alk] are the concentrations of chloride, sulfate, and alkalinity, respectively, expressed as mg Cl- L-1, mg SO42- L-1, and mg CaCO3 L-1, respectively. The data was used to output trend results from 1992 to 2012"
   ]
  },
  {
   "cell_type": "markdown",
   "id": "7f0e1849-81bb-4459-8f9c-c2d54491a72a",
   "metadata": {
    "id": "7f0e1849-81bb-4459-8f9c-c2d54491a72a"
   },
   "source": [
    "Importing Libraries"
   ]
  },
  {
   "cell_type": "code",
   "execution_count": 6,
   "id": "eeb948ae-ef91-4edd-90f5-c72c1b350a13",
   "metadata": {
    "colab": {
     "base_uri": "https://localhost:8080/"
    },
    "executionInfo": {
     "elapsed": 4828,
     "status": "ok",
     "timestamp": 1656031777808,
     "user": {
      "displayName": "Shittu-Gbeko Ilias Olakunle",
      "userId": "02327692346623940216"
     },
     "user_tz": -60
    },
    "id": "eeb948ae-ef91-4edd-90f5-c72c1b350a13",
    "outputId": "5e5f4719-7641-4cca-c95b-5d01ef9a1095"
   },
   "outputs": [],
   "source": [
    "#for mathematical computations\n",
    "import pandas as pd\n",
    "import numpy as np\n",
    "\n",
    "#for data visualization \n",
    "import matplotlib.pylab as plb\n",
    "import matplotlib.pyplot as plt\n",
    "import seaborn as sns\n",
    "import statsmodels.api as sm\n",
    "\n",
    "#for preprocessing\n",
    "from sklearn.preprocessing import LabelEncoder\n",
    "from sklearn.preprocessing import OneHotEncoder\n",
    "from sklearn.preprocessing import StandardScaler\n",
    "\n",
    "#for model selection\n",
    "from sklearn.model_selection import cross_val_score\n",
    "from sklearn.model_selection import KFold\n",
    "from sklearn.model_selection import StratifiedKFold\n",
    "from sklearn.model_selection import train_test_split\n",
    "from sklearn.inspection import permutation_importance\n",
    "\n",
    "## For modelling\n",
    "from sklearn.linear_model import LogisticRegression\n",
    "from sklearn.tree import DecisionTreeClassifier \n",
    "from sklearn.ensemble import RandomForestClassifier \n",
    "from sklearn.ensemble import GradientBoostingClassifier\n",
    "from sklearn.neighbors import KNeighborsClassifier\n",
    "\n",
    "#for advanced modelling\n",
    "# !pip install catboost # commented out because it is already installed\n",
    "import catboost\n",
    "import lightgbm\n",
    "import xgboost\n",
    "from catboost import CatBoostClassifier\n",
    "from lightgbm import LGBMClassifier\n",
    "from xgboost import XGBClassifier  \n",
    "\n",
    "## for pipeline \n",
    "from sklearn.pipeline import Pipeline\n",
    "from sklearn.compose import ColumnTransformer\n",
    "from sklearn.impute import SimpleImputer\n",
    "\n",
    "#for evaluation \n",
    "from sklearn.metrics import confusion_matrix\n",
    "from sklearn.metrics import classification_report\n",
    "from sklearn.metrics import accuracy_score\n",
    "from sklearn.metrics import roc_auc_score\n",
    "from sklearn.metrics import ConfusionMatrixDisplay\n",
    "\n",
    "#for system settings \n",
    "import warnings\n",
    "import os\n",
    "import statsmodels.api as sm\n",
    "\n",
    "#for model\n",
    "import joblib\n",
    "\n",
    "%matplotlib inline\n",
    "sns.set()\n",
    "warnings.filterwarnings('ignore')\n",
    "pd.set_option('display.max_colwidth', 200)\n",
    "pd.options.display.float_format = '{:.5f}'.format"
   ]
  },
  {
   "cell_type": "markdown",
   "id": "2778fd49-7188-4cd2-b277-58fa604a4cfa",
   "metadata": {
    "id": "2778fd49-7188-4cd2-b277-58fa604a4cfa"
   },
   "source": [
    "Loading data"
   ]
  },
  {
   "cell_type": "code",
   "execution_count": 7,
   "id": "46a3ee9c-2673-4127-a4b0-118f149a8593",
   "metadata": {
    "executionInfo": {
     "elapsed": 1176,
     "status": "ok",
     "timestamp": 1656030718232,
     "user": {
      "displayName": "Shittu-Gbeko Ilias Olakunle",
      "userId": "02327692346623940216"
     },
     "user_tz": -60
    },
    "id": "46a3ee9c-2673-4127-a4b0-118f149a8593"
   },
   "outputs": [],
   "source": [
    "#The two files which contain the corossion features and parameters dated\n",
    "input_data = pd.read_csv('inputData.csv',parse_dates = ['date'])\n",
    "flow_data = pd.read_csv('flowData.csv',parse_dates = ['dateTime'])"
   ]
  },
  {
   "cell_type": "code",
   "execution_count": 8,
   "id": "977079a9-d03b-475e-af35-e84635e154e9",
   "metadata": {
    "colab": {
     "base_uri": "https://localhost:8080/",
     "height": 206
    },
    "executionInfo": {
     "elapsed": 15,
     "status": "ok",
     "timestamp": 1655985437429,
     "user": {
      "displayName": "Shittu-Gbeko Ilias Olakunle",
      "userId": "02327692346623940216"
     },
     "user_tz": -60
    },
    "id": "977079a9-d03b-475e-af35-e84635e154e9",
    "outputId": "a9aa4d0c-02ef-438a-8bc3-cd1f2031eeb4"
   },
   "outputs": [
    {
     "data": {
      "text/html": [
       "<div>\n",
       "<style scoped>\n",
       "    .dataframe tbody tr th:only-of-type {\n",
       "        vertical-align: middle;\n",
       "    }\n",
       "\n",
       "    .dataframe tbody tr th {\n",
       "        vertical-align: top;\n",
       "    }\n",
       "\n",
       "    .dataframe thead th {\n",
       "        text-align: right;\n",
       "    }\n",
       "</style>\n",
       "<table border=\"1\" class=\"dataframe\">\n",
       "  <thead>\n",
       "    <tr style=\"text-align: right;\">\n",
       "      <th></th>\n",
       "      <th>Site_no</th>\n",
       "      <th>date</th>\n",
       "      <th>ParamLow</th>\n",
       "      <th>ParamHigh</th>\n",
       "      <th>Parameter</th>\n",
       "      <th>Uncen</th>\n",
       "    </tr>\n",
       "  </thead>\n",
       "  <tbody>\n",
       "    <tr>\n",
       "      <th>0</th>\n",
       "      <td>01122610</td>\n",
       "      <td>1974-07-08</td>\n",
       "      <td>1.53540</td>\n",
       "      <td>1.53540</td>\n",
       "      <td>Larson</td>\n",
       "      <td>1</td>\n",
       "    </tr>\n",
       "    <tr>\n",
       "      <th>1</th>\n",
       "      <td>01122610</td>\n",
       "      <td>1974-07-08</td>\n",
       "      <td>0.80103</td>\n",
       "      <td>0.80103</td>\n",
       "      <td>CSMR</td>\n",
       "      <td>1</td>\n",
       "    </tr>\n",
       "    <tr>\n",
       "      <th>2</th>\n",
       "      <td>01122610</td>\n",
       "      <td>1974-08-05</td>\n",
       "      <td>2.02023</td>\n",
       "      <td>2.02023</td>\n",
       "      <td>Larson</td>\n",
       "      <td>1</td>\n",
       "    </tr>\n",
       "    <tr>\n",
       "      <th>3</th>\n",
       "      <td>01122610</td>\n",
       "      <td>1974-08-05</td>\n",
       "      <td>1.16817</td>\n",
       "      <td>1.16817</td>\n",
       "      <td>CSMR</td>\n",
       "      <td>1</td>\n",
       "    </tr>\n",
       "    <tr>\n",
       "      <th>4</th>\n",
       "      <td>01122610</td>\n",
       "      <td>1974-09-16</td>\n",
       "      <td>2.27004</td>\n",
       "      <td>2.27004</td>\n",
       "      <td>Larson</td>\n",
       "      <td>1</td>\n",
       "    </tr>\n",
       "  </tbody>\n",
       "</table>\n",
       "</div>"
      ],
      "text/plain": [
       "    Site_no       date  ParamLow  ParamHigh Parameter  Uncen\n",
       "0  01122610 1974-07-08   1.53540    1.53540    Larson      1\n",
       "1  01122610 1974-07-08   0.80103    0.80103      CSMR      1\n",
       "2  01122610 1974-08-05   2.02023    2.02023    Larson      1\n",
       "3  01122610 1974-08-05   1.16817    1.16817      CSMR      1\n",
       "4  01122610 1974-09-16   2.27004    2.27004    Larson      1"
      ]
     },
     "execution_count": 8,
     "metadata": {},
     "output_type": "execute_result"
    }
   ],
   "source": [
    "input_data.head()"
   ]
  },
  {
   "cell_type": "markdown",
   "id": "l1eY8w0DhEwp",
   "metadata": {
    "id": "l1eY8w0DhEwp"
   },
   "source": [
    "Most ParamLow and ParamHigh have close figures"
   ]
  },
  {
   "cell_type": "code",
   "execution_count": 9,
   "id": "BQrOKFsaadFH",
   "metadata": {
    "colab": {
     "base_uri": "https://localhost:8080/",
     "height": 206
    },
    "executionInfo": {
     "elapsed": 18,
     "status": "ok",
     "timestamp": 1655985437873,
     "user": {
      "displayName": "Shittu-Gbeko Ilias Olakunle",
      "userId": "02327692346623940216"
     },
     "user_tz": -60
    },
    "id": "BQrOKFsaadFH",
    "outputId": "7493c32e-35a2-4112-8591-3d8f7b02c336"
   },
   "outputs": [
    {
     "data": {
      "text/html": [
       "<div>\n",
       "<style scoped>\n",
       "    .dataframe tbody tr th:only-of-type {\n",
       "        vertical-align: middle;\n",
       "    }\n",
       "\n",
       "    .dataframe tbody tr th {\n",
       "        vertical-align: top;\n",
       "    }\n",
       "\n",
       "    .dataframe thead th {\n",
       "        text-align: right;\n",
       "    }\n",
       "</style>\n",
       "<table border=\"1\" class=\"dataframe\">\n",
       "  <thead>\n",
       "    <tr style=\"text-align: right;\">\n",
       "      <th></th>\n",
       "      <th>site</th>\n",
       "      <th>dateTime</th>\n",
       "      <th>value</th>\n",
       "    </tr>\n",
       "  </thead>\n",
       "  <tbody>\n",
       "    <tr>\n",
       "      <th>0</th>\n",
       "      <td>02089500</td>\n",
       "      <td>1964-10-01</td>\n",
       "      <td>1160.00000</td>\n",
       "    </tr>\n",
       "    <tr>\n",
       "      <th>1</th>\n",
       "      <td>02089500</td>\n",
       "      <td>1964-10-02</td>\n",
       "      <td>2040.00000</td>\n",
       "    </tr>\n",
       "    <tr>\n",
       "      <th>2</th>\n",
       "      <td>02089500</td>\n",
       "      <td>1964-10-03</td>\n",
       "      <td>2940.00000</td>\n",
       "    </tr>\n",
       "    <tr>\n",
       "      <th>3</th>\n",
       "      <td>02089500</td>\n",
       "      <td>1964-10-04</td>\n",
       "      <td>4100.00000</td>\n",
       "    </tr>\n",
       "    <tr>\n",
       "      <th>4</th>\n",
       "      <td>02089500</td>\n",
       "      <td>1964-10-05</td>\n",
       "      <td>6760.00000</td>\n",
       "    </tr>\n",
       "  </tbody>\n",
       "</table>\n",
       "</div>"
      ],
      "text/plain": [
       "       site   dateTime      value\n",
       "0  02089500 1964-10-01 1160.00000\n",
       "1  02089500 1964-10-02 2040.00000\n",
       "2  02089500 1964-10-03 2940.00000\n",
       "3  02089500 1964-10-04 4100.00000\n",
       "4  02089500 1964-10-05 6760.00000"
      ]
     },
     "execution_count": 9,
     "metadata": {},
     "output_type": "execute_result"
    }
   ],
   "source": [
    "flow_data.head()"
   ]
  },
  {
   "cell_type": "code",
   "execution_count": 10,
   "id": "efb959fc-c59d-4e4f-a082-52f173a59ad3",
   "metadata": {
    "colab": {
     "base_uri": "https://localhost:8080/"
    },
    "executionInfo": {
     "elapsed": 740,
     "status": "ok",
     "timestamp": 1655985310461,
     "user": {
      "displayName": "Shittu-Gbeko Ilias Olakunle",
      "userId": "02327692346623940216"
     },
     "user_tz": -60
    },
    "id": "efb959fc-c59d-4e4f-a082-52f173a59ad3",
    "outputId": "212be9a0-64bc-42c3-88ce-488996188693"
   },
   "outputs": [
    {
     "data": {
      "text/plain": [
       "Index(['Site_no', 'date', 'ParamLow', 'ParamHigh', 'Parameter', 'Uncen'], dtype='object')"
      ]
     },
     "execution_count": 10,
     "metadata": {},
     "output_type": "execute_result"
    }
   ],
   "source": [
    "input_data.columns"
   ]
  },
  {
   "cell_type": "markdown",
   "id": "a926d5ee-3f84-47d7-a233-20471264f67b",
   "metadata": {
    "id": "a926d5ee-3f84-47d7-a233-20471264f67b"
   },
   "source": [
    "The input data contain the following the following features:\n",
    "\n",
    "**Site_no**:- trend site number\n",
    "\n",
    "**date**:- Day (YYYY-MM-DD)\n",
    "\n",
    "**ParamLow**:- Lower limit of the CSMR or LR\n",
    "\n",
    "**ParamHigh**:- Upper limit of the CSMR or LR\n",
    "\n",
    "**Parameter**:- Describes the corrosion index parameter being analyzed\n",
    "\n",
    "**Uncern**:- Uncensored data (1=true, 0=false)\n",
    "\n",
    "**CSMR**:-Chloride-Sulfate Mass Ratio\n",
    "\n",
    "**Larson**:-Larson Ratio "
   ]
  },
  {
   "cell_type": "code",
   "execution_count": 24,
   "id": "9edd8873-4a56-4ba0-9635-3be0ba0fbb08",
   "metadata": {
    "colab": {
     "base_uri": "https://localhost:8080/"
    },
    "executionInfo": {
     "elapsed": 756,
     "status": "ok",
     "timestamp": 1655985582083,
     "user": {
      "displayName": "Shittu-Gbeko Ilias Olakunle",
      "userId": "02327692346623940216"
     },
     "user_tz": -60
    },
    "id": "9edd8873-4a56-4ba0-9635-3be0ba0fbb08",
    "outputId": "6895651c-946a-4ce6-918f-cce79cda6d7b"
   },
   "outputs": [
    {
     "data": {
      "text/plain": [
       "((120399, 6), (1526359, 3))"
      ]
     },
     "execution_count": 24,
     "metadata": {},
     "output_type": "execute_result"
    }
   ],
   "source": [
    "input_data.shape , flow_data.shape"
   ]
  },
  {
   "cell_type": "markdown",
   "id": "-F3rinOWb9AD",
   "metadata": {
    "id": "-F3rinOWb9AD"
   },
   "source": [
    "flow_data is of no use at this point, Hence I am not considering it.\n"
   ]
  },
  {
   "cell_type": "markdown",
   "id": "7bafed26-142f-48ea-9dd7-b64103edacab",
   "metadata": {
    "id": "7bafed26-142f-48ea-9dd7-b64103edacab"
   },
   "source": [
    "## Statistical Summarries"
   ]
  },
  {
   "cell_type": "code",
   "execution_count": 26,
   "id": "4aaa8554-5bc0-4681-b6eb-fcc35a65544b",
   "metadata": {
    "colab": {
     "base_uri": "https://localhost:8080/",
     "height": 457
    },
    "executionInfo": {
     "elapsed": 518,
     "status": "ok",
     "timestamp": 1656030729967,
     "user": {
      "displayName": "Shittu-Gbeko Ilias Olakunle",
      "userId": "02327692346623940216"
     },
     "user_tz": -60
    },
    "id": "4aaa8554-5bc0-4681-b6eb-fcc35a65544b",
    "outputId": "70ce69ad-6d41-46ab-89d4-f880e81239cc"
   },
   "outputs": [
    {
     "data": {
      "text/html": [
       "<div>\n",
       "<style scoped>\n",
       "    .dataframe tbody tr th:only-of-type {\n",
       "        vertical-align: middle;\n",
       "    }\n",
       "\n",
       "    .dataframe tbody tr th {\n",
       "        vertical-align: top;\n",
       "    }\n",
       "\n",
       "    .dataframe thead th {\n",
       "        text-align: right;\n",
       "    }\n",
       "</style>\n",
       "<table border=\"1\" class=\"dataframe\">\n",
       "  <thead>\n",
       "    <tr style=\"text-align: right;\">\n",
       "      <th></th>\n",
       "      <th>Site_no</th>\n",
       "      <th>date</th>\n",
       "      <th>ParamLow</th>\n",
       "      <th>ParamHigh</th>\n",
       "      <th>Parameter</th>\n",
       "      <th>Uncen</th>\n",
       "    </tr>\n",
       "  </thead>\n",
       "  <tbody>\n",
       "    <tr>\n",
       "      <th>count</th>\n",
       "      <td>120399</td>\n",
       "      <td>120399</td>\n",
       "      <td>120399.00000</td>\n",
       "      <td>120399.00000</td>\n",
       "      <td>120399</td>\n",
       "      <td>120399.00000</td>\n",
       "    </tr>\n",
       "    <tr>\n",
       "      <th>unique</th>\n",
       "      <td>92</td>\n",
       "      <td>NaN</td>\n",
       "      <td>NaN</td>\n",
       "      <td>NaN</td>\n",
       "      <td>2</td>\n",
       "      <td>NaN</td>\n",
       "    </tr>\n",
       "    <tr>\n",
       "      <th>top</th>\n",
       "      <td>06340500_16249791</td>\n",
       "      <td>NaN</td>\n",
       "      <td>NaN</td>\n",
       "      <td>NaN</td>\n",
       "      <td>Larson</td>\n",
       "      <td>NaN</td>\n",
       "    </tr>\n",
       "    <tr>\n",
       "      <th>freq</th>\n",
       "      <td>14753</td>\n",
       "      <td>NaN</td>\n",
       "      <td>NaN</td>\n",
       "      <td>NaN</td>\n",
       "      <td>88621</td>\n",
       "      <td>NaN</td>\n",
       "    </tr>\n",
       "    <tr>\n",
       "      <th>mean</th>\n",
       "      <td>NaN</td>\n",
       "      <td>1992-06-26 04:17:03.676276352</td>\n",
       "      <td>1.34597</td>\n",
       "      <td>1.37775</td>\n",
       "      <td>NaN</td>\n",
       "      <td>0.49987</td>\n",
       "    </tr>\n",
       "    <tr>\n",
       "      <th>min</th>\n",
       "      <td>NaN</td>\n",
       "      <td>1964-10-02 00:00:00</td>\n",
       "      <td>0.00000</td>\n",
       "      <td>0.00021</td>\n",
       "      <td>NaN</td>\n",
       "      <td>0.00000</td>\n",
       "    </tr>\n",
       "    <tr>\n",
       "      <th>25%</th>\n",
       "      <td>NaN</td>\n",
       "      <td>1980-12-15 00:00:00</td>\n",
       "      <td>0.30064</td>\n",
       "      <td>0.30656</td>\n",
       "      <td>NaN</td>\n",
       "      <td>0.00000</td>\n",
       "    </tr>\n",
       "    <tr>\n",
       "      <th>50%</th>\n",
       "      <td>NaN</td>\n",
       "      <td>1994-06-08 00:00:00</td>\n",
       "      <td>0.74533</td>\n",
       "      <td>0.79830</td>\n",
       "      <td>NaN</td>\n",
       "      <td>0.00000</td>\n",
       "    </tr>\n",
       "    <tr>\n",
       "      <th>75%</th>\n",
       "      <td>NaN</td>\n",
       "      <td>2004-05-13 00:00:00</td>\n",
       "      <td>1.33505</td>\n",
       "      <td>1.38392</td>\n",
       "      <td>NaN</td>\n",
       "      <td>1.00000</td>\n",
       "    </tr>\n",
       "    <tr>\n",
       "      <th>max</th>\n",
       "      <td>NaN</td>\n",
       "      <td>2014-08-13 00:00:00</td>\n",
       "      <td>426.77885</td>\n",
       "      <td>426.77885</td>\n",
       "      <td>NaN</td>\n",
       "      <td>1.00000</td>\n",
       "    </tr>\n",
       "    <tr>\n",
       "      <th>std</th>\n",
       "      <td>NaN</td>\n",
       "      <td>NaN</td>\n",
       "      <td>6.98441</td>\n",
       "      <td>6.98263</td>\n",
       "      <td>NaN</td>\n",
       "      <td>0.50000</td>\n",
       "    </tr>\n",
       "  </tbody>\n",
       "</table>\n",
       "</div>"
      ],
      "text/plain": [
       "                  Site_no                           date     ParamLow  \\\n",
       "count              120399                         120399 120399.00000   \n",
       "unique                 92                            NaN          NaN   \n",
       "top     06340500_16249791                            NaN          NaN   \n",
       "freq                14753                            NaN          NaN   \n",
       "mean                  NaN  1992-06-26 04:17:03.676276352      1.34597   \n",
       "min                   NaN            1964-10-02 00:00:00      0.00000   \n",
       "25%                   NaN            1980-12-15 00:00:00      0.30064   \n",
       "50%                   NaN            1994-06-08 00:00:00      0.74533   \n",
       "75%                   NaN            2004-05-13 00:00:00      1.33505   \n",
       "max                   NaN            2014-08-13 00:00:00    426.77885   \n",
       "std                   NaN                            NaN      6.98441   \n",
       "\n",
       "          ParamHigh Parameter        Uncen  \n",
       "count  120399.00000    120399 120399.00000  \n",
       "unique          NaN         2          NaN  \n",
       "top             NaN    Larson          NaN  \n",
       "freq            NaN     88621          NaN  \n",
       "mean        1.37775       NaN      0.49987  \n",
       "min         0.00021       NaN      0.00000  \n",
       "25%         0.30656       NaN      0.00000  \n",
       "50%         0.79830       NaN      0.00000  \n",
       "75%         1.38392       NaN      1.00000  \n",
       "max       426.77885       NaN      1.00000  \n",
       "std         6.98263       NaN      0.50000  "
      ]
     },
     "execution_count": 26,
     "metadata": {},
     "output_type": "execute_result"
    }
   ],
   "source": [
    "input_data.describe(include = 'all')"
   ]
  },
  {
   "cell_type": "markdown",
   "id": "3facfad6-1345-4100-a306-d8c5377baff1",
   "metadata": {
    "id": "3facfad6-1345-4100-a306-d8c5377baff1"
   },
   "source": [
    "From the above statistical summary, we can deduce some of the following insights:\n",
    "\n",
    "The data recovered provided ranges from **1964-10-02 00:00:00**\tto **2014-08-13 00:00:00**\n",
    "\n",
    "There is a big difference between the **ParamLow** and ParamHigh, the values recorded for each features are scaled and graded differently Hence, a standardization might be needed in the future\n"
   ]
  },
  {
   "cell_type": "code",
   "execution_count": 27,
   "id": "ab6a3ee5-a6a0-4e0d-8362-d970d731a857",
   "metadata": {
    "colab": {
     "base_uri": "https://localhost:8080/",
     "height": 355
    },
    "executionInfo": {
     "elapsed": 529,
     "status": "ok",
     "timestamp": 1656030736148,
     "user": {
      "displayName": "Shittu-Gbeko Ilias Olakunle",
      "userId": "02327692346623940216"
     },
     "user_tz": -60
    },
    "id": "ab6a3ee5-a6a0-4e0d-8362-d970d731a857",
    "outputId": "2a719914-0b73-4cd8-d470-fc4568c46057"
   },
   "outputs": [
    {
     "data": {
      "image/png": "[encoded data removed]",
      "text/plain": [
       "<Figure size 800x500 with 1 Axes>"
      ]
     },
     "metadata": {},
     "output_type": "display_data"
    }
   ],
   "source": [
    "# labelled data distribution\n",
    "sns.set_style('darkgrid')\n",
    "plt.figure(figsize=(8, 5))\n",
    "sns.countplot(input_data[\"Uncen\"])\n",
    "plt.title('Labelled data distribution')\n",
    "plt.show()"
   ]
  },
  {
   "cell_type": "code",
   "execution_count": 38,
   "id": "bd669f58-57b9-4a84-8b91-8955fa304370",
   "metadata": {
    "colab": {
     "base_uri": "https://localhost:8080/",
     "height": 206
    },
    "executionInfo": {
     "elapsed": 494,
     "status": "ok",
     "timestamp": 1656030741051,
     "user": {
      "displayName": "Shittu-Gbeko Ilias Olakunle",
      "userId": "02327692346623940216"
     },
     "user_tz": -60
    },
    "id": "bd669f58-57b9-4a84-8b91-8955fa304370",
    "outputId": "cf005809-ef98-4cf7-a5cb-f03bfe77a7cd",
    "tags": []
   },
   "outputs": [
    {
     "data": {
      "text/html": [
       "<div>\n",
       "<style scoped>\n",
       "    .dataframe tbody tr th:only-of-type {\n",
       "        vertical-align: middle;\n",
       "    }\n",
       "\n",
       "    .dataframe tbody tr th {\n",
       "        vertical-align: top;\n",
       "    }\n",
       "\n",
       "    .dataframe thead th {\n",
       "        text-align: right;\n",
       "    }\n",
       "</style>\n",
       "<table border=\"1\" class=\"dataframe\">\n",
       "  <thead>\n",
       "    <tr style=\"text-align: right;\">\n",
       "      <th></th>\n",
       "      <th>Site_no</th>\n",
       "      <th>date</th>\n",
       "      <th>ParamLow</th>\n",
       "      <th>ParamHigh</th>\n",
       "      <th>Parameter</th>\n",
       "      <th>Uncen</th>\n",
       "    </tr>\n",
       "  </thead>\n",
       "  <tbody>\n",
       "    <tr>\n",
       "      <th>49462</th>\n",
       "      <td>09315000_4931276</td>\n",
       "      <td>2006-05-09</td>\n",
       "      <td>0.57950</td>\n",
       "      <td>0.71165</td>\n",
       "      <td>Larson</td>\n",
       "      <td>0</td>\n",
       "    </tr>\n",
       "    <tr>\n",
       "      <th>49886</th>\n",
       "      <td>09352900</td>\n",
       "      <td>1981-10-01</td>\n",
       "      <td>0.14141</td>\n",
       "      <td>0.36510</td>\n",
       "      <td>Larson</td>\n",
       "      <td>0</td>\n",
       "    </tr>\n",
       "    <tr>\n",
       "      <th>28496</th>\n",
       "      <td>07189000</td>\n",
       "      <td>2000-05-23</td>\n",
       "      <td>0.08373</td>\n",
       "      <td>0.08620</td>\n",
       "      <td>Larson</td>\n",
       "      <td>0</td>\n",
       "    </tr>\n",
       "    <tr>\n",
       "      <th>31414</th>\n",
       "      <td>07311000_674726</td>\n",
       "      <td>2007-08-21</td>\n",
       "      <td>0.82922</td>\n",
       "      <td>0.92880</td>\n",
       "      <td>Larson</td>\n",
       "      <td>0</td>\n",
       "    </tr>\n",
       "    <tr>\n",
       "      <th>21822</th>\n",
       "      <td>06340500_16249791</td>\n",
       "      <td>1969-11-12</td>\n",
       "      <td>0.88941</td>\n",
       "      <td>0.88975</td>\n",
       "      <td>Larson</td>\n",
       "      <td>0</td>\n",
       "    </tr>\n",
       "  </tbody>\n",
       "</table>\n",
       "</div>"
      ],
      "text/plain": [
       "                 Site_no       date  ParamLow  ParamHigh Parameter  Uncen\n",
       "49462   09315000_4931276 2006-05-09   0.57950    0.71165    Larson      0\n",
       "49886           09352900 1981-10-01   0.14141    0.36510    Larson      0\n",
       "28496           07189000 2000-05-23   0.08373    0.08620    Larson      0\n",
       "31414    07311000_674726 2007-08-21   0.82922    0.92880    Larson      0\n",
       "21822  06340500_16249791 1969-11-12   0.88941    0.88975    Larson      0"
      ]
     },
     "execution_count": 38,
     "metadata": {},
     "output_type": "execute_result"
    }
   ],
   "source": [
    "input_data[input_data['Uncen']==0].head()"
   ]
  },
  {
   "cell_type": "markdown",
   "id": "161f516f-60ed-4e2e-8398-1d90b59547e7",
   "metadata": {
    "id": "161f516f-60ed-4e2e-8398-1d90b59547e7"
   },
   "source": [
    "The target distribution is not balanced, Hence some techniques must be employed to handle this imbalances"
   ]
  },
  {
   "cell_type": "code",
   "execution_count": 39,
   "id": "ea78d043-2bee-46cb-8a72-c8eed1216c73",
   "metadata": {
    "executionInfo": {
     "elapsed": 793,
     "status": "ok",
     "timestamp": 1656030752828,
     "user": {
      "displayName": "Shittu-Gbeko Ilias Olakunle",
      "userId": "02327692346623940216"
     },
     "user_tz": -60
    },
    "id": "ea78d043-2bee-46cb-8a72-c8eed1216c73",
    "jupyter": {
     "source_hidden": true
    },
    "tags": []
   },
   "outputs": [],
   "source": [
    "## It is clear that the minority class is un_corroded 0 so oversampling will be applyed to increase the observation of the un_corroded \n",
    "\n",
    "## implementation of resampling in the above dataset\n",
    "from sklearn.utils import resample\n",
    "\n",
    "## splitting the datasets into 2 dataframe based on the labels\n",
    "corroded = input_data[input_data['Uncen']==1]\n",
    "un_corroded = input_data[input_data['Uncen']==0]\n",
    "\n",
    "## creating a dataframe of un_corroded by random oversampling\n",
    "random_sampling = resample(un_corroded,random_state=0,replace=True,n_samples=len(corroded)) \n",
    "\n",
    "## combining the randomly sampled dataset with corroded dataset to form a new dataset\n",
    "input_data=pd.concat([corroded,random_sampling])"
   ]
  },
  {
   "cell_type": "code",
   "execution_count": 40,
   "id": "596160a9-a3b3-40f6-b0d3-d81481bee8c6",
   "metadata": {
    "colab": {
     "base_uri": "https://localhost:8080/",
     "height": 355
    },
    "executionInfo": {
     "elapsed": 863,
     "status": "ok",
     "timestamp": 1656030757840,
     "user": {
      "displayName": "Shittu-Gbeko Ilias Olakunle",
      "userId": "02327692346623940216"
     },
     "user_tz": -60
    },
    "id": "596160a9-a3b3-40f6-b0d3-d81481bee8c6",
    "outputId": "a4fa7cbb-87ea-4931-b849-847a122b7ac0"
   },
   "outputs": [
    {
     "data": {
      "image/png": "[encoded data removed]",
      "text/plain": [
       "<Figure size 800x500 with 1 Axes>"
      ]
     },
     "metadata": {},
     "output_type": "display_data"
    }
   ],
   "source": [
    "# Now lets make sure we have a uniform class distribution\n",
    "# labelled data distribution\n",
    "sns.set_style('darkgrid')\n",
    "plt.figure(figsize=(8, 5))\n",
    "sns.countplot(input_data[\"Uncen\"])\n",
    "plt.title('Labelled data distribution')\n",
    "plt.show()"
   ]
  },
  {
   "cell_type": "code",
   "execution_count": 41,
   "id": "7d86a465-b4d8-4908-a40b-cf486386341e",
   "metadata": {
    "colab": {
     "base_uri": "https://localhost:8080/"
    },
    "executionInfo": {
     "elapsed": 812,
     "status": "ok",
     "timestamp": 1656030761940,
     "user": {
      "displayName": "Shittu-Gbeko Ilias Olakunle",
      "userId": "02327692346623940216"
     },
     "user_tz": -60
    },
    "id": "7d86a465-b4d8-4908-a40b-cf486386341e",
    "outputId": "9ea0e23f-eafc-493a-9de0-7aa1512891c9"
   },
   "outputs": [
    {
     "data": {
      "text/plain": [
       "False"
      ]
     },
     "execution_count": 41,
     "metadata": {},
     "output_type": "execute_result"
    }
   ],
   "source": [
    "# Check or missing values \n",
    "input_data.isnull().sum().any()"
   ]
  },
  {
   "cell_type": "markdown",
   "id": "PMOJDyGOetKO",
   "metadata": {
    "id": "PMOJDyGOetKO"
   },
   "source": [
    "So no missing data for entries, well thats kind of strange though for an experimental analysis"
   ]
  },
  {
   "cell_type": "code",
   "execution_count": 43,
   "id": "375e11e0-1138-4420-ace7-838d455654cf",
   "metadata": {
    "colab": {
     "base_uri": "https://localhost:8080/"
    },
    "executionInfo": {
     "elapsed": 686,
     "status": "ok",
     "timestamp": 1656030766338,
     "user": {
      "displayName": "Shittu-Gbeko Ilias Olakunle",
      "userId": "02327692346623940216"
     },
     "user_tz": -60
    },
    "id": "375e11e0-1138-4420-ace7-838d455654cf",
    "outputId": "a9f6f193-0b59-4a2a-f4e7-ea46e472f031"
   },
   "outputs": [
    {
     "data": {
      "text/plain": [
       "60125"
      ]
     },
     "execution_count": 43,
     "metadata": {},
     "output_type": "execute_result"
    }
   ],
   "source": [
    "# Check for duplicate\n",
    "input_data.duplicated().sum()"
   ]
  },
  {
   "cell_type": "markdown",
   "id": "qWsgF0qMfbMo",
   "metadata": {
    "id": "qWsgF0qMfbMo"
   },
   "source": [
    "Recordings are based on independent sites at different times and weather conditions. Also the differential gradient on factors affecting each might not be that far, Hence the similarity in data emtries"
   ]
  },
  {
   "cell_type": "code",
   "execution_count": 44,
   "id": "3ab69f47-bbbb-490a-85e4-7c1508727a52",
   "metadata": {
    "executionInfo": {
     "elapsed": 645,
     "status": "ok",
     "timestamp": 1656030770531,
     "user": {
      "displayName": "Shittu-Gbeko Ilias Olakunle",
      "userId": "02327692346623940216"
     },
     "user_tz": -60
    },
    "id": "3ab69f47-bbbb-490a-85e4-7c1508727a52"
   },
   "outputs": [],
   "source": [
    "#getting rid of the infinite entries\n",
    "with pd.option_context('mode.use_inf_as_na', True):\n",
    "  input_data.dropna(inplace=True)"
   ]
  },
  {
   "cell_type": "code",
   "execution_count": 45,
   "id": "96f13bdb-f272-4eed-9d35-5262d92a0035",
   "metadata": {
    "executionInfo": {
     "elapsed": 821,
     "status": "ok",
     "timestamp": 1656030778591,
     "user": {
      "displayName": "Shittu-Gbeko Ilias Olakunle",
      "userId": "02327692346623940216"
     },
     "user_tz": -60
    },
    "id": "96f13bdb-f272-4eed-9d35-5262d92a0035"
   },
   "outputs": [],
   "source": [
    "#Lets take a look at a the distribution of each features\n",
    "data1 = input_data"
   ]
  },
  {
   "cell_type": "code",
   "execution_count": 46,
   "id": "c5c92835-e5a0-4107-8a2b-ea8ec7a7d514",
   "metadata": {
    "colab": {
     "base_uri": "https://localhost:8080/",
     "height": 206
    },
    "executionInfo": {
     "elapsed": 14,
     "status": "ok",
     "timestamp": 1656030781159,
     "user": {
      "displayName": "Shittu-Gbeko Ilias Olakunle",
      "userId": "02327692346623940216"
     },
     "user_tz": -60
    },
    "id": "c5c92835-e5a0-4107-8a2b-ea8ec7a7d514",
    "outputId": "2a5d841d-e112-49d0-f4da-199c2093dd85"
   },
   "outputs": [
    {
     "data": {
      "text/html": [
       "<div>\n",
       "<style scoped>\n",
       "    .dataframe tbody tr th:only-of-type {\n",
       "        vertical-align: middle;\n",
       "    }\n",
       "\n",
       "    .dataframe tbody tr th {\n",
       "        vertical-align: top;\n",
       "    }\n",
       "\n",
       "    .dataframe thead th {\n",
       "        text-align: right;\n",
       "    }\n",
       "</style>\n",
       "<table border=\"1\" class=\"dataframe\">\n",
       "  <thead>\n",
       "    <tr style=\"text-align: right;\">\n",
       "      <th></th>\n",
       "      <th>Site_no</th>\n",
       "      <th>date</th>\n",
       "      <th>ParamLow</th>\n",
       "      <th>ParamHigh</th>\n",
       "      <th>Parameter</th>\n",
       "      <th>Uncen</th>\n",
       "    </tr>\n",
       "  </thead>\n",
       "  <tbody>\n",
       "    <tr>\n",
       "      <th>0</th>\n",
       "      <td>01122610</td>\n",
       "      <td>1974-07-08</td>\n",
       "      <td>1.53540</td>\n",
       "      <td>1.53540</td>\n",
       "      <td>Larson</td>\n",
       "      <td>1</td>\n",
       "    </tr>\n",
       "    <tr>\n",
       "      <th>1</th>\n",
       "      <td>01122610</td>\n",
       "      <td>1974-07-08</td>\n",
       "      <td>0.80103</td>\n",
       "      <td>0.80103</td>\n",
       "      <td>CSMR</td>\n",
       "      <td>1</td>\n",
       "    </tr>\n",
       "    <tr>\n",
       "      <th>2</th>\n",
       "      <td>01122610</td>\n",
       "      <td>1974-08-05</td>\n",
       "      <td>2.02023</td>\n",
       "      <td>2.02023</td>\n",
       "      <td>Larson</td>\n",
       "      <td>1</td>\n",
       "    </tr>\n",
       "    <tr>\n",
       "      <th>3</th>\n",
       "      <td>01122610</td>\n",
       "      <td>1974-08-05</td>\n",
       "      <td>1.16817</td>\n",
       "      <td>1.16817</td>\n",
       "      <td>CSMR</td>\n",
       "      <td>1</td>\n",
       "    </tr>\n",
       "    <tr>\n",
       "      <th>4</th>\n",
       "      <td>01122610</td>\n",
       "      <td>1974-09-16</td>\n",
       "      <td>2.27004</td>\n",
       "      <td>2.27004</td>\n",
       "      <td>Larson</td>\n",
       "      <td>1</td>\n",
       "    </tr>\n",
       "  </tbody>\n",
       "</table>\n",
       "</div>"
      ],
      "text/plain": [
       "    Site_no       date  ParamLow  ParamHigh Parameter  Uncen\n",
       "0  01122610 1974-07-08   1.53540    1.53540    Larson      1\n",
       "1  01122610 1974-07-08   0.80103    0.80103      CSMR      1\n",
       "2  01122610 1974-08-05   2.02023    2.02023    Larson      1\n",
       "3  01122610 1974-08-05   1.16817    1.16817      CSMR      1\n",
       "4  01122610 1974-09-16   2.27004    2.27004    Larson      1"
      ]
     },
     "execution_count": 46,
     "metadata": {},
     "output_type": "execute_result"
    }
   ],
   "source": [
    "data1.head()"
   ]
  },
  {
   "cell_type": "code",
   "execution_count": 48,
   "id": "57d77a79-06ab-491a-8f3c-dc442d1507ab",
   "metadata": {
    "colab": {
     "base_uri": "https://localhost:8080/",
     "height": 647
    },
    "executionInfo": {
     "elapsed": 667,
     "status": "ok",
     "timestamp": 1656030786410,
     "user": {
      "displayName": "Shittu-Gbeko Ilias Olakunle",
      "userId": "02327692346623940216"
     },
     "user_tz": -60
    },
    "id": "57d77a79-06ab-491a-8f3c-dc442d1507ab",
    "outputId": "6ec0bd04-1cce-4e68-fbcb-c64afe09b9a3"
   },
   "outputs": [
    {
     "data": {
      "image/png": "[encoded data removed]",
      "text/plain": [
       "<Figure size 1500x1000 with 2 Axes>"
      ]
     },
     "metadata": {},
     "output_type": "display_data"
    }
   ],
   "source": [
    "# Plotting boxplots for each of the numerical columns\n",
    "sns.set_style('darkgrid')\n",
    "fig, axes = plt.subplots(nrows = 1, ncols = 2, figsize = (15, 10))\n",
    "fig.suptitle('Box plots showing outliers', y= 0.93, fontsize = 15)\n",
    "\n",
    "for ax, data, name in zip(axes.flatten(), data1, ['ParamLow','ParamHigh',]):\n",
    "  sns.boxplot(data1[name], ax = ax)"
   ]
  },
  {
   "cell_type": "code",
   "execution_count": 49,
   "id": "1olV-6dRjgtl",
   "metadata": {
    "colab": {
     "base_uri": "https://localhost:8080/"
    },
    "executionInfo": {
     "elapsed": 636,
     "status": "ok",
     "timestamp": 1656030795805,
     "user": {
      "displayName": "Shittu-Gbeko Ilias Olakunle",
      "userId": "02327692346623940216"
     },
     "user_tz": -60
    },
    "id": "1olV-6dRjgtl",
    "outputId": "deb8c349-1b53-44ae-bfbf-dad0e3350df0"
   },
   "outputs": [
    {
     "ename": "TypeError",
     "evalue": "'DatetimeArray' with dtype datetime64[ns] does not support reduction 'sum'",
     "output_type": "error",
     "traceback": [
      "\u001b[31m---------------------------------------------------------------------------\u001b[39m",
      "\u001b[31mTypeError\u001b[39m                                 Traceback (most recent call last)",
      "\u001b[36mCell\u001b[39m\u001b[36m \u001b[39m\u001b[32mIn[49]\u001b[39m\u001b[32m, line 4\u001b[39m\n\u001b[32m      2\u001b[39m data_out_high = data1[data1[\u001b[33m'\u001b[39m\u001b[33mParamHigh\u001b[39m\u001b[33m'\u001b[39m]>data1[\u001b[33m'\u001b[39m\u001b[33mParamHigh\u001b[39m\u001b[33m'\u001b[39m].quantile(\u001b[32m0.99\u001b[39m)]\n\u001b[32m      3\u001b[39m data_out_low = data1[data1[\u001b[33m'\u001b[39m\u001b[33mParamLow\u001b[39m\u001b[33m'\u001b[39m]>data1[\u001b[33m'\u001b[39m\u001b[33mParamLow\u001b[39m\u001b[33m'\u001b[39m].quantile(\u001b[32m0.99\u001b[39m)]\n\u001b[32m----> \u001b[39m\u001b[32m4\u001b[39m \u001b[43mdata_out_high\u001b[49m\u001b[43m.\u001b[49m\u001b[43msum\u001b[49m\u001b[43m(\u001b[49m\u001b[43m)\u001b[49m[\u001b[33m'\u001b[39m\u001b[33mParamHigh\u001b[39m\u001b[33m'\u001b[39m], data_out_low.sum()[\u001b[33m'\u001b[39m\u001b[33mParamLow\u001b[39m\u001b[33m'\u001b[39m]\n",
      "\u001b[36mFile \u001b[39m\u001b[32mc:\\ProgramData\\anaconda3\\Lib\\site-packages\\pandas\\core\\generic.py:11512\u001b[39m, in \u001b[36mNDFrame._add_numeric_operations.<locals>.sum\u001b[39m\u001b[34m(self, axis, skipna, numeric_only, min_count, **kwargs)\u001b[39m\n\u001b[32m  11493\u001b[39m \u001b[38;5;129m@doc\u001b[39m(  \u001b[38;5;66;03m# type: ignore[misc]\u001b[39;00m\n\u001b[32m  11494\u001b[39m     _num_doc,\n\u001b[32m  11495\u001b[39m     desc=\u001b[33m\"\u001b[39m\u001b[33mReturn the sum of the values over the requested axis.\u001b[39m\u001b[38;5;130;01m\\n\u001b[39;00m\u001b[38;5;130;01m\\n\u001b[39;00m\u001b[33m\"\u001b[39m\n\u001b[32m   (...)\u001b[39m\u001b[32m  11510\u001b[39m     **kwargs,\n\u001b[32m  11511\u001b[39m ):\n\u001b[32m> \u001b[39m\u001b[32m11512\u001b[39m     \u001b[38;5;28;01mreturn\u001b[39;00m \u001b[43mNDFrame\u001b[49m\u001b[43m.\u001b[49m\u001b[43msum\u001b[49m\u001b[43m(\u001b[49m\u001b[38;5;28;43mself\u001b[39;49m\u001b[43m,\u001b[49m\u001b[43m \u001b[49m\u001b[43maxis\u001b[49m\u001b[43m,\u001b[49m\u001b[43m \u001b[49m\u001b[43mskipna\u001b[49m\u001b[43m,\u001b[49m\u001b[43m \u001b[49m\u001b[43mnumeric_only\u001b[49m\u001b[43m,\u001b[49m\u001b[43m \u001b[49m\u001b[43mmin_count\u001b[49m\u001b[43m,\u001b[49m\u001b[43m \u001b[49m\u001b[43m*\u001b[49m\u001b[43m*\u001b[49m\u001b[43mkwargs\u001b[49m\u001b[43m)\u001b[49m\n",
      "\u001b[36mFile \u001b[39m\u001b[32mc:\\ProgramData\\anaconda3\\Lib\\site-packages\\pandas\\core\\generic.py:11280\u001b[39m, in \u001b[36mNDFrame.sum\u001b[39m\u001b[34m(self, axis, skipna, numeric_only, min_count, **kwargs)\u001b[39m\n\u001b[32m  11272\u001b[39m \u001b[38;5;28;01mdef\u001b[39;00m \u001b[34msum\u001b[39m(\n\u001b[32m  11273\u001b[39m     \u001b[38;5;28mself\u001b[39m,\n\u001b[32m  11274\u001b[39m     axis: Axis | \u001b[38;5;28;01mNone\u001b[39;00m = \u001b[38;5;28;01mNone\u001b[39;00m,\n\u001b[32m   (...)\u001b[39m\u001b[32m  11278\u001b[39m     **kwargs,\n\u001b[32m  11279\u001b[39m ):\n\u001b[32m> \u001b[39m\u001b[32m11280\u001b[39m     \u001b[38;5;28;01mreturn\u001b[39;00m \u001b[38;5;28;43mself\u001b[39;49m\u001b[43m.\u001b[49m\u001b[43m_min_count_stat_function\u001b[49m\u001b[43m(\u001b[49m\n\u001b[32m  11281\u001b[39m \u001b[43m        \u001b[49m\u001b[33;43m\"\u001b[39;49m\u001b[33;43msum\u001b[39;49m\u001b[33;43m\"\u001b[39;49m\u001b[43m,\u001b[49m\u001b[43m \u001b[49m\u001b[43mnanops\u001b[49m\u001b[43m.\u001b[49m\u001b[43mnansum\u001b[49m\u001b[43m,\u001b[49m\u001b[43m \u001b[49m\u001b[43maxis\u001b[49m\u001b[43m,\u001b[49m\u001b[43m \u001b[49m\u001b[43mskipna\u001b[49m\u001b[43m,\u001b[49m\u001b[43m \u001b[49m\u001b[43mnumeric_only\u001b[49m\u001b[43m,\u001b[49m\u001b[43m \u001b[49m\u001b[43mmin_count\u001b[49m\u001b[43m,\u001b[49m\u001b[43m \u001b[49m\u001b[43m*\u001b[49m\u001b[43m*\u001b[49m\u001b[43mkwargs\u001b[49m\n\u001b[32m  11282\u001b[39m \u001b[43m    \u001b[49m\u001b[43m)\u001b[49m\n",
      "\u001b[36mFile \u001b[39m\u001b[32mc:\\ProgramData\\anaconda3\\Lib\\site-packages\\pandas\\core\\generic.py:11263\u001b[39m, in \u001b[36mNDFrame._min_count_stat_function\u001b[39m\u001b[34m(self, name, func, axis, skipna, numeric_only, min_count, **kwargs)\u001b[39m\n\u001b[32m  11260\u001b[39m \u001b[38;5;28;01mif\u001b[39;00m axis \u001b[38;5;129;01mis\u001b[39;00m \u001b[38;5;28;01mNone\u001b[39;00m:\n\u001b[32m  11261\u001b[39m     axis = \u001b[38;5;28mself\u001b[39m._stat_axis_number\n\u001b[32m> \u001b[39m\u001b[32m11263\u001b[39m \u001b[38;5;28;01mreturn\u001b[39;00m \u001b[38;5;28;43mself\u001b[39;49m\u001b[43m.\u001b[49m\u001b[43m_reduce\u001b[49m\u001b[43m(\u001b[49m\n\u001b[32m  11264\u001b[39m \u001b[43m    \u001b[49m\u001b[43mfunc\u001b[49m\u001b[43m,\u001b[49m\n\u001b[32m  11265\u001b[39m \u001b[43m    \u001b[49m\u001b[43mname\u001b[49m\u001b[43m=\u001b[49m\u001b[43mname\u001b[49m\u001b[43m,\u001b[49m\n\u001b[32m  11266\u001b[39m \u001b[43m    \u001b[49m\u001b[43maxis\u001b[49m\u001b[43m=\u001b[49m\u001b[43maxis\u001b[49m\u001b[43m,\u001b[49m\n\u001b[32m  11267\u001b[39m \u001b[43m    \u001b[49m\u001b[43mskipna\u001b[49m\u001b[43m=\u001b[49m\u001b[43mskipna\u001b[49m\u001b[43m,\u001b[49m\n\u001b[32m  11268\u001b[39m \u001b[43m    \u001b[49m\u001b[43mnumeric_only\u001b[49m\u001b[43m=\u001b[49m\u001b[43mnumeric_only\u001b[49m\u001b[43m,\u001b[49m\n\u001b[32m  11269\u001b[39m \u001b[43m    \u001b[49m\u001b[43mmin_count\u001b[49m\u001b[43m=\u001b[49m\u001b[43mmin_count\u001b[49m\u001b[43m,\u001b[49m\n\u001b[32m  11270\u001b[39m \u001b[43m\u001b[49m\u001b[43m)\u001b[49m\n",
      "\u001b[36mFile \u001b[39m\u001b[32mc:\\ProgramData\\anaconda3\\Lib\\site-packages\\pandas\\core\\frame.py:10519\u001b[39m, in \u001b[36mDataFrame._reduce\u001b[39m\u001b[34m(self, op, name, axis, skipna, numeric_only, filter_type, **kwds)\u001b[39m\n\u001b[32m  10515\u001b[39m     df = df.T\n\u001b[32m  10517\u001b[39m \u001b[38;5;66;03m# After possibly _get_data and transposing, we are now in the\u001b[39;00m\n\u001b[32m  10518\u001b[39m \u001b[38;5;66;03m#  simple case where we can use BlockManager.reduce\u001b[39;00m\n\u001b[32m> \u001b[39m\u001b[32m10519\u001b[39m res = \u001b[43mdf\u001b[49m\u001b[43m.\u001b[49m\u001b[43m_mgr\u001b[49m\u001b[43m.\u001b[49m\u001b[43mreduce\u001b[49m\u001b[43m(\u001b[49m\u001b[43mblk_func\u001b[49m\u001b[43m)\u001b[49m\n\u001b[32m  10520\u001b[39m out = df._constructor(res).iloc[\u001b[32m0\u001b[39m]\n\u001b[32m  10521\u001b[39m \u001b[38;5;28;01mif\u001b[39;00m out_dtype \u001b[38;5;129;01mis\u001b[39;00m \u001b[38;5;129;01mnot\u001b[39;00m \u001b[38;5;28;01mNone\u001b[39;00m:\n",
      "\u001b[36mFile \u001b[39m\u001b[32mc:\\ProgramData\\anaconda3\\Lib\\site-packages\\pandas\\core\\internals\\managers.py:1534\u001b[39m, in \u001b[36mBlockManager.reduce\u001b[39m\u001b[34m(self, func)\u001b[39m\n\u001b[32m   1532\u001b[39m res_blocks: \u001b[38;5;28mlist\u001b[39m[Block] = []\n\u001b[32m   1533\u001b[39m \u001b[38;5;28;01mfor\u001b[39;00m blk \u001b[38;5;129;01min\u001b[39;00m \u001b[38;5;28mself\u001b[39m.blocks:\n\u001b[32m-> \u001b[39m\u001b[32m1534\u001b[39m     nbs = \u001b[43mblk\u001b[49m\u001b[43m.\u001b[49m\u001b[43mreduce\u001b[49m\u001b[43m(\u001b[49m\u001b[43mfunc\u001b[49m\u001b[43m)\u001b[49m\n\u001b[32m   1535\u001b[39m     res_blocks.extend(nbs)\n\u001b[32m   1537\u001b[39m index = Index([\u001b[38;5;28;01mNone\u001b[39;00m])  \u001b[38;5;66;03m# placeholder\u001b[39;00m\n",
      "\u001b[36mFile \u001b[39m\u001b[32mc:\\ProgramData\\anaconda3\\Lib\\site-packages\\pandas\\core\\internals\\blocks.py:339\u001b[39m, in \u001b[36mBlock.reduce\u001b[39m\u001b[34m(self, func)\u001b[39m\n\u001b[32m    333\u001b[39m \u001b[38;5;129m@final\u001b[39m\n\u001b[32m    334\u001b[39m \u001b[38;5;28;01mdef\u001b[39;00m \u001b[34mreduce\u001b[39m(\u001b[38;5;28mself\u001b[39m, func) -> \u001b[38;5;28mlist\u001b[39m[Block]:\n\u001b[32m    335\u001b[39m     \u001b[38;5;66;03m# We will apply the function and reshape the result into a single-row\u001b[39;00m\n\u001b[32m    336\u001b[39m     \u001b[38;5;66;03m#  Block with the same mgr_locs; squeezing will be done at a higher level\u001b[39;00m\n\u001b[32m    337\u001b[39m     \u001b[38;5;28;01massert\u001b[39;00m \u001b[38;5;28mself\u001b[39m.ndim == \u001b[32m2\u001b[39m\n\u001b[32m--> \u001b[39m\u001b[32m339\u001b[39m     result = \u001b[43mfunc\u001b[49m\u001b[43m(\u001b[49m\u001b[38;5;28;43mself\u001b[39;49m\u001b[43m.\u001b[49m\u001b[43mvalues\u001b[49m\u001b[43m)\u001b[49m\n\u001b[32m    341\u001b[39m     \u001b[38;5;28;01mif\u001b[39;00m \u001b[38;5;28mself\u001b[39m.values.ndim == \u001b[32m1\u001b[39m:\n\u001b[32m    342\u001b[39m         \u001b[38;5;66;03m# TODO(EA2D): special case not needed with 2D EAs\u001b[39;00m\n\u001b[32m    343\u001b[39m         res_values = np.array([[result]])\n",
      "\u001b[36mFile \u001b[39m\u001b[32mc:\\ProgramData\\anaconda3\\Lib\\site-packages\\pandas\\core\\frame.py:10479\u001b[39m, in \u001b[36mDataFrame._reduce.<locals>.blk_func\u001b[39m\u001b[34m(values, axis)\u001b[39m\n\u001b[32m  10475\u001b[39m \u001b[38;5;28;01mif\u001b[39;00m \u001b[38;5;28misinstance\u001b[39m(values, ExtensionArray):\n\u001b[32m  10476\u001b[39m     \u001b[38;5;28;01mif\u001b[39;00m \u001b[38;5;129;01mnot\u001b[39;00m is_1d_only_ea_dtype(values.dtype) \u001b[38;5;129;01mand\u001b[39;00m \u001b[38;5;129;01mnot\u001b[39;00m \u001b[38;5;28misinstance\u001b[39m(\n\u001b[32m  10477\u001b[39m         \u001b[38;5;28mself\u001b[39m._mgr, ArrayManager\n\u001b[32m  10478\u001b[39m     ):\n\u001b[32m> \u001b[39m\u001b[32m10479\u001b[39m         \u001b[38;5;28;01mreturn\u001b[39;00m \u001b[43mvalues\u001b[49m\u001b[43m.\u001b[49m\u001b[43m_reduce\u001b[49m\u001b[43m(\u001b[49m\u001b[43mname\u001b[49m\u001b[43m,\u001b[49m\u001b[43m \u001b[49m\u001b[43maxis\u001b[49m\u001b[43m=\u001b[49m\u001b[32;43m1\u001b[39;49m\u001b[43m,\u001b[49m\u001b[43m \u001b[49m\u001b[43mskipna\u001b[49m\u001b[43m=\u001b[49m\u001b[43mskipna\u001b[49m\u001b[43m,\u001b[49m\u001b[43m \u001b[49m\u001b[43m*\u001b[49m\u001b[43m*\u001b[49m\u001b[43mkwds\u001b[49m\u001b[43m)\u001b[49m\n\u001b[32m  10480\u001b[39m     \u001b[38;5;28;01mreturn\u001b[39;00m values._reduce(name, skipna=skipna, **kwds)\n\u001b[32m  10481\u001b[39m \u001b[38;5;28;01melse\u001b[39;00m:\n",
      "\u001b[36mFile \u001b[39m\u001b[32mc:\\ProgramData\\anaconda3\\Lib\\site-packages\\pandas\\core\\arrays\\base.py:1440\u001b[39m, in \u001b[36mExtensionArray._reduce\u001b[39m\u001b[34m(self, name, skipna, **kwargs)\u001b[39m\n\u001b[32m   1438\u001b[39m meth = \u001b[38;5;28mgetattr\u001b[39m(\u001b[38;5;28mself\u001b[39m, name, \u001b[38;5;28;01mNone\u001b[39;00m)\n\u001b[32m   1439\u001b[39m \u001b[38;5;28;01mif\u001b[39;00m meth \u001b[38;5;129;01mis\u001b[39;00m \u001b[38;5;28;01mNone\u001b[39;00m:\n\u001b[32m-> \u001b[39m\u001b[32m1440\u001b[39m     \u001b[38;5;28;01mraise\u001b[39;00m \u001b[38;5;167;01mTypeError\u001b[39;00m(\n\u001b[32m   1441\u001b[39m         \u001b[33mf\u001b[39m\u001b[33m\"\u001b[39m\u001b[33m'\u001b[39m\u001b[38;5;132;01m{\u001b[39;00m\u001b[38;5;28mtype\u001b[39m(\u001b[38;5;28mself\u001b[39m).\u001b[34m__name__\u001b[39m\u001b[38;5;132;01m}\u001b[39;00m\u001b[33m'\u001b[39m\u001b[33m with dtype \u001b[39m\u001b[38;5;132;01m{\u001b[39;00m\u001b[38;5;28mself\u001b[39m.dtype\u001b[38;5;132;01m}\u001b[39;00m\u001b[33m \u001b[39m\u001b[33m\"\u001b[39m\n\u001b[32m   1442\u001b[39m         \u001b[33mf\u001b[39m\u001b[33m\"\u001b[39m\u001b[33mdoes not support reduction \u001b[39m\u001b[33m'\u001b[39m\u001b[38;5;132;01m{\u001b[39;00mname\u001b[38;5;132;01m}\u001b[39;00m\u001b[33m'\u001b[39m\u001b[33m\"\u001b[39m\n\u001b[32m   1443\u001b[39m     )\n\u001b[32m   1444\u001b[39m \u001b[38;5;28;01mreturn\u001b[39;00m meth(skipna=skipna, **kwargs)\n",
      "\u001b[31mTypeError\u001b[39m: 'DatetimeArray' with dtype datetime64[ns] does not support reduction 'sum'"
     ]
    }
   ],
   "source": [
    "#finding the number of outliers for the price_per_unit\n",
    "data_out_high = data1[data1['ParamHigh']>data1['ParamHigh'].quantile(0.99)]\n",
    "data_out_low = data1[data1['ParamLow']>data1['ParamLow'].quantile(0.99)]\n",
    "data_out_high.sum()['ParamHigh'], data_out_low.sum()['ParamLow']"
   ]
  },
  {
   "cell_type": "code",
   "execution_count": 50,
   "id": "RHIJ4PYvk8uK",
   "metadata": {
    "executionInfo": {
     "elapsed": 580,
     "status": "ok",
     "timestamp": 1656024924407,
     "user": {
      "displayName": "Shittu-Gbeko Ilias Olakunle",
      "userId": "02327692346623940216"
     },
     "user_tz": -60
    },
    "id": "RHIJ4PYvk8uK"
   },
   "outputs": [],
   "source": [
    "#outline numerical columns\n",
    "param_cols = ['ParamHigh','ParamLow']\n",
    "\n",
    "#function that analyse and give report of number and visulaisation of outliers\n",
    "def num_of_outliers(data):\n",
    "  param_cols = data.select_dtypes(include=['float64']).columns\n",
    "  for col in (param_cols):\n",
    "    num_of_outliers = data[data[col]>data[col].quantile(0.99)].shape[0]\n",
    "    fig, ax = plt.subplots(1,1, figsize=(15, 6))\n",
    "    sns.histplot(x = data[col])\n",
    "    fig.text(0.1, 0.95, f'There are {num_of_outliers} outlier rows in {col} column', fontsize=16, fontweight='bold', fontfamily='serif')\n",
    "    plt.xlabel(' ', fontsize=20)\n",
    "    plt.ylabel('')\n",
    "    plt.yticks(fontsize=13)\n",
    "    plt.box(False)\n",
    "\n",
    "#finding the numbers of outliers\n",
    "#num_of_outliers(data1)"
   ]
  },
  {
   "cell_type": "code",
   "execution_count": 51,
   "id": "H1RZn47gox1v",
   "metadata": {
    "colab": {
     "base_uri": "https://localhost:8080/",
     "height": 300
    },
    "executionInfo": {
     "elapsed": 483,
     "status": "ok",
     "timestamp": 1656030801984,
     "user": {
      "displayName": "Shittu-Gbeko Ilias Olakunle",
      "userId": "02327692346623940216"
     },
     "user_tz": -60
    },
    "id": "H1RZn47gox1v",
    "outputId": "d7d07d7d-0425-45d1-f69a-b1aa8e923d20"
   },
   "outputs": [
    {
     "data": {
      "text/html": [
       "<div>\n",
       "<style scoped>\n",
       "    .dataframe tbody tr th:only-of-type {\n",
       "        vertical-align: middle;\n",
       "    }\n",
       "\n",
       "    .dataframe tbody tr th {\n",
       "        vertical-align: top;\n",
       "    }\n",
       "\n",
       "    .dataframe thead th {\n",
       "        text-align: right;\n",
       "    }\n",
       "</style>\n",
       "<table border=\"1\" class=\"dataframe\">\n",
       "  <thead>\n",
       "    <tr style=\"text-align: right;\">\n",
       "      <th></th>\n",
       "      <th>date</th>\n",
       "      <th>ParamLow</th>\n",
       "      <th>ParamHigh</th>\n",
       "      <th>Uncen</th>\n",
       "    </tr>\n",
       "  </thead>\n",
       "  <tbody>\n",
       "    <tr>\n",
       "      <th>count</th>\n",
       "      <td>120368</td>\n",
       "      <td>120368.00000</td>\n",
       "      <td>120368.00000</td>\n",
       "      <td>120368.00000</td>\n",
       "    </tr>\n",
       "    <tr>\n",
       "      <th>mean</th>\n",
       "      <td>1992-06-02 15:28:05.391466112</td>\n",
       "      <td>1.34531</td>\n",
       "      <td>1.37718</td>\n",
       "      <td>0.50000</td>\n",
       "    </tr>\n",
       "    <tr>\n",
       "      <th>min</th>\n",
       "      <td>1964-10-02 00:00:00</td>\n",
       "      <td>0.00000</td>\n",
       "      <td>0.00021</td>\n",
       "      <td>0.00000</td>\n",
       "    </tr>\n",
       "    <tr>\n",
       "      <th>25%</th>\n",
       "      <td>1980-10-24 00:00:00</td>\n",
       "      <td>0.30064</td>\n",
       "      <td>0.30656</td>\n",
       "      <td>0.00000</td>\n",
       "    </tr>\n",
       "    <tr>\n",
       "      <th>50%</th>\n",
       "      <td>1994-06-08 00:00:00</td>\n",
       "      <td>0.74533</td>\n",
       "      <td>0.79830</td>\n",
       "      <td>0.50000</td>\n",
       "    </tr>\n",
       "    <tr>\n",
       "      <th>75%</th>\n",
       "      <td>2004-05-13 00:00:00</td>\n",
       "      <td>1.33505</td>\n",
       "      <td>1.38392</td>\n",
       "      <td>1.00000</td>\n",
       "    </tr>\n",
       "    <tr>\n",
       "      <th>max</th>\n",
       "      <td>2014-08-13 00:00:00</td>\n",
       "      <td>426.77885</td>\n",
       "      <td>426.77885</td>\n",
       "      <td>1.00000</td>\n",
       "    </tr>\n",
       "    <tr>\n",
       "      <th>std</th>\n",
       "      <td>NaN</td>\n",
       "      <td>6.98533</td>\n",
       "      <td>6.98354</td>\n",
       "      <td>0.50000</td>\n",
       "    </tr>\n",
       "  </tbody>\n",
       "</table>\n",
       "</div>"
      ],
      "text/plain": [
       "                                date     ParamLow    ParamHigh        Uncen\n",
       "count                         120368 120368.00000 120368.00000 120368.00000\n",
       "mean   1992-06-02 15:28:05.391466112      1.34531      1.37718      0.50000\n",
       "min              1964-10-02 00:00:00      0.00000      0.00021      0.00000\n",
       "25%              1980-10-24 00:00:00      0.30064      0.30656      0.00000\n",
       "50%              1994-06-08 00:00:00      0.74533      0.79830      0.50000\n",
       "75%              2004-05-13 00:00:00      1.33505      1.38392      1.00000\n",
       "max              2014-08-13 00:00:00    426.77885    426.77885      1.00000\n",
       "std                              NaN      6.98533      6.98354      0.50000"
      ]
     },
     "execution_count": 51,
     "metadata": {},
     "output_type": "execute_result"
    }
   ],
   "source": [
    "data1.describe()"
   ]
  },
  {
   "cell_type": "markdown",
   "id": "mfg0zUrooGq6",
   "metadata": {
    "id": "mfg0zUrooGq6"
   },
   "source": [
    "The fact the data set contains a big number outliers does not invalidate its significance \n",
    "\n",
    "Empirical observations and recordings are expected to varies due to many factors which must be observed\n",
    "\n",
    "I think it will be a really bad idea getting rid of them "
   ]
  },
  {
   "cell_type": "code",
   "execution_count": 53,
   "id": "48d5121b-48cf-4b67-b47e-1be16c4b575e",
   "metadata": {
    "executionInfo": {
     "elapsed": 513,
     "status": "ok",
     "timestamp": 1656030824662,
     "user": {
      "displayName": "Shittu-Gbeko Ilias Olakunle",
      "userId": "02327692346623940216"
     },
     "user_tz": -60
    },
    "id": "48d5121b-48cf-4b67-b47e-1be16c4b575e"
   },
   "outputs": [],
   "source": [
    "# Extract day, month year and hour from the date column\n",
    "#day\n",
    "data1['day'] = data1.date.dt.day\n",
    "#months\n",
    "data1['month'] = data1.date.dt.month\n",
    "#year\n",
    "data1['year'] = data1.date.dt.year\n",
    "\n",
    "#encode the engineered date features\n",
    "LE = LabelEncoder()\n",
    "data1['day'] = LE.fit_transform(data1['day'])\n",
    "data1['month'] = LE.fit_transform(data1['month'])\n",
    "data1['year'] = LE.fit_transform(data1['year'])"
   ]
  },
  {
   "cell_type": "code",
   "execution_count": 54,
   "id": "mycnbL9kykpa",
   "metadata": {
    "executionInfo": {
     "elapsed": 515,
     "status": "ok",
     "timestamp": 1656030827913,
     "user": {
      "displayName": "Shittu-Gbeko Ilias Olakunle",
      "userId": "02327692346623940216"
     },
     "user_tz": -60
    },
    "id": "mycnbL9kykpa"
   },
   "outputs": [],
   "source": [
    "data1 = data1.drop('date',axis =1)"
   ]
  },
  {
   "cell_type": "code",
   "execution_count": null,
   "id": "tMfQQHpDzSKJ",
   "metadata": {
    "colab": {
     "base_uri": "https://localhost:8080/",
     "height": 206
    },
    "executionInfo": {
     "elapsed": 13,
     "status": "ok",
     "timestamp": 1656030830366,
     "user": {
      "displayName": "Shittu-Gbeko Ilias Olakunle",
      "userId": "02327692346623940216"
     },
     "user_tz": -60
    },
    "id": "tMfQQHpDzSKJ",
    "outputId": "ef742dff-92bd-4782-c63d-ee8aac0b8d35"
   },
   "outputs": [
    {
     "data": {
      "text/html": [
       "\n",
       "  <div id=\"df-688708d2-5307-4ec7-bf9d-890483950a7c\">\n",
       "    <div class=\"colab-df-container\">\n",
       "      <div>\n",
       "<style scoped>\n",
       "    .dataframe tbody tr th:only-of-type {\n",
       "        vertical-align: middle;\n",
       "    }\n",
       "\n",
       "    .dataframe tbody tr th {\n",
       "        vertical-align: top;\n",
       "    }\n",
       "\n",
       "    .dataframe thead th {\n",
       "        text-align: right;\n",
       "    }\n",
       "</style>\n",
       "<table border=\"1\" class=\"dataframe\">\n",
       "  <thead>\n",
       "    <tr style=\"text-align: right;\">\n",
       "      <th></th>\n",
       "      <th>Site_no</th>\n",
       "      <th>ParamLow</th>\n",
       "      <th>ParamHigh</th>\n",
       "      <th>Parameter</th>\n",
       "      <th>Uncen</th>\n",
       "      <th>day</th>\n",
       "      <th>month</th>\n",
       "      <th>year</th>\n",
       "    </tr>\n",
       "  </thead>\n",
       "  <tbody>\n",
       "    <tr>\n",
       "      <th>0</th>\n",
       "      <td>01122610</td>\n",
       "      <td>1.53540</td>\n",
       "      <td>1.53540</td>\n",
       "      <td>Larson</td>\n",
       "      <td>1</td>\n",
       "      <td>7</td>\n",
       "      <td>6</td>\n",
       "      <td>10</td>\n",
       "    </tr>\n",
       "    <tr>\n",
       "      <th>1</th>\n",
       "      <td>01122610</td>\n",
       "      <td>0.80103</td>\n",
       "      <td>0.80103</td>\n",
       "      <td>CSMR</td>\n",
       "      <td>1</td>\n",
       "      <td>7</td>\n",
       "      <td>6</td>\n",
       "      <td>10</td>\n",
       "    </tr>\n",
       "    <tr>\n",
       "      <th>2</th>\n",
       "      <td>01122610</td>\n",
       "      <td>2.02023</td>\n",
       "      <td>2.02023</td>\n",
       "      <td>Larson</td>\n",
       "      <td>1</td>\n",
       "      <td>4</td>\n",
       "      <td>7</td>\n",
       "      <td>10</td>\n",
       "    </tr>\n",
       "    <tr>\n",
       "      <th>3</th>\n",
       "      <td>01122610</td>\n",
       "      <td>1.16817</td>\n",
       "      <td>1.16817</td>\n",
       "      <td>CSMR</td>\n",
       "      <td>1</td>\n",
       "      <td>4</td>\n",
       "      <td>7</td>\n",
       "      <td>10</td>\n",
       "    </tr>\n",
       "    <tr>\n",
       "      <th>4</th>\n",
       "      <td>01122610</td>\n",
       "      <td>2.27004</td>\n",
       "      <td>2.27004</td>\n",
       "      <td>Larson</td>\n",
       "      <td>1</td>\n",
       "      <td>15</td>\n",
       "      <td>8</td>\n",
       "      <td>10</td>\n",
       "    </tr>\n",
       "  </tbody>\n",
       "</table>\n",
       "</div>\n",
       "      <button class=\"colab-df-convert\" onclick=\"convertToInteractive('df-688708d2-5307-4ec7-bf9d-890483950a7c')\"\n",
       "              title=\"Convert this dataframe to an interactive table.\"\n",
       "              style=\"display:none;\">\n",
       "        \n",
       "  <svg xmlns=\"http://www.w3.org/2000/svg\" height=\"24px\"viewBox=\"0 0 24 24\"\n",
       "       width=\"24px\">\n",
       "    <path d=\"M0 0h24v24H0V0z\" fill=\"none\"/>\n",
       "    <path d=\"M18.56 5.44l.94 2.06.94-2.06 2.06-.94-2.06-.94-.94-2.06-.94 2.06-2.06.94zm-11 1L8.5 8.5l.94-2.06 2.06-.94-2.06-.94L8.5 2.5l-.94 2.06-2.06.94zm10 10l.94 2.06.94-2.06 2.06-.94-2.06-.94-.94-2.06-.94 2.06-2.06.94z\"/><path d=\"M17.41 7.96l-1.37-1.37c-.4-.4-.92-.59-1.43-.59-.52 0-1.04.2-1.43.59L10.3 9.45l-7.72 7.72c-.78.78-.78 2.05 0 2.83L4 21.41c.39.39.9.59 1.41.59.51 0 1.02-.2 1.41-.59l7.78-7.78 2.81-2.81c.8-.78.8-2.07 0-2.86zM5.41 20L4 18.59l7.72-7.72 1.47 1.35L5.41 20z\"/>\n",
       "  </svg>\n",
       "      </button>\n",
       "      \n",
       "  <style>\n",
       "    .colab-df-container {\n",
       "      display:flex;\n",
       "      flex-wrap:wrap;\n",
       "      gap: 12px;\n",
       "    }\n",
       "\n",
       "    .colab-df-convert {\n",
       "      background-color: #E8F0FE;\n",
       "      border: none;\n",
       "      border-radius: 50%;\n",
       "      cursor: pointer;\n",
       "      display: none;\n",
       "      fill: #1967D2;\n",
       "      height: 32px;\n",
       "      padding: 0 0 0 0;\n",
       "      width: 32px;\n",
       "    }\n",
       "\n",
       "    .colab-df-convert:hover {\n",
       "      background-color: #E2EBFA;\n",
       "      box-shadow: 0px 1px 2px rgba(60, 64, 67, 0.3), 0px 1px 3px 1px rgba(60, 64, 67, 0.15);\n",
       "      fill: #174EA6;\n",
       "    }\n",
       "\n",
       "    [theme=dark] .colab-df-convert {\n",
       "      background-color: #3B4455;\n",
       "      fill: #D2E3FC;\n",
       "    }\n",
       "\n",
       "    [theme=dark] .colab-df-convert:hover {\n",
       "      background-color: #434B5C;\n",
       "      box-shadow: 0px 1px 3px 1px rgba(0, 0, 0, 0.15);\n",
       "      filter: drop-shadow(0px 1px 2px rgba(0, 0, 0, 0.3));\n",
       "      fill: #FFFFFF;\n",
       "    }\n",
       "  </style>\n",
       "\n",
       "      <script>\n",
       "        const buttonEl =\n",
       "          document.querySelector('#df-688708d2-5307-4ec7-bf9d-890483950a7c button.colab-df-convert');\n",
       "        buttonEl.style.display =\n",
       "          google.colab.kernel.accessAllowed ? 'block' : 'none';\n",
       "\n",
       "        async function convertToInteractive(key) {\n",
       "          const element = document.querySelector('#df-688708d2-5307-4ec7-bf9d-890483950a7c');\n",
       "          const dataTable =\n",
       "            await google.colab.kernel.invokeFunction('convertToInteractive',\n",
       "                                                     [key], {});\n",
       "          if (!dataTable) return;\n",
       "\n",
       "          const docLinkHtml = 'Like what you see? Visit the ' +\n",
       "            '<a target=\"_blank\" href=https://colab.research.google.com/notebooks/data_table.ipynb>data table notebook</a>'\n",
       "            + ' to learn more about interactive tables.';\n",
       "          element.innerHTML = '';\n",
       "          dataTable['output_type'] = 'display_data';\n",
       "          await google.colab.output.renderOutput(dataTable, element);\n",
       "          const docLink = document.createElement('div');\n",
       "          docLink.innerHTML = docLinkHtml;\n",
       "          element.appendChild(docLink);\n",
       "        }\n",
       "      </script>\n",
       "    </div>\n",
       "  </div>\n",
       "  "
      ],
      "text/plain": [
       "    Site_no  ParamLow  ParamHigh Parameter  Uncen  day  month  year\n",
       "0  01122610   1.53540    1.53540    Larson      1    7      6    10\n",
       "1  01122610   0.80103    0.80103      CSMR      1    7      6    10\n",
       "2  01122610   2.02023    2.02023    Larson      1    4      7    10\n",
       "3  01122610   1.16817    1.16817      CSMR      1    4      7    10\n",
       "4  01122610   2.27004    2.27004    Larson      1   15      8    10"
      ]
     },
     "execution_count": 142,
     "metadata": {},
     "output_type": "execute_result"
    }
   ],
   "source": [
    "data1.head()"
   ]
  },
  {
   "cell_type": "code",
   "execution_count": 55,
   "id": "1OTTE2EQzd7d",
   "metadata": {
    "executionInfo": {
     "elapsed": 756,
     "status": "ok",
     "timestamp": 1656030833154,
     "user": {
      "displayName": "Shittu-Gbeko Ilias Olakunle",
      "userId": "02327692346623940216"
     },
     "user_tz": -60
    },
    "id": "1OTTE2EQzd7d"
   },
   "outputs": [],
   "source": [
    "#encoding the parameter too\n",
    "data1['Parameter'] = LE.fit_transform(data1['Parameter'])\n",
    "\n",
    "#creating more features\n",
    "data1['Param1'] = data1['ParamHigh'] + data1['ParamLow']\n",
    "data1['Param2'] = data1['ParamHigh'] - data1['ParamLow']\n"
   ]
  },
  {
   "cell_type": "code",
   "execution_count": 56,
   "id": "eX_uMBoJ0tDf",
   "metadata": {
    "executionInfo": {
     "elapsed": 5,
     "status": "ok",
     "timestamp": 1656030835676,
     "user": {
      "displayName": "Shittu-Gbeko Ilias Olakunle",
      "userId": "02327692346623940216"
     },
     "user_tz": -60
    },
    "id": "eX_uMBoJ0tDf"
   },
   "outputs": [],
   "source": [
    "data1['m_Param1'] = data1.groupby('month').sum()['Param1']\n",
    "data1['d_Param1'] = data1.groupby('day').sum()['Param1']\n",
    "\n",
    "data1['m_Param2'] = data1.groupby('month').sum()['Param2']\n",
    "data1['d_Param2'] = data1.groupby('day').sum()['Param2']\n",
    "\n",
    "data1['mm_Param1'] = data1.groupby('month')['Param1'].transform('mean')\n",
    "data1['dd_Param1'] = data1.groupby('day')['Param1'].transform('mean')\n",
    "\n",
    "data1['mm_Param2'] = data1.groupby('month')['Param2'].transform('mean')\n",
    "data1['dd_Param2'] = data1.groupby('day')['Param2'].transform('mean')"
   ]
  },
  {
   "cell_type": "code",
   "execution_count": null,
   "id": "B6XV3BIL3E4_",
   "metadata": {
    "executionInfo": {
     "elapsed": 483,
     "status": "ok",
     "timestamp": 1656026715399,
     "user": {
      "displayName": "Shittu-Gbeko Ilias Olakunle",
      "userId": "02327692346623940216"
     },
     "user_tz": -60
    },
    "id": "B6XV3BIL3E4_"
   },
   "outputs": [],
   "source": [
    "#data1= data1.drop('m_Param',axis=1)"
   ]
  },
  {
   "cell_type": "code",
   "execution_count": 57,
   "id": "0nmKJlAC3ZwT",
   "metadata": {
    "colab": {
     "base_uri": "https://localhost:8080/",
     "height": 206
    },
    "executionInfo": {
     "elapsed": 736,
     "status": "ok",
     "timestamp": 1656030839544,
     "user": {
      "displayName": "Shittu-Gbeko Ilias Olakunle",
      "userId": "02327692346623940216"
     },
     "user_tz": -60
    },
    "id": "0nmKJlAC3ZwT",
    "outputId": "3fca83f3-fb87-4367-8ac0-bde5e58b3430"
   },
   "outputs": [
    {
     "data": {
      "text/html": [
       "<div>\n",
       "<style scoped>\n",
       "    .dataframe tbody tr th:only-of-type {\n",
       "        vertical-align: middle;\n",
       "    }\n",
       "\n",
       "    .dataframe tbody tr th {\n",
       "        vertical-align: top;\n",
       "    }\n",
       "\n",
       "    .dataframe thead th {\n",
       "        text-align: right;\n",
       "    }\n",
       "</style>\n",
       "<table border=\"1\" class=\"dataframe\">\n",
       "  <thead>\n",
       "    <tr style=\"text-align: right;\">\n",
       "      <th></th>\n",
       "      <th>Site_no</th>\n",
       "      <th>ParamLow</th>\n",
       "      <th>ParamHigh</th>\n",
       "      <th>Parameter</th>\n",
       "      <th>Uncen</th>\n",
       "      <th>day</th>\n",
       "      <th>month</th>\n",
       "      <th>year</th>\n",
       "      <th>Param1</th>\n",
       "      <th>Param2</th>\n",
       "      <th>m_Param1</th>\n",
       "      <th>d_Param1</th>\n",
       "      <th>m_Param2</th>\n",
       "      <th>d_Param2</th>\n",
       "      <th>mm_Param1</th>\n",
       "      <th>dd_Param1</th>\n",
       "      <th>mm_Param2</th>\n",
       "      <th>dd_Param2</th>\n",
       "    </tr>\n",
       "  </thead>\n",
       "  <tbody>\n",
       "    <tr>\n",
       "      <th>0</th>\n",
       "      <td>01122610</td>\n",
       "      <td>1.53540</td>\n",
       "      <td>1.53540</td>\n",
       "      <td>1</td>\n",
       "      <td>1</td>\n",
       "      <td>7</td>\n",
       "      <td>6</td>\n",
       "      <td>10</td>\n",
       "      <td>3.07079</td>\n",
       "      <td>0.00000</td>\n",
       "      <td>14469.34459</td>\n",
       "      <td>8084.37106</td>\n",
       "      <td>76.19411</td>\n",
       "      <td>239.79324</td>\n",
       "      <td>4.03578</td>\n",
       "      <td>2.72268</td>\n",
       "      <td>0.01777</td>\n",
       "      <td>0.03499</td>\n",
       "    </tr>\n",
       "    <tr>\n",
       "      <th>1</th>\n",
       "      <td>01122610</td>\n",
       "      <td>0.80103</td>\n",
       "      <td>0.80103</td>\n",
       "      <td>0</td>\n",
       "      <td>1</td>\n",
       "      <td>7</td>\n",
       "      <td>6</td>\n",
       "      <td>10</td>\n",
       "      <td>1.60207</td>\n",
       "      <td>0.00000</td>\n",
       "      <td>22826.12230</td>\n",
       "      <td>11027.40461</td>\n",
       "      <td>87.09145</td>\n",
       "      <td>56.78947</td>\n",
       "      <td>4.03578</td>\n",
       "      <td>2.72268</td>\n",
       "      <td>0.01777</td>\n",
       "      <td>0.03499</td>\n",
       "    </tr>\n",
       "    <tr>\n",
       "      <th>2</th>\n",
       "      <td>01122610</td>\n",
       "      <td>2.02023</td>\n",
       "      <td>2.02023</td>\n",
       "      <td>1</td>\n",
       "      <td>1</td>\n",
       "      <td>4</td>\n",
       "      <td>7</td>\n",
       "      <td>10</td>\n",
       "      <td>4.04046</td>\n",
       "      <td>0.00000</td>\n",
       "      <td>20810.90087</td>\n",
       "      <td>9904.26559</td>\n",
       "      <td>8.96299</td>\n",
       "      <td>214.43474</td>\n",
       "      <td>3.10494</td>\n",
       "      <td>2.66623</td>\n",
       "      <td>0.03544</td>\n",
       "      <td>0.04290</td>\n",
       "    </tr>\n",
       "    <tr>\n",
       "      <th>3</th>\n",
       "      <td>01122610</td>\n",
       "      <td>1.16817</td>\n",
       "      <td>1.16817</td>\n",
       "      <td>0</td>\n",
       "      <td>1</td>\n",
       "      <td>4</td>\n",
       "      <td>7</td>\n",
       "      <td>10</td>\n",
       "      <td>2.33635</td>\n",
       "      <td>0.00000</td>\n",
       "      <td>26908.88259</td>\n",
       "      <td>7724.25240</td>\n",
       "      <td>120.22942</td>\n",
       "      <td>4.44707</td>\n",
       "      <td>3.10494</td>\n",
       "      <td>2.66623</td>\n",
       "      <td>0.03544</td>\n",
       "      <td>0.04290</td>\n",
       "    </tr>\n",
       "    <tr>\n",
       "      <th>4</th>\n",
       "      <td>01122610</td>\n",
       "      <td>2.27004</td>\n",
       "      <td>2.27004</td>\n",
       "      <td>1</td>\n",
       "      <td>1</td>\n",
       "      <td>15</td>\n",
       "      <td>8</td>\n",
       "      <td>10</td>\n",
       "      <td>4.54008</td>\n",
       "      <td>0.00000</td>\n",
       "      <td>52691.43476</td>\n",
       "      <td>16506.62872</td>\n",
       "      <td>1335.87816</td>\n",
       "      <td>265.56872</td>\n",
       "      <td>2.93851</td>\n",
       "      <td>2.77049</td>\n",
       "      <td>0.01079</td>\n",
       "      <td>0.06629</td>\n",
       "    </tr>\n",
       "  </tbody>\n",
       "</table>\n",
       "</div>"
      ],
      "text/plain": [
       "    Site_no  ParamLow  ParamHigh  Parameter  Uncen  day  month  year  Param1  \\\n",
       "0  01122610   1.53540    1.53540          1      1    7      6    10 3.07079   \n",
       "1  01122610   0.80103    0.80103          0      1    7      6    10 1.60207   \n",
       "2  01122610   2.02023    2.02023          1      1    4      7    10 4.04046   \n",
       "3  01122610   1.16817    1.16817          0      1    4      7    10 2.33635   \n",
       "4  01122610   2.27004    2.27004          1      1   15      8    10 4.54008   \n",
       "\n",
       "   Param2    m_Param1    d_Param1   m_Param2  d_Param2  mm_Param1  dd_Param1  \\\n",
       "0 0.00000 14469.34459  8084.37106   76.19411 239.79324    4.03578    2.72268   \n",
       "1 0.00000 22826.12230 11027.40461   87.09145  56.78947    4.03578    2.72268   \n",
       "2 0.00000 20810.90087  9904.26559    8.96299 214.43474    3.10494    2.66623   \n",
       "3 0.00000 26908.88259  7724.25240  120.22942   4.44707    3.10494    2.66623   \n",
       "4 0.00000 52691.43476 16506.62872 1335.87816 265.56872    2.93851    2.77049   \n",
       "\n",
       "   mm_Param2  dd_Param2  \n",
       "0    0.01777    0.03499  \n",
       "1    0.01777    0.03499  \n",
       "2    0.03544    0.04290  \n",
       "3    0.03544    0.04290  \n",
       "4    0.01079    0.06629  "
      ]
     },
     "execution_count": 57,
     "metadata": {},
     "output_type": "execute_result"
    }
   ],
   "source": [
    "data1.head()"
   ]
  },
  {
   "cell_type": "code",
   "execution_count": 58,
   "id": "FquaDieK3m1X",
   "metadata": {
    "colab": {
     "base_uri": "https://localhost:8080/"
    },
    "executionInfo": {
     "elapsed": 9,
     "status": "ok",
     "timestamp": 1656030841996,
     "user": {
      "displayName": "Shittu-Gbeko Ilias Olakunle",
      "userId": "02327692346623940216"
     },
     "user_tz": -60
    },
    "id": "FquaDieK3m1X",
    "outputId": "b3483300-ede9-422a-c1ee-498332d71030"
   },
   "outputs": [
    {
     "data": {
      "text/plain": [
       "Site_no           0\n",
       "ParamLow          0\n",
       "ParamHigh         0\n",
       "Parameter         0\n",
       "Uncen             0\n",
       "day               0\n",
       "month             0\n",
       "year              0\n",
       "Param1            0\n",
       "Param2            0\n",
       "m_Param1     120356\n",
       "d_Param1     120337\n",
       "m_Param2     120356\n",
       "d_Param2     120337\n",
       "mm_Param1         0\n",
       "dd_Param1         0\n",
       "mm_Param2         0\n",
       "dd_Param2         0\n",
       "dtype: int64"
      ]
     },
     "execution_count": 58,
     "metadata": {},
     "output_type": "execute_result"
    }
   ],
   "source": [
    "data1.isnull().sum()"
   ]
  },
  {
   "cell_type": "markdown",
   "id": "464e3ad5-99bb-487e-9c70-3a77d1498970",
   "metadata": {
    "id": "464e3ad5-99bb-487e-9c70-3a77d1498970"
   },
   "source": [
    "Date Features EDA"
   ]
  },
  {
   "cell_type": "code",
   "execution_count": 59,
   "id": "9cde19bb-2664-4fed-82c4-3e075ee505f9",
   "metadata": {
    "colab": {
     "base_uri": "https://localhost:8080/",
     "height": 464
    },
    "executionInfo": {
     "elapsed": 713,
     "status": "ok",
     "timestamp": 1656025950988,
     "user": {
      "displayName": "Shittu-Gbeko Ilias Olakunle",
      "userId": "02327692346623940216"
     },
     "user_tz": -60
    },
    "id": "9cde19bb-2664-4fed-82c4-3e075ee505f9",
    "outputId": "f2f5de1f-4041-44e2-b762-5252c13b727a"
   },
   "outputs": [
    {
     "data": {
      "image/png": "[encoded data removed]",
      "text/plain": [
       "<Figure size 1400x700 with 1 Axes>"
      ]
     },
     "metadata": {},
     "output_type": "display_data"
    }
   ],
   "source": [
    "# Datetime month countplot\n",
    "plt.figure(figsize = (14, 7))\n",
    "sns.countplot(x = 'month', data = data1)\n",
    "plt.title('Datetime month count plot')\n",
    "plt.show()"
   ]
  },
  {
   "cell_type": "markdown",
   "id": "48dca405-e200-4ac7-85d1-f97afa7eeef9",
   "metadata": {
    "id": "48dca405-e200-4ac7-85d1-f97afa7eeef9"
   },
   "source": [
    "All months were recoreded and considered in the experiment\n",
    "\n",
    "May has the highest record of observation while January has the lowest"
   ]
  },
  {
   "cell_type": "code",
   "execution_count": 60,
   "id": "fd189266-2110-418e-8652-ddb096bc197e",
   "metadata": {
    "colab": {
     "base_uri": "https://localhost:8080/",
     "height": 464
    },
    "executionInfo": {
     "elapsed": 846,
     "status": "ok",
     "timestamp": 1656025964323,
     "user": {
      "displayName": "Shittu-Gbeko Ilias Olakunle",
      "userId": "02327692346623940216"
     },
     "user_tz": -60
    },
    "id": "fd189266-2110-418e-8652-ddb096bc197e",
    "outputId": "5357d850-ec0a-4067-a98c-57fb765db2e7"
   },
   "outputs": [
    {
     "data": {
      "image/png": "[encoded data removed]",
      "text/plain": [
       "<Figure size 1400x700 with 1 Axes>"
      ]
     },
     "metadata": {},
     "output_type": "display_data"
    }
   ],
   "source": [
    "# Datetime day countplot\n",
    "plt.figure(figsize = (14, 7))\n",
    "sns.countplot(x = 'day', data = data1)\n",
    "plt.title('Datetime month count plot')\n",
    "plt.show()"
   ]
  },
  {
   "cell_type": "markdown",
   "id": "1b96b9b8-0846-41b4-8c94-e0ab82f96662",
   "metadata": {
    "id": "1b96b9b8-0846-41b4-8c94-e0ab82f96662"
   },
   "source": [
    "#### probably there is no need for this visualization as no insight could be obtained"
   ]
  },
  {
   "cell_type": "code",
   "execution_count": 61,
   "id": "5c8b3593-c653-4d68-b17e-40a46eac2c9d",
   "metadata": {
    "colab": {
     "base_uri": "https://localhost:8080/",
     "height": 206
    },
    "executionInfo": {
     "elapsed": 486,
     "status": "ok",
     "timestamp": 1656030856252,
     "user": {
      "displayName": "Shittu-Gbeko Ilias Olakunle",
      "userId": "02327692346623940216"
     },
     "user_tz": -60
    },
    "id": "5c8b3593-c653-4d68-b17e-40a46eac2c9d",
    "outputId": "151fcdda-b18f-4575-f319-3d5afff6c0a9"
   },
   "outputs": [
    {
     "data": {
      "text/html": [
       "<div>\n",
       "<style scoped>\n",
       "    .dataframe tbody tr th:only-of-type {\n",
       "        vertical-align: middle;\n",
       "    }\n",
       "\n",
       "    .dataframe tbody tr th {\n",
       "        vertical-align: top;\n",
       "    }\n",
       "\n",
       "    .dataframe thead th {\n",
       "        text-align: right;\n",
       "    }\n",
       "</style>\n",
       "<table border=\"1\" class=\"dataframe\">\n",
       "  <thead>\n",
       "    <tr style=\"text-align: right;\">\n",
       "      <th></th>\n",
       "      <th>Site_no</th>\n",
       "      <th>ParamLow</th>\n",
       "      <th>ParamHigh</th>\n",
       "      <th>Parameter</th>\n",
       "      <th>Uncen</th>\n",
       "      <th>day</th>\n",
       "      <th>month</th>\n",
       "      <th>year</th>\n",
       "      <th>Param1</th>\n",
       "      <th>Param2</th>\n",
       "      <th>m_Param1</th>\n",
       "      <th>d_Param1</th>\n",
       "      <th>m_Param2</th>\n",
       "      <th>d_Param2</th>\n",
       "      <th>mm_Param1</th>\n",
       "      <th>dd_Param1</th>\n",
       "      <th>mm_Param2</th>\n",
       "      <th>dd_Param2</th>\n",
       "    </tr>\n",
       "  </thead>\n",
       "  <tbody>\n",
       "    <tr>\n",
       "      <th>0</th>\n",
       "      <td>01122610</td>\n",
       "      <td>1.53540</td>\n",
       "      <td>1.53540</td>\n",
       "      <td>1</td>\n",
       "      <td>1</td>\n",
       "      <td>7</td>\n",
       "      <td>6</td>\n",
       "      <td>10</td>\n",
       "      <td>3.07079</td>\n",
       "      <td>0.00000</td>\n",
       "      <td>14469.34459</td>\n",
       "      <td>8084.37106</td>\n",
       "      <td>76.19411</td>\n",
       "      <td>239.79324</td>\n",
       "      <td>4.03578</td>\n",
       "      <td>2.72268</td>\n",
       "      <td>0.01777</td>\n",
       "      <td>0.03499</td>\n",
       "    </tr>\n",
       "    <tr>\n",
       "      <th>1</th>\n",
       "      <td>01122610</td>\n",
       "      <td>0.80103</td>\n",
       "      <td>0.80103</td>\n",
       "      <td>0</td>\n",
       "      <td>1</td>\n",
       "      <td>7</td>\n",
       "      <td>6</td>\n",
       "      <td>10</td>\n",
       "      <td>1.60207</td>\n",
       "      <td>0.00000</td>\n",
       "      <td>22826.12230</td>\n",
       "      <td>11027.40461</td>\n",
       "      <td>87.09145</td>\n",
       "      <td>56.78947</td>\n",
       "      <td>4.03578</td>\n",
       "      <td>2.72268</td>\n",
       "      <td>0.01777</td>\n",
       "      <td>0.03499</td>\n",
       "    </tr>\n",
       "    <tr>\n",
       "      <th>2</th>\n",
       "      <td>01122610</td>\n",
       "      <td>2.02023</td>\n",
       "      <td>2.02023</td>\n",
       "      <td>1</td>\n",
       "      <td>1</td>\n",
       "      <td>4</td>\n",
       "      <td>7</td>\n",
       "      <td>10</td>\n",
       "      <td>4.04046</td>\n",
       "      <td>0.00000</td>\n",
       "      <td>20810.90087</td>\n",
       "      <td>9904.26559</td>\n",
       "      <td>8.96299</td>\n",
       "      <td>214.43474</td>\n",
       "      <td>3.10494</td>\n",
       "      <td>2.66623</td>\n",
       "      <td>0.03544</td>\n",
       "      <td>0.04290</td>\n",
       "    </tr>\n",
       "    <tr>\n",
       "      <th>3</th>\n",
       "      <td>01122610</td>\n",
       "      <td>1.16817</td>\n",
       "      <td>1.16817</td>\n",
       "      <td>0</td>\n",
       "      <td>1</td>\n",
       "      <td>4</td>\n",
       "      <td>7</td>\n",
       "      <td>10</td>\n",
       "      <td>2.33635</td>\n",
       "      <td>0.00000</td>\n",
       "      <td>26908.88259</td>\n",
       "      <td>7724.25240</td>\n",
       "      <td>120.22942</td>\n",
       "      <td>4.44707</td>\n",
       "      <td>3.10494</td>\n",
       "      <td>2.66623</td>\n",
       "      <td>0.03544</td>\n",
       "      <td>0.04290</td>\n",
       "    </tr>\n",
       "    <tr>\n",
       "      <th>4</th>\n",
       "      <td>01122610</td>\n",
       "      <td>2.27004</td>\n",
       "      <td>2.27004</td>\n",
       "      <td>1</td>\n",
       "      <td>1</td>\n",
       "      <td>15</td>\n",
       "      <td>8</td>\n",
       "      <td>10</td>\n",
       "      <td>4.54008</td>\n",
       "      <td>0.00000</td>\n",
       "      <td>52691.43476</td>\n",
       "      <td>16506.62872</td>\n",
       "      <td>1335.87816</td>\n",
       "      <td>265.56872</td>\n",
       "      <td>2.93851</td>\n",
       "      <td>2.77049</td>\n",
       "      <td>0.01079</td>\n",
       "      <td>0.06629</td>\n",
       "    </tr>\n",
       "  </tbody>\n",
       "</table>\n",
       "</div>"
      ],
      "text/plain": [
       "    Site_no  ParamLow  ParamHigh  Parameter  Uncen  day  month  year  Param1  \\\n",
       "0  01122610   1.53540    1.53540          1      1    7      6    10 3.07079   \n",
       "1  01122610   0.80103    0.80103          0      1    7      6    10 1.60207   \n",
       "2  01122610   2.02023    2.02023          1      1    4      7    10 4.04046   \n",
       "3  01122610   1.16817    1.16817          0      1    4      7    10 2.33635   \n",
       "4  01122610   2.27004    2.27004          1      1   15      8    10 4.54008   \n",
       "\n",
       "   Param2    m_Param1    d_Param1   m_Param2  d_Param2  mm_Param1  dd_Param1  \\\n",
       "0 0.00000 14469.34459  8084.37106   76.19411 239.79324    4.03578    2.72268   \n",
       "1 0.00000 22826.12230 11027.40461   87.09145  56.78947    4.03578    2.72268   \n",
       "2 0.00000 20810.90087  9904.26559    8.96299 214.43474    3.10494    2.66623   \n",
       "3 0.00000 26908.88259  7724.25240  120.22942   4.44707    3.10494    2.66623   \n",
       "4 0.00000 52691.43476 16506.62872 1335.87816 265.56872    2.93851    2.77049   \n",
       "\n",
       "   mm_Param2  dd_Param2  \n",
       "0    0.01777    0.03499  \n",
       "1    0.01777    0.03499  \n",
       "2    0.03544    0.04290  \n",
       "3    0.03544    0.04290  \n",
       "4    0.01079    0.06629  "
      ]
     },
     "execution_count": 61,
     "metadata": {},
     "output_type": "execute_result"
    }
   ],
   "source": [
    "data1.head()"
   ]
  },
  {
   "cell_type": "code",
   "execution_count": 62,
   "id": "dpzYIAtx8xSb",
   "metadata": {
    "colab": {
     "base_uri": "https://localhost:8080/"
    },
    "executionInfo": {
     "elapsed": 625,
     "status": "ok",
     "timestamp": 1656030860103,
     "user": {
      "displayName": "Shittu-Gbeko Ilias Olakunle",
      "userId": "02327692346623940216"
     },
     "user_tz": -60
    },
    "id": "dpzYIAtx8xSb",
    "outputId": "c65fa943-9005-46b3-f2bf-8d034b726894"
   },
   "outputs": [
    {
     "data": {
      "text/plain": [
       "Site_no           0\n",
       "ParamLow          0\n",
       "ParamHigh         0\n",
       "Parameter         0\n",
       "Uncen             0\n",
       "day               0\n",
       "month             0\n",
       "year              0\n",
       "Param1            0\n",
       "Param2            0\n",
       "m_Param1     120356\n",
       "d_Param1     120337\n",
       "m_Param2     120356\n",
       "d_Param2     120337\n",
       "mm_Param1         0\n",
       "dd_Param1         0\n",
       "mm_Param2         0\n",
       "dd_Param2         0\n",
       "dtype: int64"
      ]
     },
     "execution_count": 62,
     "metadata": {},
     "output_type": "execute_result"
    }
   ],
   "source": [
    "data1.isnull().sum()"
   ]
  },
  {
   "cell_type": "code",
   "execution_count": 63,
   "id": "qSXwmRtW82CE",
   "metadata": {
    "executionInfo": {
     "elapsed": 609,
     "status": "ok",
     "timestamp": 1656030863789,
     "user": {
      "displayName": "Shittu-Gbeko Ilias Olakunle",
      "userId": "02327692346623940216"
     },
     "user_tz": -60
    },
    "id": "qSXwmRtW82CE"
   },
   "outputs": [],
   "source": [
    "fill_cols = ['m_Param1','d_Param1','m_Param2','d_Param2']\n",
    "for col in fill_cols:\n",
    "  data1[col] = data1[col].fillna(data1[col].mean())"
   ]
  },
  {
   "cell_type": "code",
   "execution_count": 64,
   "id": "md53jJgp-D-C",
   "metadata": {
    "colab": {
     "base_uri": "https://localhost:8080/",
     "height": 813
    },
    "executionInfo": {
     "elapsed": 3299,
     "status": "ok",
     "timestamp": 1656030869682,
     "user": {
      "displayName": "Shittu-Gbeko Ilias Olakunle",
      "userId": "02327692346623940216"
     },
     "user_tz": -60
    },
    "id": "md53jJgp-D-C",
    "outputId": "b38b867b-88da-4ce8-83bc-83f072f90007"
   },
   "outputs": [
    {
     "data": {
      "text/plain": [
       "<Axes: >"
      ]
     },
     "execution_count": 64,
     "metadata": {},
     "output_type": "execute_result"
    },
    {
     "data": {
      "image/png": "[encoded data removed]",
      "text/plain": [
       "<Figure size 3000x1500 with 2 Axes>"
      ]
     },
     "metadata": {},
     "output_type": "display_data"
    }
   ],
   "source": [
    "fig, ax = plt.subplots(1,1, figsize=(30,15))\n",
    "sns.heatmap(data1[['ParamLow','ParamHigh', 'Parameter', 'Uncen','Param1','Param2','m_Param1','d_Param1','m_Param2','d_Param2','day', 'month', 'year']].corr(), cmap='Greens',annot=True)"
   ]
  },
  {
   "cell_type": "code",
   "execution_count": 65,
   "id": "kY5KKfKZBSqM",
   "metadata": {
    "colab": {
     "base_uri": "https://localhost:8080/",
     "height": 813
    },
    "executionInfo": {
     "elapsed": 1057,
     "status": "ok",
     "timestamp": 1656029128393,
     "user": {
      "displayName": "Shittu-Gbeko Ilias Olakunle",
      "userId": "02327692346623940216"
     },
     "user_tz": -60
    },
    "id": "kY5KKfKZBSqM",
    "outputId": "6d3097ba-a15b-44f2-d54f-f72ead605938"
   },
   "outputs": [
    {
     "data": {
      "text/plain": [
       "<Axes: >"
      ]
     },
     "execution_count": 65,
     "metadata": {},
     "output_type": "execute_result"
    },
    {
     "data": {
      "image/png": "[encoded data removed]",
      "text/plain": [
       "<Figure size 3000x1500 with 2 Axes>"
      ]
     },
     "metadata": {},
     "output_type": "display_data"
    }
   ],
   "source": [
    "fig, ax = plt.subplots(1,1, figsize=(30,15))\n",
    "sns.heatmap(data1[['dd_Param2','mm_Param2','mm_Param1','dd_Param1','Uncen']].corr(), cmap='Greens',annot=True)"
   ]
  },
  {
   "cell_type": "code",
   "execution_count": 66,
   "id": "ZyFTeCw9-3oM",
   "metadata": {
    "colab": {
     "base_uri": "https://localhost:8080/"
    },
    "executionInfo": {
     "elapsed": 608,
     "status": "ok",
     "timestamp": 1656030874542,
     "user": {
      "displayName": "Shittu-Gbeko Ilias Olakunle",
      "userId": "02327692346623940216"
     },
     "user_tz": -60
    },
    "id": "ZyFTeCw9-3oM",
    "outputId": "a7cfcaeb-85d0-431f-fe5b-c2f5c609d57b"
   },
   "outputs": [
    {
     "ename": "ValueError",
     "evalue": "could not convert string to float: '01474010N'",
     "output_type": "error",
     "traceback": [
      "\u001b[31m---------------------------------------------------------------------------\u001b[39m",
      "\u001b[31mValueError\u001b[39m                                Traceback (most recent call last)",
      "\u001b[36mCell\u001b[39m\u001b[36m \u001b[39m\u001b[32mIn[66]\u001b[39m\u001b[32m, line 1\u001b[39m\n\u001b[32m----> \u001b[39m\u001b[32m1\u001b[39m \u001b[43mdata1\u001b[49m\u001b[43m.\u001b[49m\u001b[43mcorr\u001b[49m\u001b[43m(\u001b[49m\u001b[43m)\u001b[49m[\u001b[33m'\u001b[39m\u001b[33mUncen\u001b[39m\u001b[33m'\u001b[39m].sort_values()\n",
      "\u001b[36mFile \u001b[39m\u001b[32mc:\\ProgramData\\anaconda3\\Lib\\site-packages\\pandas\\core\\frame.py:10054\u001b[39m, in \u001b[36mDataFrame.corr\u001b[39m\u001b[34m(self, method, min_periods, numeric_only)\u001b[39m\n\u001b[32m  10052\u001b[39m cols = data.columns\n\u001b[32m  10053\u001b[39m idx = cols.copy()\n\u001b[32m> \u001b[39m\u001b[32m10054\u001b[39m mat = \u001b[43mdata\u001b[49m\u001b[43m.\u001b[49m\u001b[43mto_numpy\u001b[49m\u001b[43m(\u001b[49m\u001b[43mdtype\u001b[49m\u001b[43m=\u001b[49m\u001b[38;5;28;43mfloat\u001b[39;49m\u001b[43m,\u001b[49m\u001b[43m \u001b[49m\u001b[43mna_value\u001b[49m\u001b[43m=\u001b[49m\u001b[43mnp\u001b[49m\u001b[43m.\u001b[49m\u001b[43mnan\u001b[49m\u001b[43m,\u001b[49m\u001b[43m \u001b[49m\u001b[43mcopy\u001b[49m\u001b[43m=\u001b[49m\u001b[38;5;28;43;01mFalse\u001b[39;49;00m\u001b[43m)\u001b[49m\n\u001b[32m  10056\u001b[39m \u001b[38;5;28;01mif\u001b[39;00m method == \u001b[33m\"\u001b[39m\u001b[33mpearson\u001b[39m\u001b[33m\"\u001b[39m:\n\u001b[32m  10057\u001b[39m     correl = libalgos.nancorr(mat, minp=min_periods)\n",
      "\u001b[36mFile \u001b[39m\u001b[32mc:\\ProgramData\\anaconda3\\Lib\\site-packages\\pandas\\core\\frame.py:1838\u001b[39m, in \u001b[36mDataFrame.to_numpy\u001b[39m\u001b[34m(self, dtype, copy, na_value)\u001b[39m\n\u001b[32m   1836\u001b[39m \u001b[38;5;28;01mif\u001b[39;00m dtype \u001b[38;5;129;01mis\u001b[39;00m \u001b[38;5;129;01mnot\u001b[39;00m \u001b[38;5;28;01mNone\u001b[39;00m:\n\u001b[32m   1837\u001b[39m     dtype = np.dtype(dtype)\n\u001b[32m-> \u001b[39m\u001b[32m1838\u001b[39m result = \u001b[38;5;28;43mself\u001b[39;49m\u001b[43m.\u001b[49m\u001b[43m_mgr\u001b[49m\u001b[43m.\u001b[49m\u001b[43mas_array\u001b[49m\u001b[43m(\u001b[49m\u001b[43mdtype\u001b[49m\u001b[43m=\u001b[49m\u001b[43mdtype\u001b[49m\u001b[43m,\u001b[49m\u001b[43m \u001b[49m\u001b[43mcopy\u001b[49m\u001b[43m=\u001b[49m\u001b[43mcopy\u001b[49m\u001b[43m,\u001b[49m\u001b[43m \u001b[49m\u001b[43mna_value\u001b[49m\u001b[43m=\u001b[49m\u001b[43mna_value\u001b[49m\u001b[43m)\u001b[49m\n\u001b[32m   1839\u001b[39m \u001b[38;5;28;01mif\u001b[39;00m result.dtype \u001b[38;5;129;01mis\u001b[39;00m \u001b[38;5;129;01mnot\u001b[39;00m dtype:\n\u001b[32m   1840\u001b[39m     result = np.array(result, dtype=dtype, copy=\u001b[38;5;28;01mFalse\u001b[39;00m)\n",
      "\u001b[36mFile \u001b[39m\u001b[32mc:\\ProgramData\\anaconda3\\Lib\\site-packages\\pandas\\core\\internals\\managers.py:1732\u001b[39m, in \u001b[36mBlockManager.as_array\u001b[39m\u001b[34m(self, dtype, copy, na_value)\u001b[39m\n\u001b[32m   1730\u001b[39m         arr.flags.writeable = \u001b[38;5;28;01mFalse\u001b[39;00m\n\u001b[32m   1731\u001b[39m \u001b[38;5;28;01melse\u001b[39;00m:\n\u001b[32m-> \u001b[39m\u001b[32m1732\u001b[39m     arr = \u001b[38;5;28;43mself\u001b[39;49m\u001b[43m.\u001b[49m\u001b[43m_interleave\u001b[49m\u001b[43m(\u001b[49m\u001b[43mdtype\u001b[49m\u001b[43m=\u001b[49m\u001b[43mdtype\u001b[49m\u001b[43m,\u001b[49m\u001b[43m \u001b[49m\u001b[43mna_value\u001b[49m\u001b[43m=\u001b[49m\u001b[43mna_value\u001b[49m\u001b[43m)\u001b[49m\n\u001b[32m   1733\u001b[39m     \u001b[38;5;66;03m# The underlying data was copied within _interleave, so no need\u001b[39;00m\n\u001b[32m   1734\u001b[39m     \u001b[38;5;66;03m# to further copy if copy=True or setting na_value\u001b[39;00m\n\u001b[32m   1736\u001b[39m \u001b[38;5;28;01mif\u001b[39;00m na_value \u001b[38;5;129;01mis\u001b[39;00m \u001b[38;5;129;01mnot\u001b[39;00m lib.no_default:\n",
      "\u001b[36mFile \u001b[39m\u001b[32mc:\\ProgramData\\anaconda3\\Lib\\site-packages\\pandas\\core\\internals\\managers.py:1794\u001b[39m, in \u001b[36mBlockManager._interleave\u001b[39m\u001b[34m(self, dtype, na_value)\u001b[39m\n\u001b[32m   1792\u001b[39m     \u001b[38;5;28;01melse\u001b[39;00m:\n\u001b[32m   1793\u001b[39m         arr = blk.get_values(dtype)\n\u001b[32m-> \u001b[39m\u001b[32m1794\u001b[39m     \u001b[43mresult\u001b[49m\u001b[43m[\u001b[49m\u001b[43mrl\u001b[49m\u001b[43m.\u001b[49m\u001b[43mindexer\u001b[49m\u001b[43m]\u001b[49m = arr\n\u001b[32m   1795\u001b[39m     itemmask[rl.indexer] = \u001b[32m1\u001b[39m\n\u001b[32m   1797\u001b[39m \u001b[38;5;28;01mif\u001b[39;00m \u001b[38;5;129;01mnot\u001b[39;00m itemmask.all():\n",
      "\u001b[31mValueError\u001b[39m: could not convert string to float: '01474010N'"
     ]
    }
   ],
   "source": [
    "data1.corr()['Uncen'].sort_values()"
   ]
  },
  {
   "cell_type": "code",
   "execution_count": 67,
   "id": "AVkFx-Zj_Nov",
   "metadata": {
    "colab": {
     "base_uri": "https://localhost:8080/",
     "height": 206
    },
    "executionInfo": {
     "elapsed": 663,
     "status": "ok",
     "timestamp": 1656029154077,
     "user": {
      "displayName": "Shittu-Gbeko Ilias Olakunle",
      "userId": "02327692346623940216"
     },
     "user_tz": -60
    },
    "id": "AVkFx-Zj_Nov",
    "outputId": "2d54256b-de02-47ea-c093-8560dfe02794"
   },
   "outputs": [
    {
     "data": {
      "text/html": [
       "<div>\n",
       "<style scoped>\n",
       "    .dataframe tbody tr th:only-of-type {\n",
       "        vertical-align: middle;\n",
       "    }\n",
       "\n",
       "    .dataframe tbody tr th {\n",
       "        vertical-align: top;\n",
       "    }\n",
       "\n",
       "    .dataframe thead th {\n",
       "        text-align: right;\n",
       "    }\n",
       "</style>\n",
       "<table border=\"1\" class=\"dataframe\">\n",
       "  <thead>\n",
       "    <tr style=\"text-align: right;\">\n",
       "      <th></th>\n",
       "      <th>m_Param2</th>\n",
       "      <th>d_Param2</th>\n",
       "      <th>m_Param1</th>\n",
       "      <th>d_Param1</th>\n",
       "    </tr>\n",
       "  </thead>\n",
       "  <tbody>\n",
       "    <tr>\n",
       "      <th>0</th>\n",
       "      <td>76.19411</td>\n",
       "      <td>239.79324</td>\n",
       "      <td>14469.34459</td>\n",
       "      <td>8084.37106</td>\n",
       "    </tr>\n",
       "    <tr>\n",
       "      <th>1</th>\n",
       "      <td>87.09145</td>\n",
       "      <td>56.78947</td>\n",
       "      <td>22826.12230</td>\n",
       "      <td>11027.40461</td>\n",
       "    </tr>\n",
       "    <tr>\n",
       "      <th>2</th>\n",
       "      <td>8.96299</td>\n",
       "      <td>214.43474</td>\n",
       "      <td>20810.90087</td>\n",
       "      <td>9904.26559</td>\n",
       "    </tr>\n",
       "    <tr>\n",
       "      <th>3</th>\n",
       "      <td>120.22942</td>\n",
       "      <td>4.44707</td>\n",
       "      <td>26908.88259</td>\n",
       "      <td>7724.25240</td>\n",
       "    </tr>\n",
       "    <tr>\n",
       "      <th>4</th>\n",
       "      <td>1335.87816</td>\n",
       "      <td>265.56872</td>\n",
       "      <td>52691.43476</td>\n",
       "      <td>16506.62872</td>\n",
       "    </tr>\n",
       "  </tbody>\n",
       "</table>\n",
       "</div>"
      ],
      "text/plain": [
       "    m_Param2  d_Param2    m_Param1    d_Param1\n",
       "0   76.19411 239.79324 14469.34459  8084.37106\n",
       "1   87.09145  56.78947 22826.12230 11027.40461\n",
       "2    8.96299 214.43474 20810.90087  9904.26559\n",
       "3  120.22942   4.44707 26908.88259  7724.25240\n",
       "4 1335.87816 265.56872 52691.43476 16506.62872"
      ]
     },
     "execution_count": 67,
     "metadata": {},
     "output_type": "execute_result"
    }
   ],
   "source": [
    "data1[['m_Param2','d_Param2','m_Param1','d_Param1']].head(5)"
   ]
  },
  {
   "cell_type": "code",
   "execution_count": 68,
   "id": "eYo80btWB505",
   "metadata": {
    "colab": {
     "base_uri": "https://localhost:8080/",
     "height": 206
    },
    "executionInfo": {
     "elapsed": 21,
     "status": "ok",
     "timestamp": 1656029189149,
     "user": {
      "displayName": "Shittu-Gbeko Ilias Olakunle",
      "userId": "02327692346623940216"
     },
     "user_tz": -60
    },
    "id": "eYo80btWB505",
    "outputId": "1791637e-839c-4ad1-df03-6adb7745349d"
   },
   "outputs": [
    {
     "data": {
      "text/html": [
       "<div>\n",
       "<style scoped>\n",
       "    .dataframe tbody tr th:only-of-type {\n",
       "        vertical-align: middle;\n",
       "    }\n",
       "\n",
       "    .dataframe tbody tr th {\n",
       "        vertical-align: top;\n",
       "    }\n",
       "\n",
       "    .dataframe thead th {\n",
       "        text-align: right;\n",
       "    }\n",
       "</style>\n",
       "<table border=\"1\" class=\"dataframe\">\n",
       "  <thead>\n",
       "    <tr style=\"text-align: right;\">\n",
       "      <th></th>\n",
       "      <th>dd_Param2</th>\n",
       "      <th>mm_Param2</th>\n",
       "      <th>mm_Param1</th>\n",
       "      <th>dd_Param1</th>\n",
       "    </tr>\n",
       "  </thead>\n",
       "  <tbody>\n",
       "    <tr>\n",
       "      <th>0</th>\n",
       "      <td>0.03499</td>\n",
       "      <td>0.01777</td>\n",
       "      <td>4.03578</td>\n",
       "      <td>2.72268</td>\n",
       "    </tr>\n",
       "    <tr>\n",
       "      <th>1</th>\n",
       "      <td>0.03499</td>\n",
       "      <td>0.01777</td>\n",
       "      <td>4.03578</td>\n",
       "      <td>2.72268</td>\n",
       "    </tr>\n",
       "    <tr>\n",
       "      <th>2</th>\n",
       "      <td>0.04290</td>\n",
       "      <td>0.03544</td>\n",
       "      <td>3.10494</td>\n",
       "      <td>2.66623</td>\n",
       "    </tr>\n",
       "    <tr>\n",
       "      <th>3</th>\n",
       "      <td>0.04290</td>\n",
       "      <td>0.03544</td>\n",
       "      <td>3.10494</td>\n",
       "      <td>2.66623</td>\n",
       "    </tr>\n",
       "    <tr>\n",
       "      <th>4</th>\n",
       "      <td>0.06629</td>\n",
       "      <td>0.01079</td>\n",
       "      <td>2.93851</td>\n",
       "      <td>2.77049</td>\n",
       "    </tr>\n",
       "  </tbody>\n",
       "</table>\n",
       "</div>"
      ],
      "text/plain": [
       "   dd_Param2  mm_Param2  mm_Param1  dd_Param1\n",
       "0    0.03499    0.01777    4.03578    2.72268\n",
       "1    0.03499    0.01777    4.03578    2.72268\n",
       "2    0.04290    0.03544    3.10494    2.66623\n",
       "3    0.04290    0.03544    3.10494    2.66623\n",
       "4    0.06629    0.01079    2.93851    2.77049"
      ]
     },
     "execution_count": 68,
     "metadata": {},
     "output_type": "execute_result"
    }
   ],
   "source": [
    "data1[['dd_Param2','mm_Param2','mm_Param1','dd_Param1']].head(5)"
   ]
  },
  {
   "cell_type": "markdown",
   "id": "01f2193e-8834-4fb9-b47c-772bf0749b71",
   "metadata": {
    "id": "01f2193e-8834-4fb9-b47c-772bf0749b71"
   },
   "source": [
    "Splitting of datasets"
   ]
  },
  {
   "cell_type": "code",
   "execution_count": 69,
   "id": "e70bddac-e0c1-42e2-9ac4-d299864e17c1",
   "metadata": {
    "colab": {
     "base_uri": "https://localhost:8080/"
    },
    "executionInfo": {
     "elapsed": 514,
     "status": "ok",
     "timestamp": 1656029218781,
     "user": {
      "displayName": "Shittu-Gbeko Ilias Olakunle",
      "userId": "02327692346623940216"
     },
     "user_tz": -60
    },
    "id": "e70bddac-e0c1-42e2-9ac4-d299864e17c1",
    "outputId": "39271113-6101-48c3-e45e-4d55919706f1"
   },
   "outputs": [
    {
     "data": {
      "text/plain": [
       "(120368, 18)"
      ]
     },
     "execution_count": 69,
     "metadata": {},
     "output_type": "execute_result"
    }
   ],
   "source": [
    "data1.shape"
   ]
  },
  {
   "cell_type": "code",
   "execution_count": 70,
   "id": "4767e0ac-a33a-428c-b57c-5572ffa2f9b6",
   "metadata": {
    "id": "4767e0ac-a33a-428c-b57c-5572ffa2f9b6"
   },
   "outputs": [],
   "source": [
    "## The infinty values has to be taken care of to allow ease of pipeline implementation\n",
    "#data2 = data1.replace([np.inf,-np.inf],np.nan)\n",
    "#data2.dropna(inplace=True)"
   ]
  },
  {
   "cell_type": "code",
   "execution_count": 71,
   "id": "d92ef30f-338f-4053-bbb9-017f513a6cc5",
   "metadata": {
    "executionInfo": {
     "elapsed": 704,
     "status": "ok",
     "timestamp": 1656026810151,
     "user": {
      "displayName": "Shittu-Gbeko Ilias Olakunle",
      "userId": "02327692346623940216"
     },
     "user_tz": -60
    },
    "id": "d92ef30f-338f-4053-bbb9-017f513a6cc5"
   },
   "outputs": [],
   "source": [
    "#data2.shape"
   ]
  },
  {
   "cell_type": "code",
   "execution_count": 72,
   "id": "528eab86-0dac-40c9-9a69-8c16f2137615",
   "metadata": {
    "executionInfo": {
     "elapsed": 476,
     "status": "ok",
     "timestamp": 1656031212974,
     "user": {
      "displayName": "Shittu-Gbeko Ilias Olakunle",
      "userId": "02327692346623940216"
     },
     "user_tz": -60
    },
    "id": "528eab86-0dac-40c9-9a69-8c16f2137615"
   },
   "outputs": [],
   "source": [
    "## Only 60000 were entered correctly\n",
    "## Hence it is splitted into train and test \n",
    "train0 = data1.loc[:40000,:]\n",
    "test0 = data1.loc[40000:,]"
   ]
  },
  {
   "cell_type": "code",
   "execution_count": 73,
   "id": "28c77bd2-021b-4aab-8c6c-460acdf648a5",
   "metadata": {
    "colab": {
     "base_uri": "https://localhost:8080/"
    },
    "executionInfo": {
     "elapsed": 8,
     "status": "ok",
     "timestamp": 1656031214180,
     "user": {
      "displayName": "Shittu-Gbeko Ilias Olakunle",
      "userId": "02327692346623940216"
     },
     "user_tz": -60
    },
    "id": "28c77bd2-021b-4aab-8c6c-460acdf648a5",
    "outputId": "8a0f8bba-25cd-4040-aebc-dd50c3e93187"
   },
   "outputs": [
    {
     "name": "stdout",
     "output_type": "stream",
     "text": [
      "(39965, 18) (80404, 18)\n"
     ]
    }
   ],
   "source": [
    "print( train0.shape,test0.shape)"
   ]
  },
  {
   "cell_type": "code",
   "execution_count": 74,
   "id": "3PkxdFzXIi9j",
   "metadata": {
    "executionInfo": {
     "elapsed": 648,
     "status": "ok",
     "timestamp": 1656031239872,
     "user": {
      "displayName": "Shittu-Gbeko Ilias Olakunle",
      "userId": "02327692346623940216"
     },
     "user_tz": -60
    },
    "id": "3PkxdFzXIi9j"
   },
   "outputs": [],
   "source": [
    "train = test0\n",
    "test = train0"
   ]
  },
  {
   "cell_type": "code",
   "execution_count": 75,
   "id": "jIzwgwtuJk2T",
   "metadata": {
    "colab": {
     "base_uri": "https://localhost:8080/"
    },
    "executionInfo": {
     "elapsed": 647,
     "status": "ok",
     "timestamp": 1656031242406,
     "user": {
      "displayName": "Shittu-Gbeko Ilias Olakunle",
      "userId": "02327692346623940216"
     },
     "user_tz": -60
    },
    "id": "jIzwgwtuJk2T",
    "outputId": "cef06dab-e1e7-4434-abb2-aad0074c94c6"
   },
   "outputs": [
    {
     "name": "stdout",
     "output_type": "stream",
     "text": [
      "(80404, 18) (39965, 18)\n"
     ]
    }
   ],
   "source": [
    "print( train.shape,test.shape)"
   ]
  },
  {
   "cell_type": "markdown",
   "id": "z2j3ExXC8aL5",
   "metadata": {
    "id": "z2j3ExXC8aL5"
   },
   "source": [
    "Modelling"
   ]
  },
  {
   "cell_type": "code",
   "execution_count": 77,
   "id": "n7QTwAgA8PsL",
   "metadata": {
    "colab": {
     "base_uri": "https://localhost:8080/"
    },
    "executionInfo": {
     "elapsed": 481,
     "status": "ok",
     "timestamp": 1656031251462,
     "user": {
      "displayName": "Shittu-Gbeko Ilias Olakunle",
      "userId": "02327692346623940216"
     },
     "user_tz": -60
    },
    "id": "n7QTwAgA8PsL",
    "outputId": "5142eadd-e226-4069-d0f7-46928227a392"
   },
   "outputs": [
    {
     "ename": "ValueError",
     "evalue": "could not convert string to float: 'mnMI-8.5'",
     "output_type": "error",
     "traceback": [
      "\u001b[31m---------------------------------------------------------------------------\u001b[39m",
      "\u001b[31mValueError\u001b[39m                                Traceback (most recent call last)",
      "\u001b[36mCell\u001b[39m\u001b[36m \u001b[39m\u001b[32mIn[77]\u001b[39m\u001b[32m, line 1\u001b[39m\n\u001b[32m----> \u001b[39m\u001b[32m1\u001b[39m corr_matrix = \u001b[43mtrain\u001b[49m\u001b[43m.\u001b[49m\u001b[43mcorr\u001b[49m\u001b[43m(\u001b[49m\u001b[43m)\u001b[49m.abs()\n\u001b[32m      3\u001b[39m \u001b[38;5;66;03m# Select upper triangle of correlation matrix\u001b[39;00m\n\u001b[32m      4\u001b[39m upper = corr_matrix.where(np.triu(np.ones(corr_matrix.shape), k=\u001b[32m1\u001b[39m).astype(np.bool))\n",
      "\u001b[36mFile \u001b[39m\u001b[32mc:\\ProgramData\\anaconda3\\Lib\\site-packages\\pandas\\core\\frame.py:10054\u001b[39m, in \u001b[36mDataFrame.corr\u001b[39m\u001b[34m(self, method, min_periods, numeric_only)\u001b[39m\n\u001b[32m  10052\u001b[39m cols = data.columns\n\u001b[32m  10053\u001b[39m idx = cols.copy()\n\u001b[32m> \u001b[39m\u001b[32m10054\u001b[39m mat = \u001b[43mdata\u001b[49m\u001b[43m.\u001b[49m\u001b[43mto_numpy\u001b[49m\u001b[43m(\u001b[49m\u001b[43mdtype\u001b[49m\u001b[43m=\u001b[49m\u001b[38;5;28;43mfloat\u001b[39;49m\u001b[43m,\u001b[49m\u001b[43m \u001b[49m\u001b[43mna_value\u001b[49m\u001b[43m=\u001b[49m\u001b[43mnp\u001b[49m\u001b[43m.\u001b[49m\u001b[43mnan\u001b[49m\u001b[43m,\u001b[49m\u001b[43m \u001b[49m\u001b[43mcopy\u001b[49m\u001b[43m=\u001b[49m\u001b[38;5;28;43;01mFalse\u001b[39;49;00m\u001b[43m)\u001b[49m\n\u001b[32m  10056\u001b[39m \u001b[38;5;28;01mif\u001b[39;00m method == \u001b[33m\"\u001b[39m\u001b[33mpearson\u001b[39m\u001b[33m\"\u001b[39m:\n\u001b[32m  10057\u001b[39m     correl = libalgos.nancorr(mat, minp=min_periods)\n",
      "\u001b[36mFile \u001b[39m\u001b[32mc:\\ProgramData\\anaconda3\\Lib\\site-packages\\pandas\\core\\frame.py:1838\u001b[39m, in \u001b[36mDataFrame.to_numpy\u001b[39m\u001b[34m(self, dtype, copy, na_value)\u001b[39m\n\u001b[32m   1836\u001b[39m \u001b[38;5;28;01mif\u001b[39;00m dtype \u001b[38;5;129;01mis\u001b[39;00m \u001b[38;5;129;01mnot\u001b[39;00m \u001b[38;5;28;01mNone\u001b[39;00m:\n\u001b[32m   1837\u001b[39m     dtype = np.dtype(dtype)\n\u001b[32m-> \u001b[39m\u001b[32m1838\u001b[39m result = \u001b[38;5;28;43mself\u001b[39;49m\u001b[43m.\u001b[49m\u001b[43m_mgr\u001b[49m\u001b[43m.\u001b[49m\u001b[43mas_array\u001b[49m\u001b[43m(\u001b[49m\u001b[43mdtype\u001b[49m\u001b[43m=\u001b[49m\u001b[43mdtype\u001b[49m\u001b[43m,\u001b[49m\u001b[43m \u001b[49m\u001b[43mcopy\u001b[49m\u001b[43m=\u001b[49m\u001b[43mcopy\u001b[49m\u001b[43m,\u001b[49m\u001b[43m \u001b[49m\u001b[43mna_value\u001b[49m\u001b[43m=\u001b[49m\u001b[43mna_value\u001b[49m\u001b[43m)\u001b[49m\n\u001b[32m   1839\u001b[39m \u001b[38;5;28;01mif\u001b[39;00m result.dtype \u001b[38;5;129;01mis\u001b[39;00m \u001b[38;5;129;01mnot\u001b[39;00m dtype:\n\u001b[32m   1840\u001b[39m     result = np.array(result, dtype=dtype, copy=\u001b[38;5;28;01mFalse\u001b[39;00m)\n",
      "\u001b[36mFile \u001b[39m\u001b[32mc:\\ProgramData\\anaconda3\\Lib\\site-packages\\pandas\\core\\internals\\managers.py:1732\u001b[39m, in \u001b[36mBlockManager.as_array\u001b[39m\u001b[34m(self, dtype, copy, na_value)\u001b[39m\n\u001b[32m   1730\u001b[39m         arr.flags.writeable = \u001b[38;5;28;01mFalse\u001b[39;00m\n\u001b[32m   1731\u001b[39m \u001b[38;5;28;01melse\u001b[39;00m:\n\u001b[32m-> \u001b[39m\u001b[32m1732\u001b[39m     arr = \u001b[38;5;28;43mself\u001b[39;49m\u001b[43m.\u001b[49m\u001b[43m_interleave\u001b[49m\u001b[43m(\u001b[49m\u001b[43mdtype\u001b[49m\u001b[43m=\u001b[49m\u001b[43mdtype\u001b[49m\u001b[43m,\u001b[49m\u001b[43m \u001b[49m\u001b[43mna_value\u001b[49m\u001b[43m=\u001b[49m\u001b[43mna_value\u001b[49m\u001b[43m)\u001b[49m\n\u001b[32m   1733\u001b[39m     \u001b[38;5;66;03m# The underlying data was copied within _interleave, so no need\u001b[39;00m\n\u001b[32m   1734\u001b[39m     \u001b[38;5;66;03m# to further copy if copy=True or setting na_value\u001b[39;00m\n\u001b[32m   1736\u001b[39m \u001b[38;5;28;01mif\u001b[39;00m na_value \u001b[38;5;129;01mis\u001b[39;00m \u001b[38;5;129;01mnot\u001b[39;00m lib.no_default:\n",
      "\u001b[36mFile \u001b[39m\u001b[32mc:\\ProgramData\\anaconda3\\Lib\\site-packages\\pandas\\core\\internals\\managers.py:1794\u001b[39m, in \u001b[36mBlockManager._interleave\u001b[39m\u001b[34m(self, dtype, na_value)\u001b[39m\n\u001b[32m   1792\u001b[39m     \u001b[38;5;28;01melse\u001b[39;00m:\n\u001b[32m   1793\u001b[39m         arr = blk.get_values(dtype)\n\u001b[32m-> \u001b[39m\u001b[32m1794\u001b[39m     \u001b[43mresult\u001b[49m\u001b[43m[\u001b[49m\u001b[43mrl\u001b[49m\u001b[43m.\u001b[49m\u001b[43mindexer\u001b[49m\u001b[43m]\u001b[49m = arr\n\u001b[32m   1795\u001b[39m     itemmask[rl.indexer] = \u001b[32m1\u001b[39m\n\u001b[32m   1797\u001b[39m \u001b[38;5;28;01mif\u001b[39;00m \u001b[38;5;129;01mnot\u001b[39;00m itemmask.all():\n",
      "\u001b[31mValueError\u001b[39m: could not convert string to float: 'mnMI-8.5'"
     ]
    }
   ],
   "source": [
    "corr_matrix = train.corr().abs()\n",
    "\n",
    "# Select upper triangle of correlation matrix\n",
    "upper = corr_matrix.where(np.triu(np.ones(corr_matrix.shape), k=1).astype(np.bool))\n",
    "\n",
    "# Find index of feature columns with correlation greater than 0.95\n",
    "to_drop = [column for column in upper.columns if any(upper[column] > 0.95)]\n",
    "\n",
    "# Drop features \n",
    "to_drop "
   ]
  },
  {
   "cell_type": "code",
   "execution_count": 78,
   "id": "MaBHqa8RDPo7",
   "metadata": {
    "colab": {
     "base_uri": "https://localhost:8080/",
     "height": 112
    },
    "executionInfo": {
     "elapsed": 15,
     "status": "ok",
     "timestamp": 1656029535863,
     "user": {
      "displayName": "Shittu-Gbeko Ilias Olakunle",
      "userId": "02327692346623940216"
     },
     "user_tz": -60
    },
    "id": "MaBHqa8RDPo7",
    "outputId": "090a630e-fde0-43fc-bd03-1c3756fabd1d"
   },
   "outputs": [
    {
     "ename": "NameError",
     "evalue": "name 'to_drop' is not defined",
     "output_type": "error",
     "traceback": [
      "\u001b[31m---------------------------------------------------------------------------\u001b[39m",
      "\u001b[31mNameError\u001b[39m                                 Traceback (most recent call last)",
      "\u001b[36mCell\u001b[39m\u001b[36m \u001b[39m\u001b[32mIn[78]\u001b[39m\u001b[32m, line 1\u001b[39m\n\u001b[32m----> \u001b[39m\u001b[32m1\u001b[39m train[\u001b[43mto_drop\u001b[49m].corr()\n",
      "\u001b[31mNameError\u001b[39m: name 'to_drop' is not defined"
     ]
    }
   ],
   "source": [
    "train[to_drop].corr()"
   ]
  },
  {
   "cell_type": "code",
   "execution_count": 80,
   "id": "X1_1p_O2Dkwc",
   "metadata": {
    "colab": {
     "base_uri": "https://localhost:8080/"
    },
    "executionInfo": {
     "elapsed": 3580,
     "status": "ok",
     "timestamp": 1656031260768,
     "user": {
      "displayName": "Shittu-Gbeko Ilias Olakunle",
      "userId": "02327692346623940216"
     },
     "user_tz": -60
    },
    "id": "X1_1p_O2Dkwc",
    "outputId": "9779b971-945b-43ab-e2cd-31dacf1258b1"
   },
   "outputs": [
    {
     "ename": "TypeError",
     "evalue": "LGBMClassifier.fit() got an unexpected keyword argument 'early_stopping_rounds'",
     "output_type": "error",
     "traceback": [
      "\u001b[31m---------------------------------------------------------------------------\u001b[39m",
      "\u001b[31mTypeError\u001b[39m                                 Traceback (most recent call last)",
      "\u001b[36mCell\u001b[39m\u001b[36m \u001b[39m\u001b[32mIn[80]\u001b[39m\u001b[32m, line 18\u001b[39m\n\u001b[32m     15\u001b[39m X_train, X_test, y_train, y_test = train_test_split(X, y, test_size = \u001b[32m0.25\u001b[39m, random_state = i,shuffle=\u001b[38;5;28;01mTrue\u001b[39;00m)\n\u001b[32m     17\u001b[39m \u001b[38;5;66;03m# Train using early stopping\u001b[39;00m\n\u001b[32m---> \u001b[39m\u001b[32m18\u001b[39m \u001b[43mmodel\u001b[49m\u001b[43m.\u001b[49m\u001b[43mfit\u001b[49m\u001b[43m(\u001b[49m\u001b[43mX_train\u001b[49m\u001b[43m,\u001b[49m\u001b[43m \u001b[49m\u001b[43my_train\u001b[49m\u001b[43m,\u001b[49m\u001b[43m \u001b[49m\u001b[43mearly_stopping_rounds\u001b[49m\u001b[43m=\u001b[49m\u001b[32;43m100\u001b[39;49m\u001b[43m,\u001b[49m\u001b[43m \u001b[49m\u001b[43meval_set\u001b[49m\u001b[43m \u001b[49m\u001b[43m=\u001b[49m\u001b[43m \u001b[49m\u001b[43m[\u001b[49m\u001b[43m(\u001b[49m\u001b[43mX_test\u001b[49m\u001b[43m,\u001b[49m\u001b[43m \u001b[49m\u001b[43my_test\u001b[49m\u001b[43m)\u001b[49m\u001b[43m]\u001b[49m\u001b[43m,\u001b[49m\u001b[43m \u001b[49m\n\u001b[32m     19\u001b[39m \u001b[43m          \u001b[49m\u001b[43meval_metric\u001b[49m\u001b[43m \u001b[49m\u001b[43m=\u001b[49m\u001b[43m \u001b[49m\u001b[33;43m'\u001b[39;49m\u001b[33;43mroc_auc_score\u001b[39;49m\u001b[33;43m'\u001b[39;49m\u001b[43m,\u001b[49m\u001b[43m \u001b[49m\u001b[43mverbose\u001b[49m\u001b[43m \u001b[49m\u001b[43m=\u001b[49m\u001b[43m \u001b[49m\u001b[32;43m200\u001b[39;49m\u001b[43m)\u001b[49m\n\u001b[32m     21\u001b[39m \u001b[38;5;66;03m# Record the feature importances\u001b[39;00m\n\u001b[32m     22\u001b[39m feature_importances_lgb += model.feature_importances_\n",
      "\u001b[31mTypeError\u001b[39m: LGBMClassifier.fit() got an unexpected keyword argument 'early_stopping_rounds'"
     ]
    }
   ],
   "source": [
    "# Initialize an empty array to hold feature importances\n",
    "X = train.drop(['Site_no'],axis=1)\n",
    "y = train['Uncen']\n",
    "feature_importances_lgb = np.zeros(X.shape[1])\n",
    "\n",
    "# Create the model with several hyperparameters\n",
    "model = LGBMClassifier(n_estimators=10000,\n",
    "                      random_state=32,\n",
    "                      )\n",
    "# Fit the model twice to avoid overfitting\n",
    "\n",
    "for i in range(2):\n",
    "    \n",
    "    # Split into training and validation set\n",
    "    X_train, X_test, y_train, y_test = train_test_split(X, y, test_size = 0.25, random_state = i,shuffle=True)\n",
    "    \n",
    "    # Train using early stopping\n",
    "    model.fit(X_train, y_train, early_stopping_rounds=100, eval_set = [(X_test, y_test)], \n",
    "              eval_metric = 'roc_auc_score', verbose = 200)\n",
    "    \n",
    "    # Record the feature importances\n",
    "    feature_importances_lgb += model.feature_importances_\n",
    "\n",
    "# Make sure to average feature importances! \n",
    "feature_importances_lgb = feature_importances_lgb / 2\n",
    "feature_importances_lgb = pd.DataFrame({'feature': list(X.columns), 'importance': feature_importances_lgb}).sort_values('importance', ascending = False)\n"
   ]
  },
  {
   "cell_type": "code",
   "execution_count": 81,
   "id": "dREYMKTzEjH8",
   "metadata": {
    "colab": {
     "base_uri": "https://localhost:8080/",
     "height": 601
    },
    "executionInfo": {
     "elapsed": 511,
     "status": "ok",
     "timestamp": 1656031280632,
     "user": {
      "displayName": "Shittu-Gbeko Ilias Olakunle",
      "userId": "02327692346623940216"
     },
     "user_tz": -60
    },
    "id": "dREYMKTzEjH8",
    "outputId": "3353ab4e-384e-432b-de43-d4432cc6b450"
   },
   "outputs": [
    {
     "ename": "IndexError",
     "evalue": "only integers, slices (`:`), ellipsis (`...`), numpy.newaxis (`None`) and integer or boolean arrays are valid indices",
     "output_type": "error",
     "traceback": [
      "\u001b[31m---------------------------------------------------------------------------\u001b[39m",
      "\u001b[31mIndexError\u001b[39m                                Traceback (most recent call last)",
      "\u001b[36mCell\u001b[39m\u001b[36m \u001b[39m\u001b[32mIn[81]\u001b[39m\u001b[32m, line 2\u001b[39m\n\u001b[32m      1\u001b[39m \u001b[38;5;66;03m# Find the features with zero importance\u001b[39;00m\n\u001b[32m----> \u001b[39m\u001b[32m2\u001b[39m zero_features = \u001b[38;5;28mlist\u001b[39m(feature_importances_lgb[\u001b[43mfeature_importances_lgb\u001b[49m\u001b[43m[\u001b[49m\u001b[33;43m'\u001b[39;49m\u001b[33;43mimportance\u001b[39;49m\u001b[33;43m'\u001b[39;49m\u001b[43m]\u001b[49m == \u001b[32m0.0\u001b[39m][\u001b[33m'\u001b[39m\u001b[33mfeature\u001b[39m\u001b[33m'\u001b[39m])\n\u001b[32m      3\u001b[39m \u001b[38;5;28mprint\u001b[39m(\u001b[33m'\u001b[39m\u001b[33mThere are \u001b[39m\u001b[38;5;132;01m%d\u001b[39;00m\u001b[33m features with 0.0 importance\u001b[39m\u001b[33m'\u001b[39m % \u001b[38;5;28mlen\u001b[39m(zero_features))\n\u001b[32m      4\u001b[39m feature_importances_lgb.head(\u001b[32m100\u001b[39m)\n",
      "\u001b[31mIndexError\u001b[39m: only integers, slices (`:`), ellipsis (`...`), numpy.newaxis (`None`) and integer or boolean arrays are valid indices"
     ]
    }
   ],
   "source": [
    "# Find the features with zero importance\n",
    "zero_features = list(feature_importances_lgb[feature_importances_lgb['importance'] == 0.0]['feature'])\n",
    "print('There are %d features with 0.0 importance' % len(zero_features))\n",
    "feature_importances_lgb.head(100)"
   ]
  },
  {
   "cell_type": "code",
   "execution_count": 82,
   "id": "62YKbxgTE453",
   "metadata": {
    "executionInfo": {
     "elapsed": 517,
     "status": "ok",
     "timestamp": 1656029956118,
     "user": {
      "displayName": "Shittu-Gbeko Ilias Olakunle",
      "userId": "02327692346623940216"
     },
     "user_tz": -60
    },
    "id": "62YKbxgTE453"
   },
   "outputs": [],
   "source": [
    "def plot_feature_importances(df, threshold = 0.9):\n",
    "    \"\"\"\n",
    "    Plots 15 most important features and the cumulative importance of features.\n",
    "    Prints the number of features needed to reach threshold cumulative importance.\n",
    "    \n",
    "    Parameters\n",
    "    --------\n",
    "    df : dataframe\n",
    "        Dataframe of feature importances. Columns must be feature and importance\n",
    "    threshold : float, default = 0.9\n",
    "        Threshold for prining information about cumulative importances\n",
    "        \n",
    "    Return\n",
    "    --------\n",
    "    df : dataframe\n",
    "        Dataframe ordered by feature importances with a normalized column (sums to 1)\n",
    "        and a cumulative importance column\n",
    "    \n",
    "    \"\"\"\n",
    "    \n",
    "    plt.rcParams['font.size'] = 18\n",
    "    \n",
    "    # Sort features according to importance\n",
    "    df = df.sort_values('importance', ascending = False).reset_index()\n",
    "    \n",
    "    # Normalize the feature importances to add up to one\n",
    "    df['importance_normalized'] = df['importance'] / df['importance'].sum()\n",
    "    df['cumulative_importance'] = np.cumsum(df['importance_normalized'])\n",
    "\n",
    "    # Make a horizontal bar chart of feature importances\n",
    "    plt.figure(figsize = (10, 6))\n",
    "    ax = plt.subplot()\n",
    "    \n",
    "    # Need to reverse the index to plot most important on top\n",
    "    ax.barh(list(reversed(list(df.index[:15]))), \n",
    "            df['importance_normalized'].head(15), \n",
    "            align = 'center', edgecolor = 'k')\n",
    "    \n",
    "    # Set the yticks and labels\n",
    "    ax.set_yticks(list(reversed(list(df.index[:15]))))\n",
    "    ax.set_yticklabels(df['feature'].head(15))\n",
    "    \n",
    "    # Plot labeling\n",
    "    plt.xlabel('Normalized Importance'); plt.title('Feature Importances')\n",
    "    plt.show()\n",
    "    \n",
    "    # Cumulative importance plot\n",
    "    plt.figure(figsize = (8, 6))\n",
    "    plt.plot(list(range(len(df))), df['cumulative_importance'], 'r-')\n",
    "    plt.xlabel('Number of Features'); plt.ylabel('Cumulative Importance'); \n",
    "    plt.title('Cumulative Feature Importance');\n",
    "    plt.show();\n",
    "    \n",
    "    importance_index = np.min(np.where(df['cumulative_importance'] > threshold))\n",
    "    print('%d features required for %0.2f of cumulative importance' % (importance_index + 1, threshold))\n",
    "    \n",
    "    return df"
   ]
  },
  {
   "cell_type": "code",
   "execution_count": 83,
   "id": "oYb2eGiGFTlr",
   "metadata": {
    "executionInfo": {
     "elapsed": 3657,
     "status": "ok",
     "timestamp": 1656031313814,
     "user": {
      "displayName": "Shittu-Gbeko Ilias Olakunle",
      "userId": "02327692346623940216"
     },
     "user_tz": -60
    },
    "id": "oYb2eGiGFTlr"
   },
   "outputs": [],
   "source": [
    "# Initialize an empty array to hold feature importances\n",
    "X = train.drop(['Site_no'],axis=1)\n",
    "y = train['Uncen']\n",
    "feature_importances_lgb = np.zeros(X.shape[1])\n",
    "\n",
    "# Create the model with several hyperparameters\n",
    "model = RandomForestClassifier(\n",
    "                      random_state=32,\n",
    "                      )\n",
    "# Fit the model twice to avoid overfitting\n",
    "\n",
    "for i in range(2):\n",
    "    \n",
    "    # Split into training and validation set\n",
    "    X_train, X_test, y_train, y_test = train_test_split(X, y, test_size = 0.25, random_state = i,shuffle=True)\n",
    "    \n",
    "    # Train using early stopping\n",
    "    model.fit(X_train, y_train)\n",
    "    \n",
    "    # Record the feature importances\n",
    "    feature_importances_lgb += model.feature_importances_\n",
    "\n",
    "# Make sure to average feature importances! \n",
    "feature_importances_lgb = feature_importances_lgb / 2\n",
    "feature_importances_lgb = pd.DataFrame({'feature': list(X.columns), 'importance': feature_importances_lgb}).sort_values('importance', ascending = False)\n"
   ]
  },
  {
   "cell_type": "code",
   "execution_count": 84,
   "id": "durvs7JcF0Tg",
   "metadata": {
    "colab": {
     "base_uri": "https://localhost:8080/"
    },
    "executionInfo": {
     "elapsed": 582,
     "status": "ok",
     "timestamp": 1656031333762,
     "user": {
      "displayName": "Shittu-Gbeko Ilias Olakunle",
      "userId": "02327692346623940216"
     },
     "user_tz": -60
    },
    "id": "durvs7JcF0Tg",
    "outputId": "ccc21a04-90a7-41f1-bc51-0afd9257207e"
   },
   "outputs": [
    {
     "name": "stdout",
     "output_type": "stream",
     "text": [
      "              precision    recall  f1-score   support\n",
      "\n",
      "           0       1.00      1.00      1.00     14968\n",
      "           1       1.00      1.00      1.00      5133\n",
      "\n",
      "    accuracy                           1.00     20101\n",
      "   macro avg       1.00      1.00      1.00     20101\n",
      "weighted avg       1.00      1.00      1.00     20101\n",
      "\n",
      "1.0\n"
     ]
    }
   ],
   "source": [
    "## Prediction on test set\n",
    "predictions = model.predict(X_test)\n",
    "\n",
    "## Metrics \n",
    "print(classification_report(y_test,predictions))\n",
    "\n",
    "print(accuracy_score(y_test,predictions))"
   ]
  },
  {
   "cell_type": "code",
   "execution_count": 86,
   "id": "nYsLOBwFGa1F",
   "metadata": {
    "colab": {
     "base_uri": "https://localhost:8080/",
     "height": 582
    },
    "executionInfo": {
     "elapsed": 1748,
     "status": "ok",
     "timestamp": 1656031344507,
     "user": {
      "displayName": "Shittu-Gbeko Ilias Olakunle",
      "userId": "02327692346623940216"
     },
     "user_tz": -60
    },
    "id": "nYsLOBwFGa1F",
    "outputId": "813aadcc-d81a-409f-907c-a9e73888102d"
   },
   "outputs": [
    {
     "name": "stdout",
     "output_type": "stream",
     "text": [
      "Feature: 0, Score: 0.50384\n",
      "Feature: 1, Score: -0.48412\n",
      "Feature: 2, Score: -9.00226\n",
      "Feature: 3, Score: 16.40120\n",
      "Feature: 4, Score: -0.01123\n",
      "Feature: 5, Score: -0.66115\n",
      "Feature: 6, Score: -0.03872\n",
      "Feature: 7, Score: 0.01972\n",
      "Feature: 8, Score: -0.98797\n",
      "Feature: 9, Score: -0.00022\n",
      "Feature: 10, Score: -0.00009\n",
      "Feature: 11, Score: -0.00000\n",
      "Feature: 12, Score: -0.00000\n",
      "Feature: 13, Score: 1.15383\n",
      "Feature: 14, Score: 3.33714\n",
      "Feature: 15, Score: -0.16436\n",
      "Feature: 16, Score: -0.13114\n"
     ]
    },
    {
     "data": {
      "image/png": "[encoded data removed]",
      "text/plain": [
       "<Figure size 640x480 with 1 Axes>"
      ]
     },
     "metadata": {},
     "output_type": "display_data"
    }
   ],
   "source": [
    "# define the model\n",
    "LoRmodel = LogisticRegression(random_state=32)\n",
    "\n",
    "# fit the model\n",
    "LoRmodel.fit(X_train, y_train)\n",
    "\n",
    "# get importance\n",
    "importance = LoRmodel.coef_[0]\n",
    "\n",
    "# summarize feature importance\n",
    "for i,v in enumerate(importance):\n",
    "\tprint('Feature: %0d, Score: %.5f' % (i,v))\n",
    "\n",
    "# plot feature importance\n",
    "plt.bar([x for x in range(len(importance))], importance)\n",
    "plt.show()"
   ]
  },
  {
   "cell_type": "code",
   "execution_count": 87,
   "id": "a9th2AIdKlQ4",
   "metadata": {
    "colab": {
     "base_uri": "https://localhost:8080/",
     "height": 582
    },
    "executionInfo": {
     "elapsed": 6404,
     "status": "ok",
     "timestamp": 1656031503548,
     "user": {
      "displayName": "Shittu-Gbeko Ilias Olakunle",
      "userId": "02327692346623940216"
     },
     "user_tz": -60
    },
    "id": "a9th2AIdKlQ4",
    "outputId": "734a81dc-a0b7-4a71-c804-b71622615594"
   },
   "outputs": [
    {
     "name": "stdout",
     "output_type": "stream",
     "text": [
      "Feature: 0, Score: 0.00000\n",
      "Feature: 1, Score: 0.00000\n",
      "Feature: 2, Score: 0.00000\n",
      "Feature: 3, Score: 1.00000\n",
      "Feature: 4, Score: 0.00000\n",
      "Feature: 5, Score: 0.00000\n",
      "Feature: 6, Score: 0.00000\n",
      "Feature: 7, Score: 0.00000\n",
      "Feature: 8, Score: 0.00000\n",
      "Feature: 9, Score: 0.00000\n",
      "Feature: 10, Score: 0.00000\n",
      "Feature: 11, Score: 0.00000\n",
      "Feature: 12, Score: 0.00000\n",
      "Feature: 13, Score: 0.00000\n",
      "Feature: 14, Score: 0.00000\n",
      "Feature: 15, Score: 0.00000\n",
      "Feature: 16, Score: 0.00000\n"
     ]
    },
    {
     "data": {
      "image/png": "[encoded data removed]",
      "text/plain": [
       "<Figure size 640x480 with 1 Axes>"
      ]
     },
     "metadata": {},
     "output_type": "display_data"
    }
   ],
   "source": [
    "# define the model\n",
    "XGBRmodel = XGBClassifier()\n",
    "\n",
    "# fit the model\n",
    "XGBRmodel.fit(X_train, y_train)\n",
    "\n",
    "# get importance\n",
    "importance = XGBRmodel.feature_importances_\n",
    "\n",
    "# summarize feature importance\n",
    "for i,v in enumerate(importance):\n",
    "\tprint('Feature: %0d, Score: %.5f' % (i,v))\n",
    "\n",
    "    # plot feature importance\n",
    "plt.bar([x for x in range(len(importance))], importance)\n",
    "plt.show()"
   ]
  },
  {
   "cell_type": "code",
   "execution_count": 88,
   "id": "OaK6p5u2LCQk",
   "metadata": {
    "colab": {
     "base_uri": "https://localhost:8080/"
    },
    "executionInfo": {
     "elapsed": 1482,
     "status": "ok",
     "timestamp": 1656031594566,
     "user": {
      "displayName": "Shittu-Gbeko Ilias Olakunle",
      "userId": "02327692346623940216"
     },
     "user_tz": -60
    },
    "id": "OaK6p5u2LCQk",
    "outputId": "1313dd14-6160-4699-ebcd-a831e6cad549"
   },
   "outputs": [
    {
     "name": "stdout",
     "output_type": "stream",
     "text": [
      "              precision    recall  f1-score   support\n",
      "\n",
      "           0       1.00      1.00      1.00     14968\n",
      "           1       1.00      1.00      1.00      5133\n",
      "\n",
      "    accuracy                           1.00     20101\n",
      "   macro avg       1.00      1.00      1.00     20101\n",
      "weighted avg       1.00      1.00      1.00     20101\n",
      "\n",
      "1.0\n"
     ]
    }
   ],
   "source": [
    "## Prediction on test set\n",
    "predictions = model.predict(X_test)\n",
    "\n",
    "## Metrics \n",
    "print(classification_report(y_test,predictions))\n",
    "\n",
    "print(accuracy_score(y_test,predictions))"
   ]
  },
  {
   "cell_type": "code",
   "execution_count": null,
   "id": "I_SOq5dELWnN",
   "metadata": {
    "id": "I_SOq5dELWnN"
   },
   "outputs": [],
   "source": [
    "# define the model\n",
    "KNCmodel = KNeighborsClassifier()\n",
    "\n",
    "# fit the model\n",
    "KNCmodel.fit(X_train, y_train)\n",
    "\n",
    "# perform permutation importance\n",
    "results = permutation_importance(KNCmodel, X_train, y_train, scoring='accuracy')\n",
    "\n",
    "# get importance\n",
    "importance = results.importances_mean\n",
    "\n",
    "# summarize feature importance\n",
    "for i,v in enumerate(importance):\n",
    "\tprint('Feature: %0d, Score: %.5f' % (i,v))\n",
    "\n",
    "    # plot feature importance\n",
    "plt.bar([x for x in range(len(importance))], importance)\n",
    "plt.show()"
   ]
  },
  {
   "cell_type": "code",
   "execution_count": null,
   "id": "c32bc375-1f62-42b3-a76f-faabdf556495",
   "metadata": {
    "id": "c32bc375-1f62-42b3-a76f-faabdf556495"
   },
   "outputs": [],
   "source": [
    "## This Pipeline will contain the preprocessing steps which includes:\n",
    "## Scaling of numerical features\n",
    "## Encoding of categorical features"
   ]
  },
  {
   "cell_type": "code",
   "execution_count": null,
   "id": "b676af77-247f-4f34-8b9e-a581a884acab",
   "metadata": {
    "id": "b676af77-247f-4f34-8b9e-a581a884acab"
   },
   "outputs": [],
   "source": [
    "## Define Features and Labels\n",
    "features = ['ParamLow', 'ParamHigh', 'Parameter', 'Datetime_day' ,'Datetime_month',\t'Datetime_year']\n",
    "labels = ['Uncen']\n",
    "\n",
    "\n",
    "## Declare variables\n",
    "X = data1[features]\n",
    "y = data1[labels]\n",
    "\n",
    "X_train, X_test, y_train, y_test = train_test_split(X, y, test_size = 0.3,random_state=0)\n"
   ]
  },
  {
   "cell_type": "code",
   "execution_count": null,
   "id": "7f93113a-e30a-4bef-a030-635a4205a859",
   "metadata": {
    "id": "7f93113a-e30a-4bef-a030-635a4205a859",
    "outputId": "dac4a06e-d14d-4a46-f3b8-f1717a66fa4d"
   },
   "outputs": [
    {
     "name": "stdout",
     "output_type": "stream",
     "text": [
      "Pipeline(steps=[('preprocessor',\n",
      "                 ColumnTransformer(transformers=[('num',\n",
      "                                                  Pipeline(steps=[('scaler',\n",
      "                                                                   StandardScaler())]),\n",
      "                                                  ['ParamHigh', 'ParamLow',\n",
      "                                                   'Datetime_day',\n",
      "                                                   'Datetime_month',\n",
      "                                                   'Datetime_year']),\n",
      "                                                 ('cat',\n",
      "                                                  Pipeline(steps=[('onehot',\n",
      "                                                                   OneHotEncoder(handle_unknown='ignore'))]),\n",
      "                                                  ['Parameter'])])),\n",
      "                ('classifier', DecisionTreeClassifier())])\n"
     ]
    }
   ],
   "source": [
    "#With Pipeline\n",
    "## define preprocessing for numeric features(scale them)\n",
    "numeric_features = ['ParamHigh','ParamLow','Datetime_day','Datetime_month','Datetime_year']\n",
    "numeric_transformer = Pipeline(steps=[\n",
    "    ('scaler', StandardScaler())])\n",
    "\n",
    "\n",
    "## define preprocessing for categorical features(encode them)\n",
    "categorical_features = ['Parameter',]\n",
    "categorical_transformer = Pipeline(steps=[\n",
    "    ('onehot', OneHotEncoder(handle_unknown='ignore'))])\n",
    "\n",
    "\n",
    "## amalgamate preprocessing steps\n",
    "preprocessor = ColumnTransformer(\n",
    "    transformers=[\n",
    "        ('num', numeric_transformer, numeric_features),\n",
    "        ('cat', categorical_transformer, categorical_features)])\n",
    "\n",
    "\n",
    "## create preprocessing and training pipeline\n",
    "pipeline = Pipeline(steps=[('preprocessor', preprocessor),\n",
    "                           ('classifier', DecisionTreeClassifier())])\n",
    "\n",
    "## fit the pipeline to train a linear regression model on the training set\n",
    "PIPEmodel = pipeline.fit(X_train,y_train)\n",
    "print (PIPEmodel)"
   ]
  },
  {
   "cell_type": "code",
   "execution_count": null,
   "id": "c24ebe38-72ed-4d6e-97fa-7bd539fc6fd0",
   "metadata": {
    "id": "c24ebe38-72ed-4d6e-97fa-7bd539fc6fd0",
    "outputId": "18766783-c6e8-4058-f5c8-9b1d13842c72"
   },
   "outputs": [
    {
     "name": "stdout",
     "output_type": "stream",
     "text": [
      "              precision    recall  f1-score   support\n",
      "\n",
      "           0       1.00      1.00      1.00     18118\n",
      "           1       1.00      1.00      1.00     18002\n",
      "\n",
      "    accuracy                           1.00     36120\n",
      "   macro avg       1.00      1.00      1.00     36120\n",
      "weighted avg       1.00      1.00      1.00     36120\n",
      "\n",
      "0.9996677740863787\n"
     ]
    }
   ],
   "source": [
    "## Prediction on test set\n",
    "PIPEpredictions = PIPEmodel.predict(X_test)\n",
    "\n",
    "## Metrics \n",
    "print(classification_report(y_test,PIPEpredictions))\n",
    "\n",
    "print(accuracy_score(y_test,PIPEpredictions))"
   ]
  },
  {
   "cell_type": "markdown",
   "id": "0f32cb74-d4f8-4d21-8d1d-6f72f4c34dd8",
   "metadata": {
    "id": "0f32cb74-d4f8-4d21-8d1d-6f72f4c34dd8"
   },
   "source": [
    "###### The predict_proba function cannot be used in this case as the y_test is a binary value and not a multi countinous target"
   ]
  },
  {
   "cell_type": "code",
   "execution_count": null,
   "id": "21ce7cd9-6bfa-4d64-9309-62e9eee46edb",
   "metadata": {
    "id": "21ce7cd9-6bfa-4d64-9309-62e9eee46edb",
    "outputId": "0f2896e2-6ea9-491a-bdf8-ad561cda356c"
   },
   "outputs": [
    {
     "name": "stdout",
     "output_type": "stream",
     "text": [
      "0.999666703699589\n"
     ]
    }
   ],
   "source": [
    "print(roc_auc_score(y_test,PIPEpredictions))"
   ]
  },
  {
   "cell_type": "code",
   "execution_count": null,
   "id": "bdf9ce30-7615-48aa-bf82-d4329bc87812",
   "metadata": {
    "id": "bdf9ce30-7615-48aa-bf82-d4329bc87812",
    "outputId": "100ded60-3815-4061-aced-d837418021e1"
   },
   "outputs": [
    {
     "data": {
      "image/png": "[encoded data removed]",
      "text/plain": [
       "<Figure size 1080x504 with 2 Axes>"
      ]
     },
     "metadata": {},
     "output_type": "display_data"
    }
   ],
   "source": [
    "# Confusion matrix\n",
    "cm = confusion_matrix(y_test, PIPEpredictions, labels=PIPEmodel.classes_)\n",
    "disp = ConfusionMatrixDisplay(confusion_matrix=cm, display_labels=PIPEmodel.classes_)\n",
    "fig, ax = plt.subplots(figsize=(15,7))\n",
    "disp.plot(ax=ax)\n",
    "plt.show()"
   ]
  },
  {
   "cell_type": "markdown",
   "id": "fea73574-aa37-487e-9fd0-5e2527be5ad6",
   "metadata": {
    "id": "fea73574-aa37-487e-9fd0-5e2527be5ad6"
   },
   "source": [
    "The model predicts quite well on the test set, However Perfomance can still be improved "
   ]
  },
  {
   "cell_type": "markdown",
   "id": "425738ad-ddeb-4de5-a016-73e3ad61cdd7",
   "metadata": {
    "id": "425738ad-ddeb-4de5-a016-73e3ad61cdd7"
   },
   "source": [
    "Considering the metrics roc_auc_score, \n",
    "RandomForestClassifier proved to be the best model"
   ]
  },
  {
   "cell_type": "markdown",
   "id": "c0bb8dd8-6e0c-4d8a-9346-99c87b6dce83",
   "metadata": {
    "id": "c0bb8dd8-6e0c-4d8a-9346-99c87b6dce83"
   },
   "source": [
    "LogisticRegression        0.8283801799800022\n",
    "\n",
    "RandomForestClassifier    0.9999722253082991\n",
    "\n",
    "DecisionTreeClassifier    0.9996667036995890"
   ]
  },
  {
   "cell_type": "code",
   "execution_count": null,
   "id": "c694a1f7-aad3-4b99-ba0d-4da6d42dbccd",
   "metadata": {
    "id": "c694a1f7-aad3-4b99-ba0d-4da6d42dbccd",
    "outputId": "0ccb146a-ebed-47b3-8364-21a1449333e2"
   },
   "outputs": [
    {
     "data": {
      "text/plain": [
       "['./MODELS.pkl']"
      ]
     },
     "execution_count": 156,
     "metadata": {},
     "output_type": "execute_result"
    }
   ],
   "source": [
    "## Saving the best model as a pickle file\n",
    "\n",
    "filename = './MODELS.pkl'\n",
    "joblib.dump(PIPEmodel, filename)\n",
    "\n",
    "\n"
   ]
  }
 ],
 "metadata": {
  "colab": {
   "collapsed_sections": [
    "fea73574-aa37-487e-9fd0-5e2527be5ad6"
   ],
   "name": "Corrosivity Index and Streamflow Notebook.ipynb",
   "provenance": []
  },
  "kernelspec": {
   "display_name": "base",
   "language": "python",
   "name": "python3"
  },
  "language_info": {
   "codemirror_mode": {
    "name": "ipython",
    "version": 3
   },
   "file_extension": ".py",
   "mimetype": "text/x-python",
   "name": "python",
   "nbconvert_exporter": "python",
   "pygments_lexer": "ipython3",
   "version": "3.11.5"
  }
 },
 "nbformat": 4,
 "nbformat_minor": 5
}
